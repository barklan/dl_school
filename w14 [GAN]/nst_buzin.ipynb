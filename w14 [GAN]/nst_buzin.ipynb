{
 "cells": [
  {
   "cell_type": "markdown",
   "metadata": {
    "colab_type": "text",
    "id": "_Yr7xR_VFKoi"
   },
   "source": [
    "# Постановка задачи\n",
    "\n",
    "- Изменить функцию потерь, чтобы учитывать стили с двух картинок. Основа для одной картики как и в семинаре, взята с [Neural Transfer Using PyTorch](https://pytorch.org/tutorials/advanced/neural_style_tutorial.html)\n",
    "- Реализовать [Universal Style Transfer via Feature Transforms](https://arxiv.org/pdf/1705.08086.pdf) для двух стилей\n",
    "- Сравнить результаты"
   ]
  },
  {
   "cell_type": "markdown",
   "metadata": {
    "colab": {},
    "colab_type": "code",
    "id": "_93ER8CSFKon"
   },
   "source": [
    "# Neural Style Transfer\n",
    "\n",
    "- [**Original paper**](https://www.cv-foundation.org/openaccess/content_cvpr_2016/papers/Gatys_Image_Style_Transfer_CVPR_2016_paper.pdf)\n"
   ]
  },
  {
   "cell_type": "markdown",
   "metadata": {},
   "source": [
    "## Underlying Principle\n",
    "\n",
    "The principle is simple: we define two distances, one for the content\n",
    "($D_C$) and one for the style ($D_S$). $D_C$ measures how different the content\n",
    "is between two images while $D_S$ measures how different the style is\n",
    "between two images. Then, we take a third image, the input, and\n",
    "transform it to minimize both its content-distance with the\n",
    "content-image and its style-distance with the style-image. Now we can\n",
    "import the necessary packages and begin the neural transfer."
   ]
  },
  {
   "cell_type": "markdown",
   "metadata": {},
   "source": [
    "## Краткий конспект оригинальной статьи\n",
    "\n",
    "#### 1. Content representation\n",
    "\n",
    "Let $ \\overrightarrow{p} $ and $ \\overrightarrow{x} $ be the original image and the image that is generated, and $P^l$ and $F^l$ their respective feature representation in layer $l$. We then definethe squared-error loss between the two feature representations\n",
    "\n",
    "$$ L_{content}(\\overrightarrow{p},\\overrightarrow{x},l) = \\frac{1}{2}\\sum_{i,j}(F^l_{ij} - P^l_{ij})^2 $$\n",
    "\n",
    "#### 2. Style representation\n",
    "\n",
    "To obtain a representation of thestyleof an input image, we use a feature space designed to capture texture informa-tion. This feature space can be built on top of the filter responses in any layer of the network. It consists of the correlations between the different filter responses, where the expectation is taken over the spatial extent of the feature maps. These feature correlations are given by the Gram matrix $G^l ∈ R^{N_l×N_l} $, where $G^l_{ij}$ is the inner product between the vectorised feature maps $i$ and $j$ in layer $l$:\n",
    "\n",
    "$$ G^l_{ij} = \\sum_{k}F^L_{ik}F^l_{jk} $$\n",
    "\n",
    "Let $\\overrightarrow{a}$ and $\\overrightarrow{x}$ be the original image and the image that is generated, and $A^l$ and $G^l$ their respective style representation in layer $l$. The contribution of layer $l$ to the total loss is then\n",
    "\n",
    "$$ E_l = \\frac{1}{4N_l^2M_l^2}\\sum_{i,j}(G^l_{ij} - A^l_{ij})^2 $$\n",
    "\n",
    "and the total style loss is\n",
    "\n",
    "$$ L_{style}(\\overrightarrow{a},\\overrightarrow{x}) = \\sum_{l=0}^L\\omega_lE_l $$\n",
    "\n",
    "#### 3. Style transfer\n",
    "\n",
    "To transfer the style of an artwork $\\overrightarrow{a}$ onto a photograph $\\overrightarrow{p}$ we synthesise a new image that simultaneously matches the content representation of $\\overrightarrow{p}$ and the style representation of $\\overrightarrow{a}$. Thus we jointly minimise the distance of the feature representations of a white noise image from the content representation of the photograph in one layer and the style representation of the painting defined on a number of layers of the Convolutional Neural Network. The loss function we minimise is\n",
    "\n",
    "$$ L_{total}(\\overrightarrow{p},\\overrightarrow{a},\\overrightarrow{x}) = \\alpha L_{content}(\\overrightarrow{p},\\overrightarrow{x}) + \\beta L_{style}(\\overrightarrow{a},\\overrightarrow{x})$$"
   ]
  },
  {
   "cell_type": "markdown",
   "metadata": {},
   "source": [
    "## Importing Packages and Selecting a Device"
   ]
  },
  {
   "cell_type": "code",
   "execution_count": 1,
   "metadata": {},
   "outputs": [],
   "source": [
    "# %load ../../temp/snippets/imports.py\n",
    "import os\n",
    "import time\n",
    "import pickle\n",
    "import copy\n",
    "from skimage import io\n",
    "from IPython.display import clear_output\n",
    "\n",
    "import numpy as np\n",
    "import pandas as pd\n",
    "import matplotlib.pyplot as plt\n",
    "import seaborn as sns\n",
    "sns.set(rc={\"figure.figsize\": (10, 6),\n",
    "            \"grid.linewidth\": 0})\n",
    "%config InlineBackend.figure_format = \"retina\"\n",
    "\n",
    "import PIL\n",
    "from PIL import Image\n",
    "\n",
    "import torch\n",
    "import torch.nn as nn\n",
    "import torch.nn.functional as F\n",
    "import torch.optim as optim\n",
    "from torch.utils.data import DataLoader, Dataset\n",
    "\n",
    "import torchvision.transforms as transforms\n",
    "import torchvision.models as models\n",
    "\n",
    "from pandas_profiling import ProfileReport\n",
    "from torchsummary import summary\n",
    "\n",
    "device = torch.device(\"cuda\" if torch.cuda.is_available() else \"cpu\")"
   ]
  },
  {
   "cell_type": "markdown",
   "metadata": {},
   "source": [
    "Loading the Images\n",
    "------------------\n",
    "\n",
    "Now we will import the style and content images. The original PIL images have values between 0 and 255, but when\n",
    "transformed into torch tensors, their values are converted to be between\n",
    "0 and 1. The images also need to be resized to have the same dimensions.\n",
    "An important detail to note is that neural networks from the\n",
    "torch library are trained with tensor values ranging from 0 to 1. If you\n",
    "try to feed the networks with 0 to 255 tensor images, then the activated\n",
    "feature maps will be unable to sense the intended content and style.\n",
    "However, pre-trained networks from the Caffe library are trained with 0\n",
    "to 255 tensor images. "
   ]
  },
  {
   "cell_type": "code",
   "execution_count": 2,
   "metadata": {
    "collapsed": false,
    "jupyter": {
     "outputs_hidden": false
    }
   },
   "outputs": [],
   "source": [
    "# desired size of the output image\n",
    "imsize = 190 if torch.cuda.is_available() else 128  # use small size if no gpu\n",
    "\n",
    "loader = transforms.Compose([\n",
    "    transforms.Resize(imsize),  # scale imported image\n",
    "    transforms.CenterCrop(imsize),\n",
    "    transforms.ToTensor()])  # transform it into a torch tensor\n",
    "\n",
    "\n",
    "def image_loader(image_name):\n",
    "    image = Image.open(image_name)\n",
    "    # fake batch dimension required to fit network's input dimensions\n",
    "    image = loader(image).unsqueeze(0)\n",
    "    return image.to(device, torch.float)\n",
    "\n",
    "\n",
    "content_img = image_loader(\"images/man.jpg\")\n",
    "style_img = image_loader(\"images/kate.jpg\")\n",
    "style_img2 = image_loader(\"images/abstract1.jpg\")\n",
    "\n",
    "assert style_img.size() == content_img.size(), \\\n",
    "    \"we need to import style and content images of the same size\""
   ]
  },
  {
   "cell_type": "markdown",
   "metadata": {},
   "source": [
    "Now, let's create a function that displays an image by reconverting a \n",
    "copy of it to PIL format and displaying the copy using \n",
    "``plt.imshow``. We will try displaying the content and style images \n",
    "to ensure they were imported correctly.\n",
    "\n"
   ]
  },
  {
   "cell_type": "code",
   "execution_count": 3,
   "metadata": {
    "collapsed": false,
    "jupyter": {
     "outputs_hidden": false
    }
   },
   "outputs": [],
   "source": [
    "unloader = transforms.ToPILImage()  # reconvert into PIL image\n",
    "\n",
    "plt.ion()\n",
    "\n",
    "def imshow(tensor, title=None):\n",
    "    image = tensor.cpu().clone()  # we clone the tensor to not do changes on it\n",
    "    image = image.squeeze(0)      # remove the fake batch dimension\n",
    "    image = unloader(image)\n",
    "    plt.imshow(image)\n",
    "    if title is not None:\n",
    "        plt.title(title)\n",
    "    plt.pause(0.001) # pause a bit so that plots are updated\n",
    "    \n",
    "    \n",
    "def to_show(tensor):\n",
    "    image = tensor.cpu().clone()  # we clone the tensor to not do changes on it\n",
    "    image = image.squeeze(0)      # remove the fake batch dimension\n",
    "    image = unloader(image)\n",
    "    return image\n",
    "\n",
    "\n",
    "# f, (ax1, ax2, ax3) = plt.subplots(1, 3)\n",
    "    \n",
    "# ax1.imshow(to_show(content_img))\n",
    "# ax2.imshow(to_show(style_img))\n",
    "# ax3.imshow(to_show(style_img2))\n",
    "\n",
    "# ax1.set_title('Content')\n",
    "# ax2.set_title('Style 1')\n",
    "# ax3.set_title('Style 2');"
   ]
  },
  {
   "cell_type": "markdown",
   "metadata": {},
   "source": [
    "Loss Functions\n",
    "--------------\n",
    "\n"
   ]
  },
  {
   "cell_type": "code",
   "execution_count": 4,
   "metadata": {
    "collapsed": false,
    "jupyter": {
     "outputs_hidden": false
    }
   },
   "outputs": [],
   "source": [
    "class ContentLoss(nn.Module):\n",
    "\n",
    "    def __init__(self, target,):\n",
    "        super(ContentLoss, self).__init__()\n",
    "        # we 'detach' the target content from the tree used\n",
    "        # to dynamically compute the gradient: this is a stated value,\n",
    "        # not a variable. Otherwise the forward method of the criterion\n",
    "        # will throw an error.\n",
    "        self.target = target.detach()\n",
    "\n",
    "    def forward(self, input):\n",
    "        self.loss = F.mse_loss(input, self.target)\n",
    "        return input"
   ]
  },
  {
   "cell_type": "code",
   "execution_count": 5,
   "metadata": {
    "collapsed": false,
    "jupyter": {
     "outputs_hidden": false
    }
   },
   "outputs": [],
   "source": [
    "def gram_matrix(input):\n",
    "    a, b, c, d = input.size()  # a=batch size(=1)\n",
    "    # b=number of feature maps\n",
    "    # (c,d)=dimensions of a f. map (N=c*d)\n",
    "\n",
    "    features = input.view(a * b, c * d)  # resise F_XL into \\hat F_XL\n",
    "\n",
    "    G = torch.mm(features, features.t())  # compute the gram product\n",
    "\n",
    "    # we 'normalize' the values of the gram matrix\n",
    "    # by dividing by the number of element in each feature maps.\n",
    "    return G.div(a * b * c * d)"
   ]
  },
  {
   "cell_type": "code",
   "execution_count": 6,
   "metadata": {
    "collapsed": false,
    "jupyter": {
     "outputs_hidden": false
    }
   },
   "outputs": [],
   "source": [
    "class StyleLoss(nn.Module):\n",
    "\n",
    "    def __init__(self, target_feature):\n",
    "        super(StyleLoss, self).__init__()\n",
    "        self.target = gram_matrix(target_feature).detach()\n",
    "\n",
    "    def forward(self, input):\n",
    "        G = gram_matrix(input)\n",
    "        self.loss = F.mse_loss(G, self.target)\n",
    "        return input\n",
    "    \n",
    "\n",
    "class StyleLoss2(nn.Module):\n",
    "\n",
    "    def __init__(self, target_feature1, target_feature2):\n",
    "        super(StyleLoss2, self).__init__()\n",
    "        self.target1 = gram_matrix(target_feature1).detach()\n",
    "        self.target2 = gram_matrix(target_feature2).detach()\n",
    "\n",
    "    def forward(self, input):\n",
    "        G = gram_matrix(input)\n",
    "        self.loss = F.mse_loss(G, self.target1) + F.mse_loss(G, self.target2)\n",
    "        return input"
   ]
  },
  {
   "cell_type": "markdown",
   "metadata": {},
   "source": [
    "Importing the Model\n",
    "-------------------\n",
    "\n",
    "Now we need to import a pre-trained neural network. We will use a 19\n",
    "layer VGG network like the one used in the paper.\n",
    "\n",
    "PyTorch’s implementation of VGG is a module divided into two child\n",
    "``Sequential`` modules: ``features`` (containing convolution and pooling layers),\n",
    "and ``classifier`` (containing fully connected layers). We will use the\n",
    "``features`` module because we need the output of the individual\n",
    "convolution layers to measure content and style loss. Some layers have\n",
    "different behavior during training than evaluation, so we must set the\n",
    "network to evaluation mode using ``.eval()``.\n",
    "\n",
    "\n"
   ]
  },
  {
   "cell_type": "code",
   "execution_count": 7,
   "metadata": {
    "collapsed": false,
    "jupyter": {
     "outputs_hidden": false
    }
   },
   "outputs": [],
   "source": [
    "cnn = models.vgg19(pretrained=True).features.to(device).eval()"
   ]
  },
  {
   "cell_type": "markdown",
   "metadata": {},
   "source": [
    "Additionally, VGG networks are trained on images with each channel\n",
    "normalized by mean=[0.485, 0.456, 0.406] and std=[0.229, 0.224, 0.225].\n",
    "We will use them to normalize the image before sending it into the network.\n",
    "\n",
    "\n"
   ]
  },
  {
   "cell_type": "code",
   "execution_count": 8,
   "metadata": {
    "collapsed": false,
    "jupyter": {
     "outputs_hidden": false
    }
   },
   "outputs": [],
   "source": [
    "cnn_normalization_mean = torch.tensor([0.485, 0.456, 0.406]).to(device)\n",
    "cnn_normalization_std = torch.tensor([0.229, 0.224, 0.225]).to(device)\n",
    "\n",
    "# create a module to normalize input image so we can easily put it in a\n",
    "# nn.Sequential\n",
    "class Normalization(nn.Module):\n",
    "    def __init__(self, mean, std):\n",
    "        super(Normalization, self).__init__()\n",
    "        # .view the mean and std to make them [C x 1 x 1] so that they can\n",
    "        # directly work with image Tensor of shape [B x C x H x W].\n",
    "        # B is batch size. C is number of channels. H is height and W is width.\n",
    "        \n",
    "        self.mean = mean.clone().detach().view(-1, 1, 1)\n",
    "        self.std = std.clone().detach().view(-1, 1, 1)\n",
    "\n",
    "    def forward(self, img):\n",
    "        # normalize img\n",
    "        return (img - self.mean) / self.std"
   ]
  },
  {
   "cell_type": "markdown",
   "metadata": {},
   "source": [
    "A ``Sequential`` module contains an ordered list of child modules. For\n",
    "instance, ``vgg19.features`` contains a sequence (Conv2d, ReLU, MaxPool2d,\n",
    "Conv2d, ReLU…) aligned in the right order of depth. We need to add our\n",
    "content loss and style loss layers immediately after the convolution\n",
    "layer they are detecting. To do this we must create a new ``Sequential``\n",
    "module that has content loss and style loss modules correctly inserted.\n",
    "\n",
    "\n"
   ]
  },
  {
   "cell_type": "code",
   "execution_count": 9,
   "metadata": {
    "collapsed": false,
    "jupyter": {
     "outputs_hidden": false
    }
   },
   "outputs": [],
   "source": [
    "# desired depth layers to compute style/content losses :\n",
    "content_layers_default = ['conv_4']\n",
    "style_layers_default = ['conv_1', 'conv_2', 'conv_3', 'conv_4', 'conv_5']\n",
    "\n",
    "def get_style_model_and_losses(cnn, normalization_mean, normalization_std,\n",
    "                               style_img, content_img,\n",
    "                               second_style, style_img2,\n",
    "                               content_layers=content_layers_default,\n",
    "                               style_layers=style_layers_default):\n",
    "    cnn = copy.deepcopy(cnn)\n",
    "\n",
    "    # normalization module\n",
    "    normalization = Normalization(normalization_mean, normalization_std).to(device)\n",
    "\n",
    "    # just in order to have an iterable access to or list of content/syle\n",
    "    # losses\n",
    "    content_losses = []\n",
    "    style_losses = []\n",
    "\n",
    "    # assuming that cnn is a nn.Sequential, so we make a new nn.Sequential\n",
    "    # to put in modules that are supposed to be activated sequentially\n",
    "    model = nn.Sequential(normalization)\n",
    "\n",
    "    i = 0  # increment every time we see a conv\n",
    "    for layer in cnn.children():\n",
    "        if isinstance(layer, nn.Conv2d):\n",
    "            i += 1\n",
    "            name = 'conv_{}'.format(i)\n",
    "        elif isinstance(layer, nn.ReLU):\n",
    "            name = 'relu_{}'.format(i)\n",
    "            # The in-place version doesn't play very nicely with the ContentLoss\n",
    "            # and StyleLoss we insert below. So we replace with out-of-place\n",
    "            # ones here.\n",
    "            layer = nn.ReLU(inplace=False)\n",
    "        elif isinstance(layer, nn.MaxPool2d):\n",
    "            name = 'pool_{}'.format(i)\n",
    "        elif isinstance(layer, nn.BatchNorm2d):\n",
    "            name = 'bn_{}'.format(i)\n",
    "        else:\n",
    "            raise RuntimeError('Unrecognized layer: {}'.format(layer.__class__.__name__))\n",
    "\n",
    "        model.add_module(name, layer)\n",
    "\n",
    "        if name in content_layers:\n",
    "            # add content loss:\n",
    "            target = model(content_img).detach()\n",
    "            content_loss = ContentLoss(target)\n",
    "            model.add_module(\"content_loss_{}\".format(i), content_loss)\n",
    "            content_losses.append(content_loss)\n",
    "\n",
    "        if name in style_layers:\n",
    "            # add style loss:\n",
    "            if second_style == False:\n",
    "                target_feature = model(style_img).detach()\n",
    "                style_loss = StyleLoss(target_feature)\n",
    "                model.add_module(\"style_loss_{}\".format(i), style_loss)\n",
    "                style_losses.append(style_loss)\n",
    "            else:\n",
    "                target_feature1 = model(style_img).detach()\n",
    "                target_feature2 = model(style_img2).detach()\n",
    "                style_loss = StyleLoss2(target_feature1, target_feature2)\n",
    "                model.add_module(\"style_loss_{}\".format(i), style_loss)\n",
    "                style_losses.append(style_loss)\n",
    "                \n",
    "\n",
    "    # now we trim off the layers after the last content and style losses\n",
    "    for i in range(len(model) - 1, -1, -1):\n",
    "        if isinstance(model[i], ContentLoss) or isinstance(model[i], StyleLoss2):\n",
    "            break\n",
    "\n",
    "    model = model[:(i + 1)]\n",
    "\n",
    "    return model, style_losses, content_losses"
   ]
  },
  {
   "cell_type": "markdown",
   "metadata": {},
   "source": [
    "Next, we select the input image. You can use a copy of the content image\n",
    "or white noise.\n",
    "\n",
    "\n"
   ]
  },
  {
   "cell_type": "code",
   "execution_count": 10,
   "metadata": {
    "collapsed": false,
    "jupyter": {
     "outputs_hidden": false
    }
   },
   "outputs": [],
   "source": [
    "input_img = content_img.clone()\n",
    "# if you want to use white noise instead uncomment the below line:\n",
    "# input_img = torch.randn(content_img.data.size(), device=device)\n",
    "\n",
    "# add the original input image to the figure:\n",
    "# plt.figure()\n",
    "# imshow(input_img, title='Input Image')"
   ]
  },
  {
   "cell_type": "markdown",
   "metadata": {},
   "source": [
    "Gradient Descent\n",
    "----------------\n",
    "\n",
    "As Leon Gatys, the author of the algorithm, suggested `here <https://discuss.pytorch.org/t/pytorch-tutorial-for-neural-transfert-of-artistic-style/336/20?u=alexis-jacq>`__, we will use\n",
    "L-BFGS algorithm to run our gradient descent. Unlike training a network,\n",
    "we want to train the input image in order to minimise the content/style\n",
    "losses. We will create a PyTorch L-BFGS optimizer ``optim.LBFGS`` and pass\n",
    "our image to it as the tensor to optimize.\n",
    "\n",
    "\n"
   ]
  },
  {
   "cell_type": "code",
   "execution_count": 11,
   "metadata": {
    "collapsed": false,
    "jupyter": {
     "outputs_hidden": false
    }
   },
   "outputs": [],
   "source": [
    "def get_input_optimizer(input_img):\n",
    "    # this line to show that input is a parameter that requires a gradient\n",
    "    optimizer = optim.LBFGS([input_img.requires_grad_()])\n",
    "    return optimizer"
   ]
  },
  {
   "cell_type": "markdown",
   "metadata": {},
   "source": [
    "Finally, we must define a function that performs the neural transfer. For\n",
    "each iteration of the networks, it is fed an updated input and computes\n",
    "new losses. We will run the ``backward`` methods of each loss module to\n",
    "dynamicaly compute their gradients. The optimizer requires a “closure”\n",
    "function, which reevaluates the module and returns the loss.\n",
    "\n",
    "We still have one final constraint to address. The network may try to\n",
    "optimize the input with values that exceed the 0 to 1 tensor range for\n",
    "the image. We can address this by correcting the input values to be\n",
    "between 0 to 1 each time the network is run.\n",
    "\n",
    "\n"
   ]
  },
  {
   "cell_type": "code",
   "execution_count": 12,
   "metadata": {
    "collapsed": false,
    "jupyter": {
     "outputs_hidden": false
    }
   },
   "outputs": [],
   "source": [
    "def run_style_transfer(cnn, normalization_mean, normalization_std,\n",
    "                       content_img, style_img, input_img, second_style, style_img2, num_steps=700,\n",
    "                       style_weight=1000000, content_weight=1):\n",
    "    \"\"\"Run the style transfer.\"\"\"\n",
    "    print('Building the style transfer model..')\n",
    "    model, style_losses, content_losses = get_style_model_and_losses(cnn,\n",
    "        normalization_mean, normalization_std, style_img, content_img, second_style, style_img2)\n",
    "    optimizer = get_input_optimizer(input_img)\n",
    "\n",
    "    print('Optimizing..')\n",
    "    run = [0]\n",
    "    while run[0] <= num_steps:\n",
    "\n",
    "        def closure():\n",
    "            # correct the values of updated input image\n",
    "            input_img.data.clamp_(0, 1)\n",
    "\n",
    "            optimizer.zero_grad()\n",
    "            model(input_img)\n",
    "            style_score = 0\n",
    "            content_score = 0\n",
    "\n",
    "            for sl in style_losses:\n",
    "                style_score += sl.loss\n",
    "            for cl in content_losses:\n",
    "                content_score += cl.loss\n",
    "\n",
    "            style_score *= style_weight\n",
    "            content_score *= content_weight\n",
    "\n",
    "            loss = style_score + content_score\n",
    "            loss.backward()\n",
    "\n",
    "            run[0] += 1\n",
    "            if run[0] % 50 == 0:\n",
    "                print(\"run {}:\".format(run))\n",
    "                print('Style Loss : {:4f} Content Loss: {:4f}'.format(\n",
    "                    style_score.item(), content_score.item()))\n",
    "                print()\n",
    "\n",
    "            return style_score + content_score\n",
    "\n",
    "        optimizer.step(closure)\n",
    "\n",
    "    # a last correction...\n",
    "    input_img.data.clamp_(0, 1)\n",
    "\n",
    "    return input_img"
   ]
  },
  {
   "cell_type": "markdown",
   "metadata": {},
   "source": [
    "Finally, we can run the algorithm.\n",
    "\n",
    "\n"
   ]
  },
  {
   "cell_type": "code",
   "execution_count": 13,
   "metadata": {
    "collapsed": false,
    "jupyter": {
     "outputs_hidden": false
    }
   },
   "outputs": [
    {
     "name": "stdout",
     "output_type": "stream",
     "text": [
      "Building the style transfer model..\n",
      "Optimizing..\n"
     ]
    },
    {
     "ename": "ModuleAttributeError",
     "evalue": "'StyleLoss' object has no attribute 'loss'",
     "output_type": "error",
     "traceback": [
      "\u001b[1;31m---------------------------------------------------------------------------\u001b[0m",
      "\u001b[1;31mModuleAttributeError\u001b[0m                      Traceback (most recent call last)",
      "\u001b[1;32m<ipython-input-13-2cf575bb5ea5>\u001b[0m in \u001b[0;36m<module>\u001b[1;34m\u001b[0m\n\u001b[1;32m----> 1\u001b[1;33m output = run_style_transfer(cnn, cnn_normalization_mean, cnn_normalization_std,\n\u001b[0m\u001b[0;32m      2\u001b[0m                             content_img, style_img, input_img, False, None)\n\u001b[0;32m      3\u001b[0m \u001b[1;33m\u001b[0m\u001b[0m\n\u001b[0;32m      4\u001b[0m \u001b[0mplt\u001b[0m\u001b[1;33m.\u001b[0m\u001b[0mfigure\u001b[0m\u001b[1;33m(\u001b[0m\u001b[1;33m)\u001b[0m\u001b[1;33m\u001b[0m\u001b[1;33m\u001b[0m\u001b[0m\n\u001b[0;32m      5\u001b[0m \u001b[0mimshow\u001b[0m\u001b[1;33m(\u001b[0m\u001b[0moutput\u001b[0m\u001b[1;33m,\u001b[0m \u001b[0mtitle\u001b[0m\u001b[1;33m=\u001b[0m\u001b[1;34m'Output Image'\u001b[0m\u001b[1;33m)\u001b[0m\u001b[1;33m\u001b[0m\u001b[1;33m\u001b[0m\u001b[0m\n",
      "\u001b[1;32m<ipython-input-12-37592d771ceb>\u001b[0m in \u001b[0;36mrun_style_transfer\u001b[1;34m(cnn, normalization_mean, normalization_std, content_img, style_img, input_img, second_style, style_img2, num_steps, style_weight, content_weight)\u001b[0m\n\u001b[0;32m     41\u001b[0m             \u001b[1;32mreturn\u001b[0m \u001b[0mstyle_score\u001b[0m \u001b[1;33m+\u001b[0m \u001b[0mcontent_score\u001b[0m\u001b[1;33m\u001b[0m\u001b[1;33m\u001b[0m\u001b[0m\n\u001b[0;32m     42\u001b[0m \u001b[1;33m\u001b[0m\u001b[0m\n\u001b[1;32m---> 43\u001b[1;33m         \u001b[0moptimizer\u001b[0m\u001b[1;33m.\u001b[0m\u001b[0mstep\u001b[0m\u001b[1;33m(\u001b[0m\u001b[0mclosure\u001b[0m\u001b[1;33m)\u001b[0m\u001b[1;33m\u001b[0m\u001b[1;33m\u001b[0m\u001b[0m\n\u001b[0m\u001b[0;32m     44\u001b[0m \u001b[1;33m\u001b[0m\u001b[0m\n\u001b[0;32m     45\u001b[0m     \u001b[1;31m# a last correction...\u001b[0m\u001b[1;33m\u001b[0m\u001b[1;33m\u001b[0m\u001b[1;33m\u001b[0m\u001b[0m\n",
      "\u001b[1;32m~\\miniconda3\\envs\\ds38\\lib\\site-packages\\torch\\autograd\\grad_mode.py\u001b[0m in \u001b[0;36mdecorate_context\u001b[1;34m(*args, **kwargs)\u001b[0m\n\u001b[0;32m     24\u001b[0m         \u001b[1;32mdef\u001b[0m \u001b[0mdecorate_context\u001b[0m\u001b[1;33m(\u001b[0m\u001b[1;33m*\u001b[0m\u001b[0margs\u001b[0m\u001b[1;33m,\u001b[0m \u001b[1;33m**\u001b[0m\u001b[0mkwargs\u001b[0m\u001b[1;33m)\u001b[0m\u001b[1;33m:\u001b[0m\u001b[1;33m\u001b[0m\u001b[1;33m\u001b[0m\u001b[0m\n\u001b[0;32m     25\u001b[0m             \u001b[1;32mwith\u001b[0m \u001b[0mself\u001b[0m\u001b[1;33m.\u001b[0m\u001b[0m__class__\u001b[0m\u001b[1;33m(\u001b[0m\u001b[1;33m)\u001b[0m\u001b[1;33m:\u001b[0m\u001b[1;33m\u001b[0m\u001b[1;33m\u001b[0m\u001b[0m\n\u001b[1;32m---> 26\u001b[1;33m                 \u001b[1;32mreturn\u001b[0m \u001b[0mfunc\u001b[0m\u001b[1;33m(\u001b[0m\u001b[1;33m*\u001b[0m\u001b[0margs\u001b[0m\u001b[1;33m,\u001b[0m \u001b[1;33m**\u001b[0m\u001b[0mkwargs\u001b[0m\u001b[1;33m)\u001b[0m\u001b[1;33m\u001b[0m\u001b[1;33m\u001b[0m\u001b[0m\n\u001b[0m\u001b[0;32m     27\u001b[0m         \u001b[1;32mreturn\u001b[0m \u001b[0mcast\u001b[0m\u001b[1;33m(\u001b[0m\u001b[0mF\u001b[0m\u001b[1;33m,\u001b[0m \u001b[0mdecorate_context\u001b[0m\u001b[1;33m)\u001b[0m\u001b[1;33m\u001b[0m\u001b[1;33m\u001b[0m\u001b[0m\n\u001b[0;32m     28\u001b[0m \u001b[1;33m\u001b[0m\u001b[0m\n",
      "\u001b[1;32m~\\miniconda3\\envs\\ds38\\lib\\site-packages\\torch\\optim\\lbfgs.py\u001b[0m in \u001b[0;36mstep\u001b[1;34m(self, closure)\u001b[0m\n\u001b[0;32m    309\u001b[0m \u001b[1;33m\u001b[0m\u001b[0m\n\u001b[0;32m    310\u001b[0m         \u001b[1;31m# evaluate initial f(x) and df/dx\u001b[0m\u001b[1;33m\u001b[0m\u001b[1;33m\u001b[0m\u001b[1;33m\u001b[0m\u001b[0m\n\u001b[1;32m--> 311\u001b[1;33m         \u001b[0morig_loss\u001b[0m \u001b[1;33m=\u001b[0m \u001b[0mclosure\u001b[0m\u001b[1;33m(\u001b[0m\u001b[1;33m)\u001b[0m\u001b[1;33m\u001b[0m\u001b[1;33m\u001b[0m\u001b[0m\n\u001b[0m\u001b[0;32m    312\u001b[0m         \u001b[0mloss\u001b[0m \u001b[1;33m=\u001b[0m \u001b[0mfloat\u001b[0m\u001b[1;33m(\u001b[0m\u001b[0morig_loss\u001b[0m\u001b[1;33m)\u001b[0m\u001b[1;33m\u001b[0m\u001b[1;33m\u001b[0m\u001b[0m\n\u001b[0;32m    313\u001b[0m         \u001b[0mcurrent_evals\u001b[0m \u001b[1;33m=\u001b[0m \u001b[1;36m1\u001b[0m\u001b[1;33m\u001b[0m\u001b[1;33m\u001b[0m\u001b[0m\n",
      "\u001b[1;32m~\\miniconda3\\envs\\ds38\\lib\\site-packages\\torch\\autograd\\grad_mode.py\u001b[0m in \u001b[0;36mdecorate_context\u001b[1;34m(*args, **kwargs)\u001b[0m\n\u001b[0;32m     24\u001b[0m         \u001b[1;32mdef\u001b[0m \u001b[0mdecorate_context\u001b[0m\u001b[1;33m(\u001b[0m\u001b[1;33m*\u001b[0m\u001b[0margs\u001b[0m\u001b[1;33m,\u001b[0m \u001b[1;33m**\u001b[0m\u001b[0mkwargs\u001b[0m\u001b[1;33m)\u001b[0m\u001b[1;33m:\u001b[0m\u001b[1;33m\u001b[0m\u001b[1;33m\u001b[0m\u001b[0m\n\u001b[0;32m     25\u001b[0m             \u001b[1;32mwith\u001b[0m \u001b[0mself\u001b[0m\u001b[1;33m.\u001b[0m\u001b[0m__class__\u001b[0m\u001b[1;33m(\u001b[0m\u001b[1;33m)\u001b[0m\u001b[1;33m:\u001b[0m\u001b[1;33m\u001b[0m\u001b[1;33m\u001b[0m\u001b[0m\n\u001b[1;32m---> 26\u001b[1;33m                 \u001b[1;32mreturn\u001b[0m \u001b[0mfunc\u001b[0m\u001b[1;33m(\u001b[0m\u001b[1;33m*\u001b[0m\u001b[0margs\u001b[0m\u001b[1;33m,\u001b[0m \u001b[1;33m**\u001b[0m\u001b[0mkwargs\u001b[0m\u001b[1;33m)\u001b[0m\u001b[1;33m\u001b[0m\u001b[1;33m\u001b[0m\u001b[0m\n\u001b[0m\u001b[0;32m     27\u001b[0m         \u001b[1;32mreturn\u001b[0m \u001b[0mcast\u001b[0m\u001b[1;33m(\u001b[0m\u001b[0mF\u001b[0m\u001b[1;33m,\u001b[0m \u001b[0mdecorate_context\u001b[0m\u001b[1;33m)\u001b[0m\u001b[1;33m\u001b[0m\u001b[1;33m\u001b[0m\u001b[0m\n\u001b[0;32m     28\u001b[0m \u001b[1;33m\u001b[0m\u001b[0m\n",
      "\u001b[1;32m<ipython-input-12-37592d771ceb>\u001b[0m in \u001b[0;36mclosure\u001b[1;34m()\u001b[0m\n\u001b[0;32m     22\u001b[0m \u001b[1;33m\u001b[0m\u001b[0m\n\u001b[0;32m     23\u001b[0m             \u001b[1;32mfor\u001b[0m \u001b[0msl\u001b[0m \u001b[1;32min\u001b[0m \u001b[0mstyle_losses\u001b[0m\u001b[1;33m:\u001b[0m\u001b[1;33m\u001b[0m\u001b[1;33m\u001b[0m\u001b[0m\n\u001b[1;32m---> 24\u001b[1;33m                 \u001b[0mstyle_score\u001b[0m \u001b[1;33m+=\u001b[0m \u001b[0msl\u001b[0m\u001b[1;33m.\u001b[0m\u001b[0mloss\u001b[0m\u001b[1;33m\u001b[0m\u001b[1;33m\u001b[0m\u001b[0m\n\u001b[0m\u001b[0;32m     25\u001b[0m             \u001b[1;32mfor\u001b[0m \u001b[0mcl\u001b[0m \u001b[1;32min\u001b[0m \u001b[0mcontent_losses\u001b[0m\u001b[1;33m:\u001b[0m\u001b[1;33m\u001b[0m\u001b[1;33m\u001b[0m\u001b[0m\n\u001b[0;32m     26\u001b[0m                 \u001b[0mcontent_score\u001b[0m \u001b[1;33m+=\u001b[0m \u001b[0mcl\u001b[0m\u001b[1;33m.\u001b[0m\u001b[0mloss\u001b[0m\u001b[1;33m\u001b[0m\u001b[1;33m\u001b[0m\u001b[0m\n",
      "\u001b[1;32m~\\miniconda3\\envs\\ds38\\lib\\site-packages\\torch\\nn\\modules\\module.py\u001b[0m in \u001b[0;36m__getattr__\u001b[1;34m(self, name)\u001b[0m\n\u001b[0;32m    776\u001b[0m             \u001b[1;32mif\u001b[0m \u001b[0mname\u001b[0m \u001b[1;32min\u001b[0m \u001b[0mmodules\u001b[0m\u001b[1;33m:\u001b[0m\u001b[1;33m\u001b[0m\u001b[1;33m\u001b[0m\u001b[0m\n\u001b[0;32m    777\u001b[0m                 \u001b[1;32mreturn\u001b[0m \u001b[0mmodules\u001b[0m\u001b[1;33m[\u001b[0m\u001b[0mname\u001b[0m\u001b[1;33m]\u001b[0m\u001b[1;33m\u001b[0m\u001b[1;33m\u001b[0m\u001b[0m\n\u001b[1;32m--> 778\u001b[1;33m         raise ModuleAttributeError(\"'{}' object has no attribute '{}'\".format(\n\u001b[0m\u001b[0;32m    779\u001b[0m             type(self).__name__, name))\n\u001b[0;32m    780\u001b[0m \u001b[1;33m\u001b[0m\u001b[0m\n",
      "\u001b[1;31mModuleAttributeError\u001b[0m: 'StyleLoss' object has no attribute 'loss'"
     ]
    }
   ],
   "source": [
    "output = run_style_transfer(cnn, cnn_normalization_mean, cnn_normalization_std,\n",
    "                            content_img, style_img, input_img, False, None)\n",
    "\n",
    "plt.figure()\n",
    "imshow(output, title='Output Image')\n",
    "\n",
    "# sphinx_gallery_thumbnail_number = 4\n",
    "plt.ioff()\n",
    "plt.show()"
   ]
  },
  {
   "cell_type": "markdown",
   "metadata": {},
   "source": [
    "# Universal Style Transfer via Feature Transforms\n",
    "\n",
    "- [Show, Divide and Neural: Weighted Style Transfer](http://cs231n.stanford.edu/reports/2016/pdfs/208_Report.pdf)\n",
    "- [Localized Style Transfer](http://cs231n.stanford.edu/reports/2017/pdfs/416.pdf)\n",
    "- [Preserving Color in Neural Artistic Style Transfer](https://arxiv.org/pdf/1606.05897.pdf)\n",
    "\n",
    "Сделаем рализацию концепции, представленной в этой статье, основываясь на оригинальной реализации\n",
    "- [**Universal Style Transfer via Feature Transforms**](https://arxiv.org/pdf/1705.08086.pdf)\n",
    "\n",
    "## Основная идея\n",
    "\n",
    "We construct an auto-encoder network for general image reconstruction. We employ the VGG-19 as the encoder, fix it and train a decoder network simply for inverting VGG features to the original image. The decoder is designed as being symmetrical to that of VGG-19 network (up to Relu_X_1 layer), with the nearest neighbor upsampling layer used for enlarging feature maps. To evaluate with features extracted at different layers, we select feature maps at five layers of the VGG-19, i.e., Relu_X_1 (X=1,2,3,4,5), and train five decoders accordingly. The pixel reconstruction loss and feature loss are employed for reconstructing an input image."
   ]
  },
  {
   "cell_type": "code",
   "execution_count": null,
   "metadata": {},
   "outputs": [],
   "source": [
    "from models.autoencoder_vgg19.vgg19_1 import vgg_normalised_conv1_1, feature_invertor_conv1_1\n",
    "from models.autoencoder_vgg19.vgg19_2 import vgg_normalised_conv2_1, feature_invertor_conv2_1\n",
    "from models.autoencoder_vgg19.vgg19_3 import vgg_normalised_conv3_1, feature_invertor_conv3_1\n",
    "from models.autoencoder_vgg19.vgg19_4 import vgg_normalised_conv4_1, feature_invertor_conv4_1\n",
    "from models.autoencoder_vgg19.vgg19_5 import vgg_normalised_conv5_1, feature_invertor_conv5_1\n",
    "\n",
    "\n",
    "class Encoder(nn.Module):\n",
    "\n",
    "    def __init__(self, depth):\n",
    "        super(Encoder, self).__init__()\n",
    "\n",
    "        self.depth = depth\n",
    "\n",
    "        if depth == 1:\n",
    "            self.model = vgg_normalised_conv1_1.vgg_normalised_conv1_1\n",
    "            self.model.load_state_dict(torch.load(\"models/autoencoder_vgg19/vgg19_1/vgg_normalised_conv1_1.pth\"))\n",
    "        elif depth == 2:\n",
    "            self.model = vgg_normalised_conv2_1.vgg_normalised_conv2_1\n",
    "            self.model.load_state_dict(torch.load(\"models/autoencoder_vgg19/vgg19_2/vgg_normalised_conv2_1.pth\"))\n",
    "        elif depth == 3:\n",
    "            self.model = vgg_normalised_conv3_1.vgg_normalised_conv3_1\n",
    "            self.model.load_state_dict(torch.load(\"models/autoencoder_vgg19/vgg19_3/vgg_normalised_conv3_1.pth\"))\n",
    "        elif depth == 4:\n",
    "            self.model = vgg_normalised_conv4_1.vgg_normalised_conv4_1\n",
    "            self.model.load_state_dict(torch.load(\"models/autoencoder_vgg19/vgg19_4/vgg_normalised_conv4_1.pth\"))\n",
    "        elif depth == 5:\n",
    "            self.model = vgg_normalised_conv5_1.vgg_normalised_conv5_1\n",
    "            self.model.load_state_dict(torch.load(\"models/autoencoder_vgg19/vgg19_5/vgg_normalised_conv5_1.pth\"))\n",
    "\n",
    "\n",
    "    def forward(self, x):\n",
    "        out = self.model(x)\n",
    "        return out\n",
    "\n",
    "\n",
    "class Decoder(nn.Module):\n",
    "    def __init__(self, depth):\n",
    "        super(Decoder, self).__init__()\n",
    "\n",
    "        self.depth = depth\n",
    "\n",
    "        if depth == 1:\n",
    "            self.model = feature_invertor_conv1_1.feature_invertor_conv1_1\n",
    "            self.model.load_state_dict(torch.load(\"models/autoencoder_vgg19/vgg19_1/feature_invertor_conv1_1.pth\"))\n",
    "        elif depth == 2:\n",
    "            self.model = feature_invertor_conv2_1.feature_invertor_conv2_1\n",
    "            self.model.load_state_dict(torch.load(\"models/autoencoder_vgg19/vgg19_2/feature_invertor_conv2_1.pth\"))\n",
    "        elif depth == 3:\n",
    "            self.model = feature_invertor_conv3_1.feature_invertor_conv3_1\n",
    "            self.model.load_state_dict(torch.load(\"models/autoencoder_vgg19/vgg19_3/feature_invertor_conv3_1.pth\"))\n",
    "        elif depth == 4:\n",
    "            self.model = feature_invertor_conv4_1.feature_invertor_conv4_1\n",
    "            self.model.load_state_dict(torch.load(\"models/autoencoder_vgg19/vgg19_4/feature_invertor_conv4_1.pth\"))\n",
    "        elif depth == 5:\n",
    "            self.model = feature_invertor_conv5_1.feature_invertor_conv5_1\n",
    "            self.model.load_state_dict(torch.load(\"models/autoencoder_vgg19/vgg19_5/feature_invertor_conv5_1.pth\"))\n",
    "\n",
    "    def forward(self, x):\n",
    "        out = self.model(x)\n",
    "        return out"
   ]
  },
  {
   "cell_type": "markdown",
   "metadata": {},
   "source": [
    "WCT функция, взятая и дополненная из оригинальной реализации"
   ]
  },
  {
   "cell_type": "code",
   "execution_count": null,
   "metadata": {},
   "outputs": [],
   "source": [
    "def wct(alpha, cf, sf, s1f=None, beta=None):\n",
    "\n",
    "    cf = cf.double()\n",
    "    c_channels, c_width, c_height = cf.size(0), cf.size(1), cf.size(2)\n",
    "    cfv = cf.view(c_channels, -1)\n",
    "\n",
    "    c_mean = torch.mean(cfv, 1)\n",
    "    c_mean = c_mean.unsqueeze(1).expand_as(cfv)\n",
    "    cfv = cfv - c_mean\n",
    "\n",
    "    c_covm = torch.mm(cfv, cfv.t()).div((c_width * c_height) - 1)\n",
    "    c_u, c_e, c_v = torch.svd(c_covm, some=False)\n",
    "\n",
    "    k_c = c_channels\n",
    "    for i in range(c_channels):\n",
    "        if c_e[i] < 0.00001:\n",
    "            k_c = i\n",
    "            break\n",
    "    c_d = (c_e[0:k_c]).pow(-0.5)\n",
    "\n",
    "    w_step1 = torch.mm(c_v[:, 0:k_c], torch.diag(c_d))\n",
    "    w_step2 = torch.mm(w_step1, (c_v[:, 0:k_c].t()))\n",
    "    whitened = torch.mm(w_step2, cfv)\n",
    "\n",
    "    # style image coloring\n",
    "    sf = sf.double()\n",
    "    _, s_width, s_heigth = sf.size(0), sf.size(1), sf.size(2)\n",
    "    sfv = sf.view(c_channels, -1)\n",
    "\n",
    "    s_mean = torch.mean(sfv, 1)\n",
    "    s_mean = s_mean.unsqueeze(1).expand_as(sfv)\n",
    "    sfv = sfv - s_mean\n",
    "\n",
    "    s_covm = torch.mm(sfv, sfv.t()).div((s_width * s_heigth) - 1)\n",
    "    s_u, s_e, s_v = torch.svd(s_covm, some=False)\n",
    "\n",
    "    s_k = c_channels\n",
    "    for i in range(c_channels):\n",
    "        if s_e[i] < 0.00001:\n",
    "            s_k = i\n",
    "            break\n",
    "    s_d = (s_e[0:s_k]).pow(0.5)\n",
    "\n",
    "    c_step1 = torch.mm(s_v[:, 0:s_k], torch.diag(s_d))\n",
    "    c_step2 = torch.mm(c_step1, s_v[:, 0:s_k].t())\n",
    "    colored = torch.mm(c_step2, whitened)\n",
    "\n",
    "    cs0_features = colored + s_mean.resize_as_(colored)\n",
    "    cs0_features = cs0_features.view_as(cf)\n",
    "\n",
    "    if beta:\n",
    "        sf = s1f\n",
    "        sf = sf.double()\n",
    "        _, s_width, s_heigth = sf.size(0), sf.size(1), sf.size(2)\n",
    "        sfv = sf.view(c_channels, -1)\n",
    "\n",
    "        s_mean = torch.mean(sfv, 1)\n",
    "        s_mean = s_mean.unsqueeze(1).expand_as(sfv)\n",
    "        sfv = sfv - s_mean\n",
    "\n",
    "        s_covm = torch.mm(sfv, sfv.t()).div((s_width * s_heigth) - 1)\n",
    "        s_u, s_e, s_v = torch.svd(s_covm, some=False)\n",
    "\n",
    "        s_k = c_channels\n",
    "        for i in range(c_channels):\n",
    "            if s_e[i] < 0.00001:\n",
    "                s_k = i\n",
    "                break\n",
    "        s_d = (s_e[0:s_k]).pow(0.5)\n",
    "\n",
    "        c_step1 = torch.mm(s_v[:, 0:s_k], torch.diag(s_d))\n",
    "        c_step2 = torch.mm(c_step1, s_v[:, 0:s_k].t())\n",
    "        colored = torch.mm(c_step2, whitened)\n",
    "\n",
    "        cs1_features = colored + s_mean.resize_as_(colored)\n",
    "        cs1_features = cs1_features.view_as(cf)\n",
    "\n",
    "        target_features = beta * cs0_features + (1.0 - beta) * cs1_features\n",
    "    else:\n",
    "        target_features = cs0_features\n",
    "\n",
    "    ccsf = alpha * target_features + (1.0 - alpha) * cf\n",
    "    return ccsf.float().unsqueeze(0)"
   ]
  },
  {
   "cell_type": "code",
   "execution_count": null,
   "metadata": {},
   "outputs": [],
   "source": [
    "def stylize(level, content, style0, encoders, decoders, \n",
    "            alpha, svd_device, cnn_device, interpolation_beta=None, style1=None):\n",
    "\n",
    "    with torch.no_grad():\n",
    "\n",
    "        cf = encoders[level](content).data.to(device=svd_device).squeeze(0)\n",
    "        s0f = encoders[level](style0).data.to(device=svd_device).squeeze(0)\n",
    "        s1f = encoders[level](style1).data.to(device=svd_device).squeeze(0)\n",
    "\n",
    "        csf = wct(alpha, cf, s0f, s1f, interpolation_beta).to(device=cnn_device)\n",
    "\n",
    "        return decoders[level](csf)\n",
    "\n",
    "\n",
    "class MultiLevelWCT(nn.Module):\n",
    "\n",
    "    def __init__(self):\n",
    "        super(MultiLevelWCT, self).__init__()\n",
    "\n",
    "        self.svd_device = torch.device('cpu')\n",
    "        self.cnn_device = device\n",
    "        self.alpha = 0.2\n",
    "        self.beta = 0.5\n",
    "\n",
    "\n",
    "        self.e1 = Encoder(1)\n",
    "        self.e2 = Encoder(2)\n",
    "        self.e3 = Encoder(3)\n",
    "        self.e4 = Encoder(4)\n",
    "        self.e5 = Encoder(5)\n",
    "        self.encoders = [self.e5, self.e4, self.e3, self.e2, self.e1]\n",
    "\n",
    "        self.d1 = Decoder(1)\n",
    "        self.d2 = Decoder(2)\n",
    "        self.d3 = Decoder(3)\n",
    "        self.d4 = Decoder(4)\n",
    "        self.d5 = Decoder(5)\n",
    "        self.decoders = [self.d5, self.d4, self.d3, self.d2, self.d1]\n",
    "\n",
    "    def forward(self, content_img, style_img, additional_style_flag=False, style_img1=None):\n",
    "\n",
    "        for i in range(len(self.encoders)):\n",
    "            content_img = stylize(i, content_img, style_img, self.encoders, self.decoders, self.alpha, self.svd_device,\n",
    "                                  self.cnn_device, interpolation_beta=self.beta, \n",
    "                                  style1=style_img1)\n",
    "\n",
    "        return content_img"
   ]
  },
  {
   "cell_type": "code",
   "execution_count": null,
   "metadata": {},
   "outputs": [],
   "source": [
    "content = content_img.clone()\n",
    "style0 = style_img.clone()\n",
    "style1 = style_img2.clone()\n",
    "\n",
    "model = MultiLevelWCT()\n",
    "model.to(device)\n",
    "model.eval()\n",
    "\n",
    "out = model(content, style0, True, style1)"
   ]
  },
  {
   "cell_type": "markdown",
   "metadata": {},
   "source": [
    "# Сравним результаты\n",
    "\n",
    "Изображения обрабатываются в разрешении 190x190, чтобы уложится в лимит 5Mb на Stepik"
   ]
  },
  {
   "cell_type": "code",
   "execution_count": null,
   "metadata": {},
   "outputs": [],
   "source": [
    "def showcase(content, style0, style1, out1, out2):\n",
    "    sns.set(rc={\"figure.figsize\": (18, 14),\n",
    "                \"grid.linewidth\": 0})\n",
    "\n",
    "    # imshow(out)\n",
    "    f, (ax1, ax2, ax3) = plt.subplots(1, 3)\n",
    "\n",
    "    ax1.imshow(to_show(content))\n",
    "    ax1.set_title('Content')\n",
    "    ax2.imshow(to_show(style0))\n",
    "    ax2.set_title('Style 1');\n",
    "    ax3.imshow(to_show(style1))\n",
    "    ax3.set_title('Style 2');\n",
    "    # ax4.imshow(to_show(out))\n",
    "    # ax4.set_title('Output');\n",
    "\n",
    "    f2, (ax4, ax5) = plt.subplots(1, 2)\n",
    "    ax4.imshow(to_show(out1))\n",
    "    ax4.set_title('Модифицированный StyleLoss');\n",
    "    ax5.imshow(to_show(out2));\n",
    "\n",
    "    ax5.set_title('Universal Style Transfer via Feature Transforms');\n",
    "    \n",
    "showcase(content, style0, style1, output, out)"
   ]
  },
  {
   "cell_type": "code",
   "execution_count": null,
   "metadata": {},
   "outputs": [],
   "source": [
    "content_img = image_loader(\"images/man.jpg\")\n",
    "style_img = image_loader(\"images/picasso.jpg\")\n",
    "style_img2 = image_loader(\"images/brick.jpg\")\n",
    "input_img = content_img.clone()\n",
    "\n",
    "output2 = run_style_transfer(cnn, cnn_normalization_mean, cnn_normalization_std,\n",
    "                            content_img, style_img, input_img, True, style_img2)\n",
    "\n",
    "content = content_img.clone()\n",
    "style0 = style_img.clone()\n",
    "style1 = style_img2.clone()\n",
    "\n",
    "model2 = MultiLevelWCT()\n",
    "model2.to(device)\n",
    "model2.eval()\n",
    "\n",
    "out2 = model2(content, style0, True, style1)\n",
    "\n",
    "showcase(content, style0, style1, output2, out2)"
   ]
  },
  {
   "cell_type": "markdown",
   "metadata": {},
   "source": [
    "#### Сравним алгоритмы в крайних случаях"
   ]
  },
  {
   "cell_type": "code",
   "execution_count": null,
   "metadata": {},
   "outputs": [],
   "source": [
    "content_img = image_loader(\"images/man.jpg\")\n",
    "style_img = image_loader(\"images/cont.jpg\")\n",
    "style_img2 = image_loader(\"images/cont.jpg\")\n",
    "input_img = content_img.clone()\n",
    "\n",
    "output3 = run_style_transfer(cnn, cnn_normalization_mean, cnn_normalization_std,\n",
    "                            content_img, style_img, input_img, True, style_img2)\n",
    "\n",
    "content = content_img.clone()\n",
    "style0 = style_img.clone()\n",
    "style1 = style_img2.clone()\n",
    "\n",
    "model3 = MultiLevelWCT()\n",
    "model3.to(device)\n",
    "model3.eval()\n",
    "\n",
    "out3 = model(content, style0, True, style1)"
   ]
  },
  {
   "cell_type": "code",
   "execution_count": null,
   "metadata": {},
   "outputs": [],
   "source": [
    "showcase(content, style0, style1, output3, out3)"
   ]
  },
  {
   "cell_type": "markdown",
   "metadata": {},
   "source": [
    "# Вывод\n",
    "\n",
    "**Видим, что Universal Style Transfer via Feature Transforms переводит стиль, сохраняя семантику объектов, но с некоторыми искажениями, которые можно объяснить претренированными decoder слоями на внешнем датасете. При этом реализация работает быстрее, чем просто модифицированный StyleLoss, хотя и реализация StyleLoss достаточно проста для неограниченного количества стилей.**"
   ]
  }
 ],
 "metadata": {
  "kernelspec": {
   "display_name": "Python 3",
   "language": "python",
   "name": "python3"
  },
  "language_info": {
   "codemirror_mode": {
    "name": "ipython",
    "version": 3
   },
   "file_extension": ".py",
   "mimetype": "text/x-python",
   "name": "python",
   "nbconvert_exporter": "python",
   "pygments_lexer": "ipython3",
   "version": "3.8.5"
  }
 },
 "nbformat": 4,
 "nbformat_minor": 4
}
