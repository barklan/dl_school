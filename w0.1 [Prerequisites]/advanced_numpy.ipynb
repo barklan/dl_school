{
 "cells": [
  {
   "cell_type": "markdown",
   "metadata": {},
   "source": [
    "# Advanced Numpy Techniques\n",
    "\n",
    "<img src=\"assets/numpylogo.png\" alt=\"http://www.numpy.org/#\">\n",
    "\n",
    "General, user-friendly [documentation](https://docs.scipy.org/doc/numpy/index.html) with lots of examples.\n",
    "\n",
    "Technical, \"hard\" [reference](https://docs.scipy.org/doc/numpy/reference/index.html#reference).\n",
    "\n",
    "Basic Python knowledge assumed.\n",
    "\n",
    "CPython ~3.6, NumPy ~1.12\n",
    "\n",
    "If you like content like this, you might be interested in [my blog](https://vlad17.github.io/)\n",
    "\n",
    "## What is it?\n",
    "\n",
    "[NumPy](http://www.numpy.org/) is an open-source package that's part of the [SciPy](https://scipy.org/) ecosystem. Its main feature is an array object of arbitrary dimension, but this fundamental collection is integral to any data-focused Python application.\n",
    "\n",
    "\n",
    "<table>\n",
    "<tr>\n",
    "<th>\n",
    "<img src=\"assets/nonsteeplearn.png\" width=\"200\" alt=\"http://gabriellhanna.blogspot.com/2015/03/negatively-accelerated-learning-curve-i.html\">\n",
    "</th><th>\n",
    "<img src=\"assets/steeplearn.jpg\" width=\"200\" alt=\"http://malaher.org/2007/03/pet-peeve-learning-curve-misuse/\">\n",
    "</th></tr></table>\n",
    "\n",
    "Most people learn numpy through assimilation or necessity. I believe NumPy has the latter learning curve (steep/easy to learn), so you can actually invest just a little bit of time now (by going through this notebook, for instance), and reap a lot of reward!\n",
    "\n",
    "# Motivation\n",
    "\n",
    "* Provide a uniform interface for handling numerical structured data\n",
    "* Collect, store, and manipulate numerical data efficiently\n",
    "* Low-cost abstractions\n",
    "* Universal glue for numerical information, used in lots of external libraries! The API establishes common functions and re-appears in many other settings with the same abstractions.\n",
    "\n",
    "\n",
    "<table>\n",
    "<tr>\n",
    "<th>\n",
    "<img src=\"assets/numba.png\" alt=\"http://numba.pydata.org/\" width=\"150\"></th><th><img src=\"assets/pandas.png\" alt=\"http://pandas.pydata.org/\"  width=\"150\"> </th><th><img src=\"assets/tf.png\" alt=\"https://github.com/tensorflow/tensorflow\" width=\"150\"></th><th> <img src=\"assets/sklearn.png\" alt=\"https://github.com/scikit-learn/scikit-learn\" width=\"150\"> </th><th><img src=\"assets/stan.png\" alt=\"http://mc-stan.org/\" width=\"150\"></th>\n",
    "</tr>\n",
    "</table>\n",
    "\n",
    "\n",
    "\n",
    "# Goals and Non-goals\n",
    "\n",
    "### Goals\n",
    "\n",
    "What I'll do:\n",
    "\n",
    "* Give a bit of basics first.\n",
    "* Describe NumPy, with under-the-hood details to the extent that they are useful to you, the user\n",
    "* Highlight some [GOTCHA]s, avoid some common bugs\n",
    "* Point out a couple useful NumPy functions\n",
    "\n",
    "**This is not an attempt to exaustively cover the reference manual (there's too many individual functions to keep in your head, anyway).**\n",
    "\n",
    "Instead, I'll try to...\n",
    "\n",
    "* provide you with an overview of the API structure so next time you're doing numeric data work you'll know where to look\n",
    "* convince you that NumPy arrays offer the perfect data structure for the following (wide-ranging) use case:\n",
    "\n",
    "**RAM-sized general-purpose structured numerical data applications: manipulation, collection, and analysis.**\n",
    "\n",
    "### Non-goals\n",
    "\n",
    "* No emphasis on multicore processing, but will be briefly mentioned\n",
    "* Some NumPy functionality not covered -- mentioned briefly at end\n",
    "* HPC concerns\n",
    "* GPU programming"
   ]
  },
  {
   "cell_type": "markdown",
   "metadata": {},
   "source": [
    "# Why not a Python list?\n",
    "\n",
    "A list is a resizing contiguous array of pointers.\n",
    "\n",
    "<img src=\"assets/pylist.png\" alt=\"http://www.laurentluce.com/posts/python-list-implementation/\">\n",
    "\n",
    "Nested lists are even worse - there are two levels of indirection.\n",
    "\n",
    "<img src=\"assets/nestlist.png\" alt=\"http://www.cs.toronto.edu/~gpenn/csc401/401_python_web/pyseq.html\">\n",
    "\n",
    "Compare to NumPy arrays, happy contiguous chunks of memory, even across axes. This image is only illustrative, a NumPy array may not necessarily be in C-order (more on that later):\n",
    "\n",
    "<img src=\"assets/nparr.png\" alt=\"https://www.safaribooksonline.com/library/view/python-for-data/9781491957653/ch04.html\" width=300>\n",
    "\n",
    "**Recurring theme**: NumPy lets us have the best of both worlds (high-level Python for development, optimized representation and speed via low-level C routines for execution)"
   ]
  },
  {
   "cell_type": "code",
   "execution_count": 12,
   "metadata": {},
   "outputs": [],
   "source": [
    "import numpy as np\n",
    "import time\n",
    "import gc\n",
    "import sys\n",
    "\n",
    "assert sys.maxsize > 2 ** 32, \"get a new computer!\"\n",
    "\n",
    "# Allocation-sensitive timing needs to be done more carefully\n",
    "# Compares runtimes of f1, f2\n",
    "def compare_times(f1, f2, setup1=None, setup2=None, runs=5):\n",
    "    print('format: mean seconds (standard error)', runs, 'runs')\n",
    "    maxpad = max(len(f.__name__) for f in (f1, f2))\n",
    "    means = []\n",
    "    for setup, f in [[setup1, f1], [setup2, f2]]:\n",
    "        setup = (lambda: tuple()) if setup is None else setup\n",
    "        \n",
    "        total_times = []\n",
    "        for _ in range(runs):\n",
    "            try:\n",
    "                gc.disable()\n",
    "                args = setup()\n",
    "                \n",
    "                start = time.time()\n",
    "                if isinstance(args, tuple):\n",
    "                    f(*args)\n",
    "                else:\n",
    "                    f(args)\n",
    "                end = time.time()\n",
    "                \n",
    "                total_times.append(end - start)\n",
    "            finally:\n",
    "                gc.enable()\n",
    "                \n",
    "        mean = np.mean(total_times)\n",
    "        se = np.std(total_times) / np.sqrt(len(total_times))\n",
    "        print('    {} {:.2e} ({:.2e})'.format(f.__name__.ljust(maxpad), mean, se))\n",
    "        means.append(mean)\n",
    "    print('improvement ratio {:.1f}'.format(means[0] / means[1]))"
   ]
  },
  {
   "cell_type": "markdown",
   "metadata": {},
   "source": [
    "### Bandwidth-limited ops\n",
    "\n",
    "* Have to pull in more cache lines for the pointers\n",
    "* Poor locality causes pipeline stalls"
   ]
  },
  {
   "cell_type": "code",
   "execution_count": 15,
   "metadata": {},
   "outputs": [
    {
     "name": "stdout",
     "output_type": "stream",
     "text": [
      "create a list 1, 2, ... 10000000\n",
      "format: mean seconds (standard error) 5 runs\n",
      "    create_list  3.52e-01 (1.47e-02)\n",
      "    create_array 1.55e-02 (1.99e-03)\n",
      "improvement ratio 22.7\n"
     ]
    }
   ],
   "source": [
    "size = 10 ** 7 # ints will be un-intered past 258\n",
    "print('create a list 1, 2, ...', size)\n",
    "\n",
    "\n",
    "def create_list(): return list(range(size))\n",
    "def create_array(): return np.arange(size, dtype=int)\n",
    "\n",
    "compare_times(create_list, create_array)"
   ]
  },
  {
   "cell_type": "code",
   "execution_count": 3,
   "metadata": {},
   "outputs": [
    {
     "name": "stdout",
     "output_type": "stream",
     "text": [
      "deep copies (no pre-allocation)\n",
      "    format: mean seconds (standard error) 5 runs\n",
      "    copy_list  1.81e-01 (1.21e-02)\n",
      "    copy_array 1.70e-02 (3.57e-03)\n",
      "    improvement ratio 10.7\n"
     ]
    }
   ],
   "source": [
    "print('deep copies (no pre-allocation)') # Shallow copy is cheap for both!\n",
    "size = 10 ** 7\n",
    "\n",
    "ls = list(range(size))\n",
    "def copy_list(): return ls[:]\n",
    "\n",
    "ar = np.arange(size, dtype=int)\n",
    "def copy_array(): return np.copy(ar)\n",
    "\n",
    "compare_times(copy_list, copy_array)"
   ]
  },
  {
   "cell_type": "code",
   "execution_count": 4,
   "metadata": {},
   "outputs": [
    {
     "name": "stdout",
     "output_type": "stream",
     "text": [
      "Deep copy (pre-allocated)\n",
      "    format: mean seconds (standard error) 5 runs\n",
      "    deep_copy_lists  1.67e-01 (5.42e-03)\n",
      "    deep_copy_arrays 1.51e-02 (2.23e-03)\n",
      "    improvement ratio 11.0\n"
     ]
    }
   ],
   "source": [
    "print('Deep copy (pre-allocated)')\n",
    "size = 10 ** 7\n",
    "\n",
    "def create_lists(): return list(range(size)), [0] * size\n",
    "def deep_copy_lists(src, dst): dst[:] = src\n",
    "\n",
    "def create_arrays(): return np.arange(size, dtype=int), np.empty(size, dtype=int)\n",
    "def deep_copy_arrays(src, dst): dst[:] = src\n",
    "\n",
    "compare_times(deep_copy_lists, deep_copy_arrays, create_lists, create_arrays)"
   ]
  },
  {
   "cell_type": "markdown",
   "metadata": {},
   "source": [
    "### Flop-limited ops\n",
    "\n",
    "* Can't engage VPU on non-contiguous memory: won't saturate CPU computational capabilities of your hardware (note that your numpy may not be vectorized anyway, but the \"saturate CPU\" part still holds)"
   ]
  },
  {
   "cell_type": "code",
   "execution_count": 5,
   "metadata": {},
   "outputs": [
    {
     "name": "stdout",
     "output_type": "stream",
     "text": [
      "square out-of-place\n",
      "    format: mean seconds (standard error) 5 runs\n",
      "    square_lists  1.14e+00 (1.36e-02)\n",
      "    square_arrays 2.06e-02 (3.19e-03)\n",
      "    improvement ratio 55.1\n"
     ]
    }
   ],
   "source": [
    "print('square out-of-place')\n",
    "\n",
    "def square_lists(src, dst):\n",
    "    for i, v in enumerate(src):\n",
    "        dst[i] = v * v\n",
    "\n",
    "def square_arrays(src, dst):\n",
    "    np.square(src, out=dst)\n",
    "    \n",
    "compare_times(square_lists, square_arrays, create_lists, create_arrays)"
   ]
  },
  {
   "cell_type": "code",
   "execution_count": 6,
   "metadata": {},
   "outputs": [
    {
     "name": "stdout",
     "output_type": "stream",
     "text": [
      "square in-place\n",
      "    format: mean seconds (standard error) 5 runs\n",
      "    square_list  1.09e+00 (3.87e-02)\n",
      "    square_array 1.23e-02 (2.35e-03)\n",
      "    improvement ratio 88.6\n"
     ]
    }
   ],
   "source": [
    "# Caching and SSE can have huge cumulative effects\n",
    "\n",
    "print('square in-place')\n",
    "size = 10 ** 7\n",
    "\n",
    "def create_list(): return list(range(size))\n",
    "def square_list(ls):\n",
    "    for i, v in enumerate(ls):\n",
    "        ls[i] = v * v\n",
    "\n",
    "def create_array(): return np.arange(size, dtype=int)\n",
    "def square_array(ar):\n",
    "    np.square(ar, out=ar)\n",
    "    \n",
    "compare_times(square_list, square_array, create_list, create_array)"
   ]
  },
  {
   "cell_type": "markdown",
   "metadata": {},
   "source": [
    "### Memory consumption\n",
    "\n",
    "List representation uses 8 extra bytes for every value (assuming 64-bit here and henceforth)!"
   ]
  },
  {
   "cell_type": "code",
   "execution_count": 7,
   "metadata": {},
   "outputs": [
    {
     "ename": "ModuleNotFoundError",
     "evalue": "No module named 'pympler'",
     "output_type": "error",
     "traceback": [
      "\u001b[1;31m---------------------------------------------------------------------------\u001b[0m",
      "\u001b[1;31mModuleNotFoundError\u001b[0m                       Traceback (most recent call last)",
      "\u001b[1;32m<ipython-input-7-cb5749b53455>\u001b[0m in \u001b[0;36m<module>\u001b[1;34m\u001b[0m\n\u001b[1;32m----> 1\u001b[1;33m \u001b[1;32mfrom\u001b[0m \u001b[0mpympler\u001b[0m \u001b[1;32mimport\u001b[0m \u001b[0masizeof\u001b[0m\u001b[1;33m\u001b[0m\u001b[1;33m\u001b[0m\u001b[0m\n\u001b[0m\u001b[0;32m      2\u001b[0m \u001b[0msize\u001b[0m \u001b[1;33m=\u001b[0m \u001b[1;36m10\u001b[0m \u001b[1;33m**\u001b[0m \u001b[1;36m4\u001b[0m\u001b[1;33m\u001b[0m\u001b[1;33m\u001b[0m\u001b[0m\n\u001b[0;32m      3\u001b[0m \u001b[1;33m\u001b[0m\u001b[0m\n\u001b[0;32m      4\u001b[0m \u001b[0mprint\u001b[0m\u001b[1;33m(\u001b[0m\u001b[1;34m'list  kb'\u001b[0m\u001b[1;33m,\u001b[0m \u001b[0masizeof\u001b[0m\u001b[1;33m.\u001b[0m\u001b[0masizeof\u001b[0m\u001b[1;33m(\u001b[0m\u001b[0mlist\u001b[0m\u001b[1;33m(\u001b[0m\u001b[0mrange\u001b[0m\u001b[1;33m(\u001b[0m\u001b[0msize\u001b[0m\u001b[1;33m)\u001b[0m\u001b[1;33m)\u001b[0m\u001b[1;33m)\u001b[0m \u001b[1;33m//\u001b[0m \u001b[1;36m1024\u001b[0m\u001b[1;33m)\u001b[0m\u001b[1;33m\u001b[0m\u001b[1;33m\u001b[0m\u001b[0m\n\u001b[0;32m      5\u001b[0m \u001b[0mprint\u001b[0m\u001b[1;33m(\u001b[0m\u001b[1;34m'array kb'\u001b[0m\u001b[1;33m,\u001b[0m \u001b[0masizeof\u001b[0m\u001b[1;33m.\u001b[0m\u001b[0masizeof\u001b[0m\u001b[1;33m(\u001b[0m\u001b[0mnp\u001b[0m\u001b[1;33m.\u001b[0m\u001b[0marange\u001b[0m\u001b[1;33m(\u001b[0m\u001b[0msize\u001b[0m\u001b[1;33m,\u001b[0m \u001b[0mdtype\u001b[0m\u001b[1;33m=\u001b[0m\u001b[0mint\u001b[0m\u001b[1;33m)\u001b[0m\u001b[1;33m)\u001b[0m \u001b[1;33m//\u001b[0m \u001b[1;36m1024\u001b[0m\u001b[1;33m)\u001b[0m\u001b[1;33m\u001b[0m\u001b[1;33m\u001b[0m\u001b[0m\n",
      "\u001b[1;31mModuleNotFoundError\u001b[0m: No module named 'pympler'"
     ]
    }
   ],
   "source": [
    "from pympler import asizeof\n",
    "size = 10 ** 4\n",
    "\n",
    "print('list  kb', asizeof.asizeof(list(range(size))) // 1024)\n",
    "print('array kb', asizeof.asizeof(np.arange(size, dtype=int)) // 1024)"
   ]
  },
  {
   "cell_type": "markdown",
   "metadata": {
    "collapsed": true
   },
   "source": [
    "### Disclaimer\n",
    "\n",
    "Regular python lists are still useful! They do a lot of things arrays can't:\n",
    "\n",
    "* List comprehensions `[x * x for x in range(10) if x % 2 == 0]`\n",
    "* Ragged nested lists `[[1, 2, 3], [1, [2]]]`"
   ]
  },
  {
   "cell_type": "markdown",
   "metadata": {},
   "source": [
    "# The NumPy Array\n",
    "\n",
    "[doc](https://docs.scipy.org/doc/numpy/reference/arrays.ndarray.html#internal-memory-layout-of-an-ndarray)\n",
    "\n",
    "### Abstraction\n",
    "\n",
    "We know what an array is -- a contiugous chunk of memory holding an indexed list of things from 0 to its size minus 1. If the things have a particular type, using, say, `dtype` as a placeholder, then we can refer to this as a `classical_array` of `dtype`s.\n",
    "\n",
    "The NumPy array, an `ndarray` with a _datatype, or dtype,_ `dtype` is an _N_-dimensional array for arbitrary _N_. This is defined recursively:\n",
    "* For _N > 0_, an _N_-dimensional `ndarray` of _dtype_ `dtype` is a `classical_array` of _N - 1_ dimensional `ndarray`s of _dtype_ `dtype`, all with the same size.\n",
    "* For _N = 0_, the `ndarray` is a `dtype`\n",
    "\n",
    "We note some familiar special cases:\n",
    "* _N = 0_, we have a scalar, or the datatype itself\n",
    "* _N = 1_, we have a `classical_array`\n",
    "* _N = 2_, we have a matrix\n",
    "\n",
    "Each _axis_ has its own `classical_array` length: this yields the shape."
   ]
  },
  {
   "cell_type": "code",
   "execution_count": null,
   "metadata": {},
   "outputs": [],
   "source": [
    "n0 = np.array(3, dtype=float)\n",
    "n1 = np.stack([n0, n0, n0, n0])\n",
    "n2 = np.stack([n1, n1])\n",
    "n3 = np.stack([n2, n2])\n",
    "\n",
    "for x in [n0, n1, n2, n3]:\n",
    "    print('ndim', x.ndim, 'shape', x.shape)\n",
    "    print(x)"
   ]
  },
  {
   "cell_type": "markdown",
   "metadata": {},
   "source": [
    "**Axes are read LEFT to RIGHT: an array of shape `(n0, n1, ..., nN-1)` has axis `0` with length `n0`, etc.**\n",
    "\n",
    "### Detour: Formal Representation\n",
    "\n",
    "**Warning, these are pretty useless definitions unless you want to understand [np.einsum](https://docs.scipy.org/doc/numpy-1.13.0/reference/generated/numpy.einsum.html), which is only at the end anyway.**\n",
    "\n",
    "Formally, a NumPy array can be viewed as a mathematical object. If:\n",
    "\n",
    "* The `dtype` belongs to some (usually field) $F$\n",
    "* The array has dimension $N$, with the $i$-th axis having length $n_i$\n",
    "* $N>1$\n",
    "\n",
    "Then this array is an object in:\n",
    "\n",
    "$$\n",
    "F^{n_0}\\otimes F^{n_{1}}\\otimes\\cdots \\otimes F^{n_{N-1}}\n",
    "$$\n",
    "\n",
    "$F^n$ is an $n$-dimensional vector space over $F$. An element in here can be represented by its canonical basis $\\textbf{e}_i^{(n)}$ as a sum for elements $f_i\\in F$:\n",
    "\n",
    "$$\n",
    "f_1\\textbf{e}_1^{(n)}+f_{2}\\textbf{e}_{2}^{(n)}+\\cdots +f_{n}\\textbf{e}_{n}^{(n)}\n",
    "$$\n",
    "\n",
    "$F^n\\otimes F^m$ is a tensor product, which takes two vector spaces and gives you another. Then the tensor product is a special kind of vector space with dimension $nm$. Elements in here have a special structure which we can tie to the original vector spaces $F^n,F^m$:\n",
    "\n",
    "$$\n",
    "\\sum_{i=1}^n\\sum_{j=1}^mf_{ij}(\\textbf{e}_{i}^{(n)}\\otimes \\textbf{e}_{j}^{(m)})\n",
    "$$\n",
    "\n",
    "Above, $(\\textbf{e}_{i}^{(n)}\\otimes \\textbf{e}_{j}^{(m)})$ is a basis vector of $F^n\\otimes F^m$ for each pair $i,j$.\n",
    "\n",
    "We will discuss what $F$ can be later; but most of this intuition (and a lot of NumPy functionality) is based on $F$ being a type corresponding to a field.\n",
    "\n",
    "# Back to CS / Mutability / Losing the Abstraction\n",
    "\n",
    "The above is a (simplified) view of `ndarray` as a tensor, but gives useful intuition for arrays that are **not mutated**.\n",
    "\n",
    "An `ndarray` **Python object** is a actually a _view_ into a shared `ndarray`. The _base_ is a representative of the equaivalence class of views of the same array\n",
    "\n",
    "<img src=\"assets/ndarrayrep.png\" alt=\"https://docs.scipy.org/doc/numpy/reference/arrays.html\">\n",
    "\n",
    "**This diagram is a lie (the array isn't in your own bubble, it's shared)!**"
   ]
  },
  {
   "cell_type": "code",
   "execution_count": null,
   "metadata": {},
   "outputs": [],
   "source": [
    "original = np.arange(10)\n",
    "\n",
    "# shallow copies\n",
    "s1 = original[:]\n",
    "s2 = s1.view()\n",
    "s3 = original[:5]\n",
    "\n",
    "print(original)"
   ]
  },
  {
   "cell_type": "code",
   "execution_count": null,
   "metadata": {},
   "outputs": [],
   "source": [
    "original[2] = -1\n",
    "print('s1', s1)\n",
    "print('s2', s2)\n",
    "print('s3', s3)"
   ]
  },
  {
   "cell_type": "code",
   "execution_count": null,
   "metadata": {},
   "outputs": [],
   "source": [
    "id(original), id(s1.base), id(s2.base), id(s3.base), original.base"
   ]
  },
  {
   "cell_type": "markdown",
   "metadata": {},
   "source": [
    "### Dtypes\n",
    "\n",
    "$F$ (our `dtype`) can be ([doc](https://docs.scipy.org/doc/numpy/reference/arrays.dtypes.html)):\n",
    "\n",
    "* boolean\n",
    "* integral\n",
    "* floating-point\n",
    "* complex floating-point\n",
    "* any structure ([record array](https://docs.scipy.org/doc/numpy/user/basics.rec.html)) of the above, e.g. [complex integral values](http://stackoverflow.com/questions/13863523/is-it-possible-to-create-a-numpy-ndarray-that-holds-complex-integers)\n",
    "\n",
    "The `dtype` can also be unicode, a date, or an arbitrary object, but those don't form fields. This means that most NumPy functions aren't usful for this data, since it's not numeric. Why have them at all?\n",
    "\n",
    "* for all: NumPy `ndarray`s offer the tensor abstraction described above.\n",
    "* unicode: consistent format in memory for bit operations and for I/O\n",
    "* [date](https://docs.scipy.org/doc/numpy/reference/arrays.datetime.html): compact representation, addition/subtraction, basic parsing"
   ]
  },
  {
   "cell_type": "code",
   "execution_count": null,
   "metadata": {},
   "outputs": [],
   "source": [
    "# Names are pretty intuitive for basic types\n",
    "\n",
    "i16 = np.arange(100, dtype=np.uint16)\n",
    "i64 = np.arange(100, dtype=np.uint64)\n",
    "print('i16', asizeof.asizeof(i16), 'i64', asizeof.asizeof(i64))"
   ]
  },
  {
   "cell_type": "code",
   "execution_count": null,
   "metadata": {},
   "outputs": [],
   "source": [
    "# We can use arbitrary structures for our own types\n",
    "# For example, exact Gaussian (complex) integers\n",
    "\n",
    "gauss = np.dtype([('re', np.int32), ('im', np.int32)])\n",
    "c2 = np.zeros(2, dtype=gauss)\n",
    "c2[0] = (1, 1)\n",
    "c2[1] = (2, -1)\n",
    "\n",
    "def print_gauss(g):\n",
    "    print('{}{:+d}i'.format(g['re'], g['im']))\n",
    "          \n",
    "print(c2)\n",
    "for x in c2:\n",
    "    print_gauss(x)"
   ]
  },
  {
   "cell_type": "code",
   "execution_count": null,
   "metadata": {},
   "outputs": [],
   "source": [
    "l16 = np.array(5, dtype='>u2') # little endian signed char\n",
    "b16 = l16.astype('<u2') # big endian unsigned char\n",
    "print(l16.tobytes(), np.binary_repr(l16, width=16))\n",
    "print(b16.tobytes(), np.binary_repr(b16, width=16))"
   ]
  },
  {
   "cell_type": "markdown",
   "metadata": {},
   "source": [
    "# Indexing [doc](https://docs.scipy.org/doc/numpy/reference/arrays.indexing.html)\n",
    "\n",
    "Probably the most creative, unique part of the entire library. This is what makes NumPy `ndarray` better than any other array.\n",
    "\n",
    "And index returns an `ndarray` view based on the other `ndarray`.\n",
    "\n",
    "### Basic Indexing"
   ]
  },
  {
   "cell_type": "code",
   "execution_count": null,
   "metadata": {},
   "outputs": [],
   "source": [
    "x = np.arange(10)\n",
    "\n",
    "# start:stop:step\n",
    "# inclusive start, exclusive stop\n",
    "print(x)\n",
    "print(x[2:6:2])\n",
    "print(id(x), id(x[2:6:2].base))"
   ]
  },
  {
   "cell_type": "code",
   "execution_count": null,
   "metadata": {},
   "outputs": [],
   "source": [
    "# Default start is 0, default end is length, default step is 1\n",
    "print(x[:3])\n",
    "print(x[7:])"
   ]
  },
  {
   "cell_type": "code",
   "execution_count": null,
   "metadata": {
    "scrolled": true
   },
   "outputs": [],
   "source": [
    "# Don't worry about overshooting\n",
    "print(x[:100])\n",
    "print(x[7:2:1])"
   ]
  },
  {
   "cell_type": "code",
   "execution_count": null,
   "metadata": {},
   "outputs": [],
   "source": [
    "# Negatives wrap around (taken mod length of axis)\n",
    "print(x[-4:-1])"
   ]
  },
  {
   "cell_type": "code",
   "execution_count": null,
   "metadata": {},
   "outputs": [],
   "source": [
    "# An array whose index goes up in reverse\n",
    "print(x[::-1]) # default start = n-1 and stop = -1 for negative step [GOTCHA]\n",
    "print(x[::-1][:3])"
   ]
  },
  {
   "cell_type": "code",
   "execution_count": null,
   "metadata": {},
   "outputs": [],
   "source": [
    "# What happens if we do an ascending sort on an array with the reverse index?\n",
    "x = np.arange(10)\n",
    "\n",
    "print('x[:5]               ', x[:5])\n",
    "print('x[:5][::-1]         ', x[:5][::-1])\n",
    "x[:5][::-1].sort()\n",
    "print('calling x[:5][::-1].sort()')\n",
    "print('x[:5][::-1] (sorted)', x[:5][::-1])\n",
    "print('x[:5] (rev-sorted)  ', x[:5])\n",
    "print('x                   ', x)"
   ]
  },
  {
   "cell_type": "code",
   "execution_count": null,
   "metadata": {},
   "outputs": [],
   "source": [
    "# Multi-dimensional\n",
    "\n",
    "def display(exp):\n",
    "    print(exp, eval(exp).shape)\n",
    "    print(eval(exp))\n",
    "    print()\n",
    "    \n",
    "x = np.arange(4 * 4 * 2).reshape(2, 4, 4)\n",
    "display('x')\n",
    "display('x[1, :, :1]')\n",
    "display('x[1, :, 0]')"
   ]
  },
  {
   "cell_type": "code",
   "execution_count": null,
   "metadata": {},
   "outputs": [],
   "source": [
    "# Add as many length-1 axes as you want [we'll see why later]\n",
    "y = np.arange(2 * 2).reshape(2, 2)\n",
    "display('y')\n",
    "display('y[:, :, np.newaxis]')\n",
    "display('y[np.newaxis, :, :, np.newaxis]')"
   ]
  },
  {
   "cell_type": "code",
   "execution_count": null,
   "metadata": {},
   "outputs": [],
   "source": [
    "# Programatically create indices\n",
    "def f(): return slice(0, 2, 1)\n",
    "s = f()\n",
    "print('slice', s.start, s.stop, s.step)\n",
    "display('x[0, 0, s]')\n",
    "# equivalent notation\n",
    "display('x[tuple([0, 0, s])]')\n",
    "display('x[(0, 0, s)]')"
   ]
  },
  {
   "cell_type": "markdown",
   "metadata": {},
   "source": [
    "Basic indices let us access hyper-rectangles with strides:\n",
    "\n",
    "<img src=\"assets/slices.png\" alt=\"http://www.scipy-lectures.org/intro/numpy/numpy.html\" width=\"300\">\n",
    "\n",
    "### Advanced Indexing\n",
    "\n",
    "Arbitrary combinations of basic indexing. **GOTCHA: All advanced index results are copies, not views**."
   ]
  },
  {
   "cell_type": "code",
   "execution_count": null,
   "metadata": {},
   "outputs": [],
   "source": [
    "m = np.arange(4 * 5).reshape(4, 5)\n",
    "\n",
    "# 1D advanced index\n",
    "display('m')\n",
    "display('m[[1,2,1],:]')"
   ]
  },
  {
   "cell_type": "code",
   "execution_count": null,
   "metadata": {},
   "outputs": [],
   "source": [
    "print('original indices')\n",
    "print('  rows', np.arange(m.shape[0]))\n",
    "print('  cols', np.arange(m.shape[1]))\n",
    "print('new indices')\n",
    "print('  rows', ([1, 2, 1]))\n",
    "print('  cols', np.arange(m.shape[1]))"
   ]
  },
  {
   "cell_type": "code",
   "execution_count": null,
   "metadata": {},
   "outputs": [],
   "source": [
    "# 2D advanced index\n",
    "display('m')\n",
    "display('m[0:1, [[1, 1, 2],[0, 1, 2]]]')"
   ]
  },
  {
   "cell_type": "markdown",
   "metadata": {},
   "source": [
    "Why on earth would you do the above? Selection, sampling, algorithms that are based on offsets of arrays (i.e., basically all of them).\n",
    "\n",
    "**What's going on?**\n",
    "\n",
    "Advanced indexing is best thought of in the following way:\n",
    "\n",
    "A typical `ndarray`, `x`, with shape `(n0, ..., nN-1)` has `N` corresponding _indices_. \n",
    "\n",
    "`(range(n0), ..., range(nN-1))`\n",
    "\n",
    "Indices work like this: the `(i0, ..., iN-1)`-th element in an array with the above indices  over `x` is:\n",
    "\n",
    "`(range(n0)[i0], ..., range(n2)[iN-1]) == (i0, ..., iN-1)`\n",
    "\n",
    "So the `(i0, ..., iN-1)`-th element of `x` is the `(i0, ..., iN-1)`-th element of \"x with indices `(range(n0), ..., range(nN-1))`\".\n",
    "\n",
    "An advanced index `x[:, ..., ind, ..., :]`, where `ind` is some 1D list of integers for axis `j` between `0` and `nj`, possibly with repretition, replaces the straightforward increasing indices with:\n",
    "\n",
    "`(range(n0), ..., ind, ..., range(nN-1))`\n",
    "\n",
    "The `(i0, ..., iN-1)`-th element is `(i0, ..., ind[ij], ..., iN-1)` from `x`.\n",
    "\n",
    "So the shape will now be `(n0, ..., len(ind), ..., nN-1)`.\n",
    "\n",
    "It can get even more complicated -- `ind` can be higher dimensional."
   ]
  },
  {
   "cell_type": "code",
   "execution_count": null,
   "metadata": {},
   "outputs": [],
   "source": [
    "# GOTCHA: accidentally invoking advanced indexing\n",
    "display('x')\n",
    "display('x[(0, 0, 1),]') # advanced\n",
    "display('x[(0, 0, 1)]') # basic\n",
    "# best policy: don't parenthesize when you want basic"
   ]
  },
  {
   "cell_type": "markdown",
   "metadata": {},
   "source": [
    "The above covers the case of one advanced index and the rest being basic. One other common situation that comes up in practice is every index is advanced.\n",
    "\n",
    "Recall array `x` with shape `(n0, ..., nN-1)`. Let `indj` be integer `ndarrays` all of the same shape (say, `(m0, ..., mM-1)`).\n",
    "\n",
    "Then `x[ind0, ... indN-1]` has shape `(m0, ..., mM-1)` and its `t=(j0, ..., jM-1)`-th element is the `(ind0[t], ..., indN-1(t))`-th element of `x`."
   ]
  },
  {
   "cell_type": "code",
   "execution_count": null,
   "metadata": {},
   "outputs": [],
   "source": [
    "display('m')\n",
    "display('m[[1,2],[3,4]]')\n",
    "\n",
    "# ix_: only applies to 1D indices. computes the cross product\n",
    "display('m[np.ix_([1,2],[3,4])]')\n",
    "\n",
    "# r_: concatenates slices and all forms of indices\n",
    "display('m[0, np.r_[:2, slice(3, 1, -1), 2]]')"
   ]
  },
  {
   "cell_type": "code",
   "execution_count": null,
   "metadata": {},
   "outputs": [],
   "source": [
    "# Boolean arrays are converted to integers where they're true\n",
    "# Then they're treated like the corresponding integer arrays\n",
    "np.random.seed(1234)\n",
    "digits = np.random.permutation(np.arange(10))\n",
    "is_odd = digits % 2\n",
    "print(digits)\n",
    "print(is_odd)\n",
    "print(is_odd.astype(bool))\n",
    "print(digits[is_odd]) # GOTCHA\n",
    "print(digits[is_odd.astype(bool)])"
   ]
  },
  {
   "cell_type": "code",
   "execution_count": null,
   "metadata": {},
   "outputs": [],
   "source": [
    "print(digits)\n",
    "print(is_odd.nonzero()[0])\n",
    "print(digits[is_odd.nonzero()])"
   ]
  },
  {
   "cell_type": "code",
   "execution_count": null,
   "metadata": {},
   "outputs": [],
   "source": [
    "# Boolean selection in higher dimensions:\n",
    "x = np.arange(2 *2).reshape(2, -1)\n",
    "y = (x % 2).astype(bool)\n",
    "print(x)\n",
    "print(y)\n",
    "print(y.nonzero())\n",
    "print(x[y]) # becomes double advanced index"
   ]
  },
  {
   "cell_type": "markdown",
   "metadata": {},
   "source": [
    "### Indexing Applications"
   ]
  },
  {
   "cell_type": "code",
   "execution_count": null,
   "metadata": {},
   "outputs": [],
   "source": [
    "# Data cleanup / filtering\n",
    "\n",
    "x = np.array([1, 2, 3, np.nan, 2, 1, np.nan])\n",
    "b = ~np.isnan(x)\n",
    "print(x)\n",
    "print(b)\n",
    "print(x[b])"
   ]
  },
  {
   "cell_type": "code",
   "execution_count": null,
   "metadata": {
    "scrolled": true
   },
   "outputs": [],
   "source": [
    "# Selecting labelled data (e.g. for plotting)\n",
    "\n",
    "%matplotlib inline\n",
    "import matplotlib.pyplot as plt\n",
    "\n",
    "# From DBSCAN sklearn ex\n",
    "from sklearn.datasets.samples_generator import make_blobs\n",
    "\n",
    "X, labels = make_blobs(n_samples=100, centers=[[0, 0], [1, 1]], cluster_std=0.4, random_state=0)\n",
    "print(X.shape)\n",
    "print(labels.shape)\n",
    "print(np.unique(labels))"
   ]
  },
  {
   "cell_type": "code",
   "execution_count": null,
   "metadata": {},
   "outputs": [],
   "source": [
    "for label, color in [(0, 'b'), (1, 'r')]:\n",
    "    xy = X[labels == label]\n",
    "    plt.scatter(xy[:, 0], xy[:, 1], color=color, marker='.')\n",
    "\n",
    "plt.axis([-1, 2, -1, 2])\n",
    "plt.show()"
   ]
  },
  {
   "cell_type": "code",
   "execution_count": null,
   "metadata": {},
   "outputs": [],
   "source": [
    "# Contour plots\n",
    "# How to plot sin(x)*sin(y) heatmap?\n",
    "\n",
    "xs, ys = np.mgrid[0:5:100j, 0:5:100j] # genertate mesh\n",
    "Z = np.sin(xs) * np.sin(ys)\n",
    "plt.imshow(Z, extent=(0, 5, 0, 5))\n",
    "plt.show()"
   ]
  },
  {
   "cell_type": "code",
   "execution_count": null,
   "metadata": {},
   "outputs": [],
   "source": [
    "# Actual problem from my research:\n",
    "\n",
    "# Suppose you have 2 sensors, each of which should take measurements\n",
    "# at even intervals over the day. We want to make a method which can let us\n",
    "# recover from device failure: if a sensor goes down for an extended period,\n",
    "# can we impute the missing values from the other?\n",
    "\n",
    "# Take for example two strongly correlated measured signals:\n",
    "\n",
    "np.random.seed(1234)\n",
    "s1 = np.sin(np.linspace(0, 10, 100)) + np.random.randn(100) * 0.05\n",
    "s2 = 2 * np.sin(np.linspace(0, 10, 100)) + np.random.randn(100) * 0.05\n",
    "plt.plot(s1, color='blue')\n",
    "plt.plot(s2, color='red')\n",
    "plt.show()"
   ]
  },
  {
   "cell_type": "code",
   "execution_count": null,
   "metadata": {},
   "outputs": [],
   "source": [
    "# Simulate a failure in sensor 2 for a random 40-index period\n",
    "\n",
    "def holdout(): # gives arbitrary slice from 0 to 100 width 40\n",
    "    width = 40\n",
    "    start = np.random.randint(0, len(s2) - width)\n",
    "    missing = slice(start, start + width)\n",
    "    return missing, np.r_[:start, missing.stop:len(s2)]\n",
    "\n",
    "# Find the most likely scaling for reconstructing s2 from s1\n",
    "def factor_finder(train_ix):\n",
    "    return np.mean((s2[train_ix] + 0.0001) / (s1[train_ix] + 0.0001))\n",
    "\n",
    "test, train = holdout()\n",
    "f = factor_finder(train)\n",
    "\n",
    "def plot_factor(factor):\n",
    "    times = np.arange(len(s1))\n",
    "    test, train = holdout()\n",
    "    plt.plot(times, s1, color='blue', ls='--', label='s1')\n",
    "    plt.scatter(times[train], s2[train], color='red', marker='.', label='train')\n",
    "    plt.plot(times[test], s1[test] * factor, color='green', alpha=0.6, label='prediction')\n",
    "    plt.scatter(times[test], s2[test], color='magenta', marker='.', label='test')\n",
    "    plt.legend(bbox_to_anchor=(1.05, 0.6), loc=2)\n",
    "    plt.title('prediction factor {}'.format(factor))\n",
    "    plt.show()\n",
    "\n",
    "plot_factor(f)"
   ]
  },
  {
   "cell_type": "code",
   "execution_count": null,
   "metadata": {},
   "outputs": [],
   "source": [
    "# Cubic kernel convolution and interpolation\n",
    "# Complicated example; take a look on your own time!\n",
    "\n",
    "import scipy\n",
    "import scipy.sparse\n",
    "\n",
    "# From Cubic Convolution Interpolation (Keys 1981)\n",
    "# Computes a piecewise cubic kernel evaluated at each data point in x\n",
    "def cubic_kernel(x):\n",
    "    y = np.zeros_like(x)\n",
    "    x = np.fabs(x)\n",
    "    if np.any(x > 2):\n",
    "        raise ValueError('only absolute values <= 2 allowed')\n",
    "    q = x <= 1\n",
    "    y[q] = ((1.5 * x[q] - 2.5) * x[q]) * x[q] + 1\n",
    "    q = ~q\n",
    "    y[q] = ((-0.5 * x[q] + 2.5) * x[q] - 4) * x[q] + 2\n",
    "    return y\n",
    "\n",
    "# Everything is 1D\n",
    "# Given a uniform grid of size grid_size\n",
    "# and requested samples of size n_samples,\n",
    "# generates an n_samples x grid_size interpolation matrix W\n",
    "# such that W.f(grid) ~ f(samples) for differentiable f and samples\n",
    "# inside of the grid.\n",
    "def interp_cubic(grid, samples):\n",
    "    delta = grid[1] - grid[0]\n",
    "    factors = (samples - grid[0]) / delta\n",
    "    # closest refers to the closest grid point that is smaller\n",
    "    idx_of_closest = np.floor(factors)\n",
    "    dist_to_closest = factors - idx_of_closest # in units of delta\n",
    "\n",
    "    grid_size = len(grid)\n",
    "    n_samples = len(samples)\n",
    "    csr = scipy.sparse.csr_matrix((n_samples, grid_size), dtype=float)\n",
    "    for conv_idx in range(-2, 2): # sliding convolution window\n",
    "        coeff_idx = idx_of_closest - conv_idx\n",
    "        coeff_idx[coeff_idx < 0] = 0 # threshold (no wraparound below)\n",
    "        coeff_idx[coeff_idx >= grid_size] = grid_size - 1 # threshold (no wraparound above)\n",
    "        \n",
    "        relative_dist = dist_to_closest + conv_idx\n",
    "        data = cubic_kernel(relative_dist)\n",
    "        col_idx = coeff_idx\n",
    "        ind_ptr = np.arange(0, n_samples + 1)\n",
    "        csr += scipy.sparse.csr_matrix((data, col_idx, ind_ptr),\n",
    "                                       shape=(n_samples, grid_size))\n",
    "    return csr\n",
    "    \n",
    "lo, hi = 0, 1\n",
    "fine = np.linspace(lo, hi, 100)\n",
    "coarse = np.linspace(lo, hi, 15)\n",
    "W = interp_cubic(coarse, fine)\n",
    "W.shape"
   ]
  },
  {
   "cell_type": "code",
   "execution_count": null,
   "metadata": {},
   "outputs": [],
   "source": [
    "def f(x):\n",
    "    a = np.sin(2 / (x + 0.2)) * (x + 0.1)\n",
    "    #a = a * np.cos(5 * x)\n",
    "    a = a * np.cos(2 * x)\n",
    "    return a\n",
    "\n",
    "known = f(coarse) # only use coarse\n",
    "interp = W.dot(known)\n",
    "\n",
    "plt.scatter(coarse, known, color='blue', label='grid')\n",
    "plt.plot(fine, interp, color='red', label='interp')\n",
    "plt.plot(fine, f(fine), color='black', label='exact', ls=':')\n",
    "plt.legend(bbox_to_anchor=(1.05, 0.6), loc=2)\n",
    "plt.show()"
   ]
  },
  {
   "cell_type": "markdown",
   "metadata": {},
   "source": [
    "# Array Creation and Initialization\n",
    "\n",
    "[doc](https://docs.scipy.org/doc/numpy-dev/reference/routines.array-creation.html)\n",
    "\n",
    "If unspecified, default dtype is usually float, with an exception for arange."
   ]
  },
  {
   "cell_type": "code",
   "execution_count": null,
   "metadata": {},
   "outputs": [],
   "source": [
    "display('np.linspace(4, 8, 2)')\n",
    "display('np.arange(4, 8, 2)') # GOTCHA"
   ]
  },
  {
   "cell_type": "code",
   "execution_count": null,
   "metadata": {},
   "outputs": [],
   "source": [
    "plt.plot(np.linspace(1, 4, 10), np.logspace(1, 4, 10))\n",
    "plt.show()"
   ]
  },
  {
   "cell_type": "code",
   "execution_count": null,
   "metadata": {},
   "outputs": [],
   "source": [
    "shape = (4, 2)\n",
    "print(np.zeros(shape)) # init to zero. Use np.ones or np.full accordingly\n",
    "\n",
    "# [GOTCHA] np.empty won't initialize anything; it will just grab the first available chunk of memory\n",
    "x = np.zeros(shape)\n",
    "x[0] = [1, 2]\n",
    "del x\n",
    "print(np.empty(shape))"
   ]
  },
  {
   "cell_type": "code",
   "execution_count": null,
   "metadata": {},
   "outputs": [],
   "source": [
    "# From iterator/list/array - can just use constructor\n",
    "np.array([[1, 2], range(3, 5), np.array([5, 6])]) # auto-flatten (if possible)"
   ]
  },
  {
   "cell_type": "code",
   "execution_count": null,
   "metadata": {},
   "outputs": [],
   "source": [
    "# Deep copies & shape/dtype preserving creations\n",
    "x = np.arange(4).reshape(2, 2)\n",
    "y = np.copy(x)\n",
    "z = np.zeros_like(x)\n",
    "x[1, 1] = 5\n",
    "print(x)\n",
    "print(y)\n",
    "print(z)"
   ]
  },
  {
   "cell_type": "markdown",
   "metadata": {},
   "source": [
    "Extremely extensive [random generation](https://docs.scipy.org/doc/numpy/reference/routines.random.html). Remember to seed!\n",
    "\n",
    "# Transposition\n",
    "\n",
    "**Under the hood**. So far, we've just been looking at the abstraction that NumPy offers. How does it actually keep things contiguous in memory?\n",
    "\n",
    "We have a base array, which is one long contiguous array from 0 to size - 1."
   ]
  },
  {
   "cell_type": "code",
   "execution_count": null,
   "metadata": {},
   "outputs": [],
   "source": [
    "x = np.arange(2 * 3 * 4).reshape(2, 3, 4)\n",
    "print(x.shape)\n",
    "print(x.size)"
   ]
  },
  {
   "cell_type": "code",
   "execution_count": null,
   "metadata": {},
   "outputs": [],
   "source": [
    "# Use ravel() to get the underlying flat array. np.flatten() will give you a copy\n",
    "print(x)\n",
    "print(x.ravel())"
   ]
  },
  {
   "cell_type": "code",
   "execution_count": null,
   "metadata": {},
   "outputs": [],
   "source": [
    "# np.transpose or *.T will reverse axes\n",
    "print('transpose', x.shape, '->', x.T.shape)\n",
    "# rollaxis pulls the argument axis to axis 0, keeping all else the same.\n",
    "print('rollaxis', x.shape, '->', np.rollaxis(x, 1, 0).shape)\n",
    "\n",
    "print()\n",
    "# all the above are instances of np.moveaxis\n",
    "# it's clear how these behave:\n",
    "\n",
    "perm = np.array([0, 2, 1])\n",
    "moved = np.moveaxis(x, range(3), perm)\n",
    "\n",
    "print('arbitrary permutation', list(range(3)), perm)\n",
    "print(x.shape, '->', moved.shape)\n",
    "print('moved[1, 2, 0]', moved[1, 2, 0], 'x[1, 0, 2]', x[1, 0, 2])"
   ]
  },
  {
   "cell_type": "code",
   "execution_count": null,
   "metadata": {},
   "outputs": [],
   "source": [
    "# When is transposition useful?\n",
    "# Matrix stuff, mostly:\n",
    "np.random.seed(1234)\n",
    "\n",
    "X = np.random.randn(3, 4)\n",
    "print('sigma {:.2f}, eig {:.2f}'.format(\n",
    "    np.linalg.svd(X)[1].max(),\n",
    "    np.sqrt(np.linalg.eigvalsh(X.dot(X.T)).max())))"
   ]
  },
  {
   "cell_type": "code",
   "execution_count": null,
   "metadata": {},
   "outputs": [],
   "source": [
    "# Create a random symmetric matrix\n",
    "X = np.random.randn(3, 3)\n",
    "plt.imshow(X)\n",
    "plt.show()\n",
    "\n",
    "X += X.T\n",
    "plt.imshow(X)\n",
    "plt.show()\n",
    "\n",
    "print('Check frob norm upper vs lower tri', np.linalg.norm(np.triu(X) - np.tril(X).T))"
   ]
  },
  {
   "cell_type": "code",
   "execution_count": null,
   "metadata": {},
   "outputs": [],
   "source": [
    "# Row-major, C-order\n",
    "# largest axis changes fastest\n",
    "A = np.arange(2 * 3).reshape(2, 3).copy(order='C')\n",
    "\n",
    "# Row-major, Fortran-order\n",
    "# smallest axis changes fastest\n",
    "# GOTCHA: many numpy funcitons assume C ordering\n",
    "B = np.arange(2 * 3).reshape(2, 3).copy(order='F')\n",
    "\n",
    "# Differences in representation don't manifest in abstraction\n",
    "print(A)\n",
    "print(B)"
   ]
  },
  {
   "cell_type": "code",
   "execution_count": null,
   "metadata": {},
   "outputs": [],
   "source": [
    "# Array manipulation functions with order option\n",
    "# will use C/F ordering, but this is independent of the underlying layout\n",
    "print(A.ravel())\n",
    "print(A.ravel(order='F'))\n",
    "\n",
    "# Reshape ravels an array, then folds back into shape, according to the given order\n",
    "# Note reshape can infer one dimension; we leave it as -1.\n",
    "print(A.ravel(order='F').reshape(-1, 3))\n",
    "print(A.ravel(order='F').reshape(-1, 3, order='F'))"
   ]
  },
  {
   "cell_type": "code",
   "execution_count": null,
   "metadata": {},
   "outputs": [],
   "source": [
    "# GOTCHA: ravel will copy the array so that everything is contiguous\n",
    "# if the order differs\n",
    "print(id(A), id(A.ravel().base), id(A.ravel(order='F')))"
   ]
  },
  {
   "cell_type": "markdown",
   "metadata": {},
   "source": [
    "### Transposition Example: Kronecker multiplication\n",
    "\n",
    "Based on Saatci 2011 (PhD thesis).\n",
    "\n",
    "Recall the tensor product over vector spaces $V \\otimes W$ from before. If $V$ has basis $\\textbf{v}_i$ and $W$ has $\\textbf{w}_j$, we can define the tensor product over elements $\\nu\\in V,\\omega\\in W$ as follows.\n",
    "\n",
    "Let $\\nu= \\sum_{i=1}^n\\nu_i\\textbf{v}_i$ and $\\omega= \\sum_{j=1}^m\\omega_j\\textbf{w}_j$. Then:\n",
    "$$\n",
    "V \\otimes W\\ni \\nu\\otimes \\omega=\\sum_{i=1}^n\\sum_{j=1}^m\\nu_i\\omega_j(\\textbf{v}_i\\otimes \\textbf{w}_j)\n",
    "$$\n",
    "\n",
    "If $V$ is the vector space of $a\\times b$ matrices, then its basis vectors correspond to each of the $ab$ entries. If $W$ is the vector space of $c\\times d$ matrices, then its basis vectors correspond similarly to the $cd$ entries. In the tensor product, $(\\textbf{v}_i\\otimes \\textbf{w}_j)$ is the basis vector for an entry in the $ac\\times bd$ matrices that make up $V\\otimes W$."
   ]
  },
  {
   "cell_type": "code",
   "execution_count": null,
   "metadata": {},
   "outputs": [],
   "source": [
    "# Kronecker demo\n",
    "\n",
    "A = np.array([[1, 1/2], [-1/2, -1]])\n",
    "B = np.identity(2)\n",
    "\n",
    "f, axs = plt.subplots(2, 2)\n",
    "\n",
    "# Guess what a 2x2 axes subplot type is?\n",
    "print(type(axs))\n",
    "# Use of numpy for convenience: arbitrary object flattening\n",
    "for ax in axs.ravel():\n",
    "    ax.axis('off')\n",
    "    \n",
    "ax1, ax2, ax3, ax4 = axs.ravel()\n",
    "\n",
    "ax1.imshow(A, vmin=-1, vmax=1)\n",
    "ax1.set_title('A')\n",
    "ax2.imshow(B, vmin=-1, vmax=1)\n",
    "ax2.set_title('B')\n",
    "ax3.imshow(np.kron(A, B), vmin=-1, vmax=1)\n",
    "ax3.set_title(r'$A\\otimes B$')\n",
    "im = ax4.imshow(np.kron(B, A), vmin=-1, vmax=1)\n",
    "ax4.set_title(r'$B\\otimes A$')\n",
    "\n",
    "f.colorbar(im, ax=axs.ravel().tolist())\n",
    "plt.axis('off')\n",
    "plt.show()"
   ]
  },
  {
   "cell_type": "code",
   "execution_count": null,
   "metadata": {},
   "outputs": [],
   "source": [
    "# Transposition demo: using transpose, you can compute\n",
    "\n",
    "A = np.random.randn(40, 40)\n",
    "B = np.random.randn(40, 40)\n",
    "AB = np.kron(A, B)\n",
    "z = np.random.randn(40 * 40)\n",
    "\n",
    "def kron_mvm():\n",
    "    return AB.dot(z)\n",
    "\n",
    "def saatci_mvm():\n",
    "    # This differs from the paper's MVM, but is the equivalent for\n",
    "    # a C-style ordering of arrays.\n",
    "    x = z.copy()\n",
    "    for M in [B, A]:\n",
    "        n = M.shape[1]\n",
    "        x = x.reshape(-1, n).T\n",
    "        x = M.dot(x)\n",
    "    return x.ravel()\n",
    "\n",
    "print('diff', np.linalg.norm(kron_mvm() - saatci_mvm()))\n",
    "print('Kronecker matrix vector multiplication')\n",
    "compare_times(kron_mvm, saatci_mvm)"
   ]
  },
  {
   "cell_type": "markdown",
   "metadata": {},
   "source": [
    "# Ufuncs and Broadcasting\n",
    "\n",
    "[doc](https://docs.scipy.org/doc/numpy-dev/reference/ufuncs.html)"
   ]
  },
  {
   "cell_type": "code",
   "execution_count": null,
   "metadata": {},
   "outputs": [],
   "source": [
    "# A ufunc is the most common way to modify arrays\n",
    "\n",
    "# In its simplest form, an n-ary ufunc takes in n numpy arrays\n",
    "# of the same shape, and applies some standard operation to \"parallel elements\"\n",
    "\n",
    "a = np.arange(6)\n",
    "b = np.repeat([1, 2], 3)\n",
    "print(a)\n",
    "print(b)\n",
    "print(a + b)\n",
    "print(np.add(a, b))"
   ]
  },
  {
   "cell_type": "code",
   "execution_count": null,
   "metadata": {},
   "outputs": [],
   "source": [
    "# If any of the arguments are of lower dimension, they're prepended with 1\n",
    "# Any arguments that have dimension 1 are repeated along that axis\n",
    "\n",
    "A = np.arange(2 * 3).reshape(2, 3)\n",
    "b = np.arange(2)\n",
    "c = np.arange(3)\n",
    "for i in ['A', 'b', 'c']:\n",
    "    display(i)"
   ]
  },
  {
   "cell_type": "code",
   "execution_count": null,
   "metadata": {},
   "outputs": [],
   "source": [
    "# On the right, broadcasting rules will automatically make the conversion\n",
    "# of c, which has shape (3,) to shape (1, 3)\n",
    "display('A * c')\n",
    "display('c.reshape(1, 3)')\n",
    "display('np.repeat(c.reshape(1, 3), 2, axis=0)')"
   ]
  },
  {
   "cell_type": "code",
   "execution_count": null,
   "metadata": {},
   "outputs": [],
   "source": [
    "display('np.diag(c)')\n",
    "display('A.dot(np.diag(c))')\n",
    "display('A * c')"
   ]
  },
  {
   "cell_type": "code",
   "execution_count": null,
   "metadata": {},
   "outputs": [],
   "source": [
    "# GOTCHA: this won't compile your code to C: it will just make a slow convenience wrapper\n",
    "demo = np.frompyfunc('f({}, {})'.format, 2, 1)"
   ]
  },
  {
   "cell_type": "code",
   "execution_count": null,
   "metadata": {},
   "outputs": [],
   "source": [
    "# GOTCHA: common broadcasting mistake -- append instead of prepend\n",
    "display('A')\n",
    "display('b')\n",
    "try:\n",
    "    demo(A, b) # can't prepend to (2,) with 1 to get something compatible with (2, 3)\n",
    "except ValueError as e:\n",
    "    print('ValueError!')\n",
    "    print(e)"
   ]
  },
  {
   "cell_type": "code",
   "execution_count": null,
   "metadata": {},
   "outputs": [],
   "source": [
    "# np.newaxis adds a 1 in the corresponding axis\n",
    "display('b[:, np.newaxis]')\n",
    "display('np.repeat(b[:, np.newaxis], 3, axis=1)')\n",
    "display('demo(A, b[:, np.newaxis])')\n",
    "# note broadcasting rules are invariant to order\n",
    "# even if the ufunc isn't \n",
    "display('demo(b[:, np.newaxis], A)')"
   ]
  },
  {
   "cell_type": "code",
   "execution_count": null,
   "metadata": {},
   "outputs": [],
   "source": [
    "# Using broadcasting, we can do cheap diagonal matrix multiplication\n",
    "display('b')\n",
    "display('np.diag(b)')\n",
    "# without representing the full diagonal matrix.\n",
    "display('b[:, np.newaxis] * A')\n",
    "display('np.diag(b).dot(A)')"
   ]
  },
  {
   "cell_type": "code",
   "execution_count": null,
   "metadata": {},
   "outputs": [],
   "source": [
    "# (Binary) ufuncs get lots of efficient implementation stuff for free\n",
    "a = np.arange(4)\n",
    "b = np.arange(4, 8)\n",
    "display('demo.outer(a, b)')\n",
    "display('np.bitwise_or.accumulate(b)')\n",
    "display('np.bitwise_or.reduce(b)') # last result of accumulate"
   ]
  },
  {
   "cell_type": "code",
   "execution_count": null,
   "metadata": {},
   "outputs": [],
   "source": [
    "def setup(): return np.arange(10 ** 6)\n",
    "\n",
    "def manual_accum(x):\n",
    "    res = np.zeros_like(x)\n",
    "    for i, v in enumerate(x):\n",
    "        res[i] = res[i-1] | v\n",
    "        \n",
    "def np_accum(x):\n",
    "    np.bitwise_or.accumulate(x)\n",
    "    \n",
    "print('accumulation speed comparison')\n",
    "compare_times(manual_accum, np_accum, setup, setup)"
   ]
  },
  {
   "cell_type": "markdown",
   "metadata": {},
   "source": [
    "# Aliasing\n",
    "\n",
    "You can save on allocations and copies by providing the output array to copy into.\n",
    "\n",
    "**Aliasing** occurs when all or part of the input is repeated in the output\n",
    "\n",
    "[Ufuncs allow aliasing](https://github.com/numpy/numpy/pull/8043)"
   ]
  },
  {
   "cell_type": "code",
   "execution_count": null,
   "metadata": {},
   "outputs": [],
   "source": [
    "# Example: generating random symmetric matrices\n",
    "A = np.random.randint(0, 10, size=(3,3))\n",
    "print(A)\n",
    "A += A.T # this operation is WELL-DEFINED, even though A is changing\n",
    "print(A)"
   ]
  },
  {
   "cell_type": "code",
   "execution_count": null,
   "metadata": {},
   "outputs": [],
   "source": [
    "# Above is sugar for\n",
    "np.add(A, A, out=A)"
   ]
  },
  {
   "cell_type": "code",
   "execution_count": null,
   "metadata": {},
   "outputs": [],
   "source": [
    "x = np.arange(10)\n",
    "print(x)\n",
    "np.subtract(x[:5], x[5:], x[:5])\n",
    "print(x)"
   ]
  },
  {
   "cell_type": "markdown",
   "metadata": {},
   "source": [
    "**[GOTCHA]: If it's not a ufunc, aliasing is VERY BAD**: [Search for \"In general the rule\" in this discussion](https://github.com/numpy/numpy/issues/8440). Ufunc aliasing is safe since [this pr](https://github.com/numpy/numpy/pull/8043)"
   ]
  },
  {
   "cell_type": "code",
   "execution_count": null,
   "metadata": {},
   "outputs": [],
   "source": [
    "x = np.arange(2 * 2).reshape(2, 2)\n",
    "try:\n",
    "    x.dot(np.arange(2), out=x)\n",
    "    # GOTCHA: some other functions won't warn you!\n",
    "except ValueError as e:\n",
    "    print(e)"
   ]
  },
  {
   "cell_type": "markdown",
   "metadata": {
    "collapsed": true
   },
   "source": [
    "# Configuration and Hardware Acceleration\n",
    "\n",
    "NumPy works quickly because it _can_ perform vectorization by linking to C functions that were built for **your** particular system.\n",
    "\n",
    "**[GOTCHA] There are two different high-level ways in which NumPy uses hardware to accelerate your computations**.\n",
    "\n",
    "### Ufunc\n",
    "\n",
    "When you perform a built-in ufunc:\n",
    "* The corresponding C function is called directly from the Python interpreter\n",
    "* It is not **parallelized**\n",
    "* It may be **vectorized**\n",
    "\n",
    "In general, it is tough to check whether your code is using vectorized instructions (or, in particular, which instruction set is being used, like SSE or AVX512.\n",
    "\n",
    "* If you installed from pip or Anaconda, you're probably not vectorized.\n",
    "* If you compiled NumPy yourself (and select the correct flags), you're probably fine.\n",
    "* If you're using the [Numba](http://numba.pydata.org/) JIT, then you'll be vectorized too.\n",
    "* If have access to `icc` and MKL, then you can use [the Intel guide](https://software.intel.com/en-us/articles/numpyscipy-with-intel-mkl) or [Anaconda](https://docs.continuum.io/mkl-optimizations/)\n",
    "\n",
    "### BLAS\n",
    "\n",
    "These are optimized linear algebra routines, and are only called when you invoke operations that rely on these routines.\n",
    "\n",
    "This won't make your vectors add faster (first, NumPy doesn't ask BLAS to nor could it, since bandwidth-limited ops are not the focus of BLAS). It will help with:\n",
    "* Matrix multiplication (`np.dot`)\n",
    "* Linear algebra (SVD, eigenvalues, etc) (`np.linalg`)\n",
    "* Similar stuff from other libraries that accept NumPy arrays may use BLAS too.\n",
    "\n",
    "There are different implementations for BLAS. Some are free, and some are proprietary and built for specific chips (MKL). You can check which version you're using [this way](http://stackoverflow.com/questions/9000164/how-to-check-blas-lapack-linkage-in-numpy-scipy), though you can only be sure [by inspecting the binaries manually](http://stackoverflow.com/questions/37184618/find-out-if-which-blas-library-is-used-by-numpy).\n",
    "\n",
    "Any NumPy routine that uses **BLAS** will use, by default **ALL AVAILABLE CORES**. This is a departure from the standard parallelism of `ufunc` or other numpy transformations. You can change BLAS parallelism with the `OMP_NUM_THREADS` environment variable."
   ]
  },
  {
   "cell_type": "markdown",
   "metadata": {},
   "source": [
    "# Stuff to Avoid\n",
    "\n",
    "NumPy has some cruft left over due to backwards compatibility. There are some edge cases when you would (maybe) use these things (but probably not). In general, avoid them:\n",
    "\n",
    "* `np.chararray`: use an `np.ndarray` with `unicode` `dtype`\n",
    "* `np.MaskedArrays`: use a boolean advanced index\n",
    "* `np.matrix`: use a 2-dimensional `np.ndarray`"
   ]
  },
  {
   "cell_type": "markdown",
   "metadata": {},
   "source": [
    "# Stuff Not Mentioned\n",
    "\n",
    "* [General array manipulation](https://docs.scipy.org/doc/numpy-dev/reference/routines.array-manipulation.html)\n",
    "    * Selection-related convenience methods `np.sort, np.unique`\n",
    "    * Array composition and decomposition `np.split, np.stack`\n",
    "    * Reductions many-to-1 `np.sum, np.prod, np.count_nonzero`\n",
    "    * Many-to-many array transformations `np.fft, np.linalg.cholesky`\n",
    "* [String formatting](https://docs.scipy.org/doc/numpy/reference/generated/numpy.array2string.html) `np.array2string`\n",
    "* [IO](https://docs.scipy.org/doc/numpy/reference/routines.io.html#string-formatting) `np.loadtxt, np.savetxt`\n",
    "* [Polynomial interpolation](https://docs.scipy.org/doc/numpy/reference/routines.polynomials.html) and related [scipy integration](https://docs.scipy.org/doc/scipy/reference/tutorial/integrate.html)\n",
    "* [Equality testing](https://docs.scipy.org/doc/numpy/reference/routines.testing.html)"
   ]
  },
  {
   "cell_type": "markdown",
   "metadata": {},
   "source": [
    "# Takeaways\n",
    "\n",
    "* Use NumPy arrays for a compact, cache-friendly, in-memory representation of structured numeric data.\n",
    "* Vectorize, vectorize, vectorize! Less loops!\n",
    "   * Expressive\n",
    "   * Fast\n",
    "   * Concise\n",
    "* Know when copies happen vs. when views happen\n",
    "   * Advanced indexing -> copy\n",
    "   * Basic indexing -> view\n",
    "   * Transpositions -> usually view (depends if memory order changes)\n",
    "   * Ufuncs/many-to-many -> copy (possibly with overwrite\n",
    "* Rely on powerful indexing API to avoid almost all Python loops\n",
    "* Rolling your own algorithm? Google it, NumPy probably has it built-in!\n",
    "* Be concious of what makes copies, and what doesn't\n",
    "\n",
    "Downsides. Can't optimize across NumPy ops (like a C compiler would/numpy would). But do you need that? Can't parallelize except BLAS, but is it computaitonal or memory bandwidth limited?\n",
    "\n"
   ]
  },
  {
   "cell_type": "markdown",
   "metadata": {},
   "source": [
    "# Cherry on Top: Einsum\n",
    "\n",
    "[doc](https://docs.scipy.org/doc/numpy/reference/generated/numpy.einsum.html)\n",
    "\n",
    "Recall the Kronecker product $\\otimes$ from before? Let's recall the fully general tensor product.\n",
    "\n",
    "If $V$ has basis $\\textbf{v}_i$ and $W$ has $\\textbf{w}_j$, we can define the tensor product over elements $\\nu\\in V,\\omega\\in W$ as follows.\n",
    "\n",
    "Let $\\nu= \\sum_{i=1}^n\\nu_i\\textbf{v}_i$ and $\\omega= \\sum_{j=1}^m\\omega_j\\textbf{w}_j$. Then:\n",
    "$$\n",
    "V \\otimes W\\ni \\nu\\otimes \\omega=\\sum_{i=1}^n\\sum_{j=1}^m\\nu_i\\omega_j(\\textbf{v}_i\\otimes \\textbf{w}_j)\n",
    "$$\n",
    "\n",
    "But what if $V$ is itself a tensor space, like a matrix space $F^{m\\times n}$, and $W$ is $F^{n\\times k}$. Then $\\nu\\otimes\\omega$ is a tensor with shape $(m, n, n, k)$, where the $(i_1, i_2,i_3,i_4)$-th element is given by $\\nu_{i_1i_2}\\omega_{i_3i_4}$ (the corresponding cannonical basis vector being $\\textbf{e}^{(m)}_{i_1}(\\textbf{e}^{(n)}_{i_2})^\\top\\otimes \\textbf{e}^{(n)}_{i_3}(\\textbf{e}^{(k)}_{i_4})^\\top$, where $\\textbf{e}^{(m)}_{i_1}(\\textbf{e}^{(n)}_{i_2})^\\top$, the cannonical matrix basis vector, is not that scary - here's an example in $2\\times 3$:\n",
    "$$\n",
    "\\textbf{e}^{(2)}_{1}(\\textbf{e}^{(3)}_{2})^\\top=\\begin{pmatrix} 0 & 1 & 0\\\\ 0 & 0 & 0 \\end{pmatrix}\n",
    "$$\n",
    "\n",
    "What happens if we **contract** along the second and third axis, both of which have length $n$, where **contraction** in this example builds a tensor with shape $(m, k)$ such that the $(i_1,i_4)$-th entry is the sum of all entries in the tensor product $\\nu\\otimes \\omega$ which have the same values $i_2=i_3$. In other words:\n",
    "$$\n",
    "[\\text{contract}_{12}(\\nu\\otimes\\omega)]_{i_1i_4}=\\sum_{i_2=1}^n(\\nu\\otimes\\omega)_{i_1,i_2,i_2,i_4}=\\sum_{i_2=1}^n\\nu_{i_1i_2}\\omega_{i_2,i_4}\n",
    "$$\n",
    "\n",
    "Does that last term look familiar? It is, it's the matrix product! Indeed, **a matrix product is a generalized trace of the outer product of two compatible matrices**.\n",
    "\n",
    "That's one way of thinking about einsum: it lets you do generalized matrix products; in that you take in an arbitrary number of matrices, compute their outer product, and then specify which axes to trace. But then it also lets you arbitrarily transpose and select diagonal elements of your tensors, too."
   ]
  },
  {
   "cell_type": "code",
   "execution_count": null,
   "metadata": {},
   "outputs": [],
   "source": [
    "# Great resources to learn einsum:\n",
    "# https://obilaniu6266h16.wordpress.com/2016/02/04/einstein-summation-in-numpy/\n",
    "# http://ajcr.net/Basic-guide-to-einsum/\n",
    "\n",
    "# Examples of how it's general:\n",
    "\n",
    "np.random.seed(1234)\n",
    "x = np.random.randint(-10, 11, size=(2, 2, 2))\n",
    "print(x)"
   ]
  },
  {
   "cell_type": "code",
   "execution_count": null,
   "metadata": {},
   "outputs": [],
   "source": [
    "# Swap axes\n",
    "print(np.einsum('ijk->kji', x))"
   ]
  },
  {
   "cell_type": "code",
   "execution_count": null,
   "metadata": {},
   "outputs": [],
   "source": [
    "# Sum [contraction is along every axis]\n",
    "print(x.sum(), np.einsum('ijk->', x))"
   ]
  },
  {
   "cell_type": "code",
   "execution_count": null,
   "metadata": {},
   "outputs": [],
   "source": [
    "# Multiply (pointwise) [take the diagonal of the outer product; don't sum]\n",
    "y = np.random.randint(-10, 11, size=(2, 2, 2))\n",
    "np.array_equal(x * y, np.einsum('ijk,ijk->ijk', x, y))"
   ]
  },
  {
   "cell_type": "code",
   "execution_count": null,
   "metadata": {},
   "outputs": [],
   "source": [
    "# Already, an example where einsum is more clear: multiply pointwise along different axes:\n",
    "print(np.array_equal(x * y.transpose(), np.einsum('ijk,kji->ijk', x, y)))\n",
    "print(np.array_equal(x * np.rollaxis(y, 2), np.einsum('ijk,jki->ijk', x, y)))"
   ]
  },
  {
   "cell_type": "code",
   "execution_count": null,
   "metadata": {},
   "outputs": [],
   "source": [
    "# Outer (tensor) product\n",
    "x = np.arange(4)\n",
    "y = np.arange(4, 8)\n",
    "np.array_equal(np.outer(x, y), np.einsum('i,j->ij', x, y))"
   ]
  },
  {
   "cell_type": "code",
   "execution_count": null,
   "metadata": {},
   "outputs": [],
   "source": [
    "# Arbitrary inner product\n",
    "a = np.arange(2 * 2).reshape(2, 2)\n",
    "print(np.linalg.norm(a, 'fro') ** 2, np.einsum('ij,ij->', a, a))"
   ]
  },
  {
   "cell_type": "code",
   "execution_count": null,
   "metadata": {},
   "outputs": [],
   "source": [
    "np.random.seed(1234)\n",
    "x = np.random.randn(2, 2)\n",
    "y = np.random.randn(2, 2)\n",
    "\n",
    "# Matrix multiply\n",
    "print(np.array_equal(x.dot(y), np.einsum('ij,jk->ik', x, y)))\n",
    "\n",
    "# Batched matrix multiply\n",
    "x = np.random.randn(3, 2, 2)\n",
    "y = np.random.randn(3, 2, 2)\n",
    "print(np.array_equal(\n",
    "    np.array([i.dot(j) for i, j in zip(x, y)]),\n",
    "    np.einsum('bij,bjk->bik', x, y)))\n",
    "\n",
    "# all of {np.matmul, np.tensordot, np.dot} are einsum instances\n",
    "# The specializations may have marginal speedups, but einsum is\n",
    "# more expressive and clear code."
   ]
  },
  {
   "cell_type": "markdown",
   "metadata": {},
   "source": [
    "### General Einsum Approach\n",
    "\n",
    "Again, lots of visuals in [this blog post](https://obilaniu6266h16.wordpress.com/2016/02/04/einstein-summation-in-numpy/).\n",
    "\n",
    "**[GOTCHA]**. [You can't use more than 52 different letters.](http://stackoverflow.com/questions/37794245/can-i-use-more-than-26-letters-in-numpy-einsum). But if you find yourself writing `np.einsum` with more than 52 active dimensions, you should probably make two `np.einsum` calls. If you have dimensions for which nothing happens, then `...` can be used to represent an arbitrary amount of missed dimensions.\n",
    "\n",
    "Here's the way I think about an `np.einsum` (the actual implementation is more efficient)."
   ]
  },
  {
   "cell_type": "code",
   "execution_count": null,
   "metadata": {},
   "outputs": [],
   "source": [
    "# Let the contiguous blocks of letters be words\n",
    "# If they're on the left, they're argument words. On the right, result words.\n",
    "\n",
    "np.random.seed(1234)\n",
    "x = np.random.randint(-10, 11, 3 * 2 * 2 * 1).reshape(3, 2, 2, 1)\n",
    "y = np.random.randint(-10, 11, 3 * 2 * 2).reshape(3, 2, 2)\n",
    "z = np.random.randint(-10, 11, 2 * 3).reshape(2, 3)\n",
    "\n",
    "# Example being followed in einsum description:\n",
    "# np.einsum('ijkm,iko,kp->mip', x, y, z)\n",
    "\n",
    "# 1. Line up each argument word with the axis of the array.\n",
    "#    Make sure that word length == dimension\n",
    "#    Make sure same letters correspond to same lengths\n",
    "# x.shape (3, 2, 2, 1)\n",
    "#          i  j  k  m\n",
    "# y.shape (3, 2, 2)\n",
    "#          i  k  o\n",
    "# z.shape (2, 3)\n",
    "#          k  p"
   ]
  },
  {
   "cell_type": "code",
   "execution_count": null,
   "metadata": {},
   "outputs": [],
   "source": [
    "# 2. Create the complete tensor product\n",
    "outer = np.tensordot(np.tensordot(x, y, axes=0), z, axes=0)\n",
    "print(outer.shape)\n",
    "print('(i  j  k  m  i  k  o  k  p)')"
   ]
  },
  {
   "cell_type": "code",
   "execution_count": null,
   "metadata": {},
   "outputs": [],
   "source": [
    "# 3. Every time a letter repeats, only look at the corresponding \"diagonal\" elements.\n",
    "\n",
    "# Repeat i: (i  j  k  m  i  k  o  k  p)\n",
    "#           (i           i            )\n",
    "# Expected: (i  j  k  m  k  o  k  p)\n",
    "\n",
    "# The expected index corresponds to the above index in the outer product\n",
    "# We can do this over all other values with two advanced indices\n",
    "span_i = np.arange(3)\n",
    "repeat_i = outer[span_i, :, :, :, span_i, ...] # ellipses means \"fill with :\"\n",
    "print(repeat_i.shape)\n",
    "print('(i  j  k  m  k  o  k  p)')\n",
    "\n",
    "# Repeat k: (i  j  k  m  k  o  k  p)\n",
    "#           (      k     k     k   )\n",
    "# Expected: (i  j  k  m  o  p)\n",
    "span_k = np.arange(2)\n",
    "repeat_k = repeat_i[:, :, span_k, :, span_k, :, span_k, :]\n",
    "# GOTCHA: advanced indexing brings shared advanced index to front, fixed with rollaxis\n",
    "repeat_k = np.rollaxis(repeat_k, 0, 2)\n",
    "print(repeat_k.shape)\n",
    "print('(i  j  k  m  o  p)')"
   ]
  },
  {
   "cell_type": "code",
   "execution_count": null,
   "metadata": {},
   "outputs": [],
   "source": [
    "# 4. Compare the remaining word to the result word; sum out missing letters\n",
    "\n",
    "# Result word:  (m  i  p)\n",
    "# Current word: (i  j  k  m  o  p)\n",
    "\n",
    "# Sum out j:    (i  k  m  o  p)\n",
    "# The resulting array has at entry (i k m o p) the following:\n",
    "# (i 0 k m o p) + (i 1 k m o p) + ... + (i [axis j length] k m o p)\n",
    "sumj = repeat_k.sum(axis=1)\n",
    "print(sumj.shape)\n",
    "print('(i  k  m  o  p)')\n",
    "\n",
    "# Sum out k:    (i  m  o  p)\n",
    "sumk = sumj.sum(axis=1)\n",
    "print(sumk.shape)\n",
    "print('(i  m  o  p)')\n",
    "\n",
    "# Sum out o:    (i  m  p)\n",
    "sumo = sumk.sum(axis=2)\n",
    "print(sumo.shape)\n",
    "print('(i  m  p)')"
   ]
  },
  {
   "cell_type": "code",
   "execution_count": null,
   "metadata": {},
   "outputs": [],
   "source": [
    "# 6. Transpose remaining word until it has the same order as the result word\n",
    "\n",
    "# (i  m  p) -> (m  i  p)\n",
    "print(np.moveaxis(sumo, [0, 1, 2], [1, 0, 2]))\n",
    "print(np.einsum('ijkm,iko,kp->mip', x, y, z))"
   ]
  },
  {
   "cell_type": "markdown",
   "metadata": {
    "collapsed": true
   },
   "source": [
    "### Neural Nets with Einsum\n",
    "\n",
    "[Original post](https://obilaniu6266h16.wordpress.com/2016/02/04/einstein-summation-in-numpy/)\n",
    "\n",
    "<table>\n",
    "<tr>\n",
    "<th>\n",
    "<img src=\"assets/mlp1.png\" alt=\"https://obilaniu6266h16.wordpress.com/2016/02/04/einstein-summation-in-numpy/\" width=\"600\" >\n",
    "</th><th>\n",
    "<img src=\"assets/mlp2.png\" alt=\"https://obilaniu6266h16.wordpress.com/2016/02/04/einstein-summation-in-numpy/\" width=\"600\" >\n",
    "</th></tr></table>\n",
    "\n",
    "Notice how `np.einsum` captures succinctly the tensor flow (yep): the extension to batch is **extremely natural**. You can imagine a similar extension to RGB input (instead of a black/white float, we have an array of 3 values, so our input is now a 4D tensor `(batch_size, height, width, 3)`)."
   ]
  },
  {
   "cell_type": "markdown",
   "metadata": {},
   "source": [
    "### Real Application\n",
    "\n",
    "Under certain conditions, a kernel for a Gaussian process, a model for regression, is a matrix with the following form:\n",
    "$$\n",
    "K = \\sum_{i=1}^nB_i\\otimes D_i\n",
    "$$\n",
    "\n",
    "$B_i$ has shape $a\\times a$, and they are small dense matrices. $D_i$ is a $b\\times b$ diagonal matrix, and $b$ is so large that we can't even hold $b^2$ in memory. So we only have a vector to represent $D_i$. A useful operation in Gaussian process modelling is the multiplication of $K$ with a vector, $K\\textbf{z}$. How can we do this efficiently and expressively?"
   ]
  },
  {
   "cell_type": "code",
   "execution_count": null,
   "metadata": {},
   "outputs": [],
   "source": [
    "np.random.seed(1234)\n",
    "a = 3\n",
    "b = 300\n",
    "Bs = np.random.randn(10, a, a)\n",
    "Ds = np.random.randn(10, b) # just the diagonal\n",
    "\n",
    "z = np.random.randn(a * b)\n",
    "\n",
    "def quadratic_impl():\n",
    "    K = np.zeros((a * b, a * b))\n",
    "    for B, D in zip(Bs, Ds):\n",
    "        K += np.kron(B, np.diag(D))\n",
    "    return K.dot(z)\n",
    "\n",
    "def einsum_impl():\n",
    "    # Ellipses trigger broadcasting\n",
    "    left_kron_saatci = np.einsum('N...b,ab->Nab', Ds, z.reshape(a, b))\n",
    "    full_sum = np.einsum('Nca,Nab->cb', Bs, left_kron_saatci)\n",
    "    return full_sum.ravel()\n",
    "\n",
    "print('L2 norm of difference', np.linalg.norm(quadratic_impl() - einsum_impl()))\n",
    "# Of course, we can make this arbitrarily better by increasing b...\n",
    "print('Matrix-vector multiplication')\n",
    "compare_times(quadratic_impl, einsum_impl)"
   ]
  }
 ],
 "metadata": {
  "celltoolbar": "Raw Cell Format",
  "kernelspec": {
   "display_name": "Python 3",
   "language": "python",
   "name": "python3"
  },
  "language_info": {
   "codemirror_mode": {
    "name": "ipython",
    "version": 3
   },
   "file_extension": ".py",
   "mimetype": "text/x-python",
   "name": "python",
   "nbconvert_exporter": "python",
   "pygments_lexer": "ipython3",
   "version": "3.8.5"
  }
 },
 "nbformat": 4,
 "nbformat_minor": 2
}
