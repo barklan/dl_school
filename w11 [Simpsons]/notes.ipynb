{
 "cells": [
  {
   "cell_type": "code",
   "execution_count": 1,
   "metadata": {},
   "outputs": [],
   "source": [
    "class BinTree:\n",
    "\n",
    "    # qufi\n",
    "    def update_tree(self):\n",
    "        self.dfs_iter = iter(self.DFS(self))\n",
    "    \n",
    "    def __init__(self, name):\n",
    "\n",
    "        self.left = None\n",
    "        self.right = None\n",
    "        self.name = name\n",
    "        \n",
    "        # qufi\n",
    "        self.update_tree()\n",
    "\n",
    "    def add(self, name):\n",
    "        if self.name:\n",
    "            if name < self.name:\n",
    "                if self.left is None:\n",
    "                    self.left = BinTree(name)\n",
    "                else:\n",
    "                    self.left.add(name)\n",
    "            elif name > self.name:\n",
    "                if self.right is None:\n",
    "                    self.right = BinTree(name)\n",
    "                else:\n",
    "                    self.right.add(name)\n",
    "        else:\n",
    "            self.name = name\n",
    "        \n",
    "        # qufi\n",
    "        self.update_tree()\n",
    "\n",
    "    def PrintTree(self):\n",
    "        if self.left:\n",
    "            self.left.PrintTree()\n",
    "        print(self.name),\n",
    "        if self.right:\n",
    "            self.right.PrintTree()\n",
    "\n",
    "    def DFS(self, root):\n",
    "        res = []\n",
    "        if root:\n",
    "            res = self.DFS(root.left)\n",
    "            res.append(root.name)\n",
    "            res = res + self.DFS(root.right)\n",
    "        return res\n",
    "    \n",
    "    # qufi\n",
    "    def __iter__(self):\n",
    "        return self\n",
    "    \n",
    "    # qufi\n",
    "    def __next__(self):\n",
    "        return next(self.dfs_iter)\n",
    "    \n"
   ]
  },
  {
   "cell_type": "code",
   "execution_count": 2,
   "metadata": {},
   "outputs": [
    {
     "name": "stdout",
     "output_type": "stream",
     "text": [
      "1\n",
      "3\n",
      "7\n",
      "9\n",
      "11\n"
     ]
    }
   ],
   "source": [
    "def adding_Tree(Tree, listok):\n",
    "    for el in listok:\n",
    "        Tree.add(el)\n",
    "    return Tree\n",
    "\n",
    "\n",
    "list_for_add = [1,7,3,9,11]\n",
    "Tree_example = BinTree(list_for_add[0])\n",
    "Tree_example = adding_Tree(Tree_example,list_for_add[1::])\n",
    "\n",
    "\n",
    "# It is iterable!\n",
    "for i in Tree_example:\n",
    "    print(i)"
   ]
  }
 ],
 "metadata": {
  "kernelspec": {
   "display_name": "Python 3",
   "language": "python",
   "name": "python3"
  },
  "language_info": {
   "codemirror_mode": {
    "name": "ipython",
    "version": 3
   },
   "file_extension": ".py",
   "mimetype": "text/x-python",
   "name": "python",
   "nbconvert_exporter": "python",
   "pygments_lexer": "ipython3",
   "version": "3.8.5"
  },
  "toc": {
   "base_numbering": 1,
   "nav_menu": {},
   "number_sections": false,
   "sideBar": true,
   "skip_h1_title": false,
   "title_cell": "Table of Contents",
   "title_sidebar": "Contents",
   "toc_cell": false,
   "toc_position": {},
   "toc_section_display": true,
   "toc_window_display": false
  }
 },
 "nbformat": 4,
 "nbformat_minor": 4
}
