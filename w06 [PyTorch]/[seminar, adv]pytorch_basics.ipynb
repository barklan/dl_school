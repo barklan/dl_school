{
 "cells": [
  {
   "cell_type": "markdown",
   "metadata": {
    "id": "5RETQ6CxbdOz"
   },
   "source": [
    "<p style=\"align: center;\"><img align=center src=\"https://s8.hostingkartinok.com/uploads/images/2018/08/308b49fcfbc619d629fe4604bceb67ac.jpg\" width=500 height=450/></p>\n",
    "\n",
    "<h3 style=\"text-align: center;\"><b>\"Глубокое обучение\". Продвинутый поток</b></h3>\n",
    "\n",
    "<h2 style=\"text-align: center;\"><b>Семинар 6. Основы библиотеки PyTorch </b></h2>\n"
   ]
  },
  {
   "cell_type": "markdown",
   "metadata": {
    "id": "vcnGdgw_YJ8u"
   },
   "source": [
    "# PyTorch basics: syntax, torch.cuda and torch.autograd</b></h2>"
   ]
  },
  {
   "cell_type": "markdown",
   "metadata": {
    "id": "-Iv1eX2mYJ8v"
   },
   "source": [
    "<p style=\"align: center;\"><img src=\"https://upload.wikimedia.org/wikipedia/commons/9/96/Pytorch_logo.png\" width=400 height=100></p>"
   ]
  },
  {
   "cell_type": "markdown",
   "metadata": {
    "id": "JwiKExhuYJ8w"
   },
   "source": [
    "Hi! In this notebook we will cover the basics of the **PyTorch deep learning framework**. "
   ]
  },
  {
   "cell_type": "markdown",
   "metadata": {
    "id": "70_JTnaRbdPD"
   },
   "source": [
    "<h3 style=\"text-align: center;\"><b>Intro</b></h3>"
   ]
  },
  {
   "cell_type": "markdown",
   "metadata": {
    "id": "8UBMClK6bdPE"
   },
   "source": [
    "**Frameworks** are the specific code libraries with their own internal structure and pipelines."
   ]
  },
  {
   "cell_type": "markdown",
   "metadata": {
    "id": "tQoex-sZYJ8x"
   },
   "source": [
    "There are many deep learning frameworks nowadays (02/2019). The difference between them is in the internal computation principles. For example, in **[Caffe](http://caffe.berkeleyvision.org/)** and **[Caffe2](https://caffe2.ai/)** you write the code using some \"ready blocks\" (just like the $LEGO^{TM}$ :). In **[TensorFlow](https://www.tensorflow.org/)** and **[Theano](http://deeplearning.net/software/theano/)** you declare the computation graph at first, then compile it and use it for inference/training (`tf.session()`). By the way, now TensorFlow (since v1.10) has the [Eager Execution](https://www.tensorflow.org/guide/eager), which can be handy for fast prototyping and debugging. **[Keras](https://keras.io/)** is a very popular and useful DL framework that allows to create networks fast and has many demanding features. "
   ]
  },
  {
   "cell_type": "markdown",
   "metadata": {
    "id": "97MX7yrBYJ8y"
   },
   "source": [
    "<p style=\"align: center;\"><img src=\"https://habrastorage.org/web/e3e/c3e/b78/e3ec3eb78d714a7993a6b922911c0866.png\" width=500 height=500></p>  \n",
    "<p style=\"text-align: center;\"><i>Image credit: https://habr.com/post/334380/</i><p>"
   ]
  },
  {
   "cell_type": "markdown",
   "metadata": {
    "id": "h5yBQj7EbdPJ"
   },
   "source": [
    "We will use PyTorch bacause it's been actively developed and supported by the community and [Facebook AI Research](https://research.fb.com/category/facebook-ai-research/)."
   ]
  },
  {
   "cell_type": "markdown",
   "metadata": {
    "id": "J74O-qdJYJ80"
   },
   "source": [
    "<h3 style=\"text-align: center;\"><b>Installation</b></h3>"
   ]
  },
  {
   "cell_type": "markdown",
   "metadata": {
    "id": "WpXxZ4-4YJ83"
   },
   "source": [
    "The detailed instruction on how to install PyTorch you can find on the [official PyTorch website](https://pytorch.org/)."
   ]
  },
  {
   "cell_type": "markdown",
   "metadata": {
    "id": "uxdjjnqIYJ86"
   },
   "source": [
    "## Syntax"
   ]
  },
  {
   "cell_type": "code",
   "execution_count": 1,
   "metadata": {
    "executionInfo": {
     "elapsed": 1273,
     "status": "ok",
     "timestamp": 1603118931588,
     "user": {
      "displayName": "Deep Learning School",
      "photoUrl": "https://lh3.googleusercontent.com/a-/AOh14GhNf0RkP5WvkU5MixKfC1Sv3mb-9QWgAbC6VcfQvA=s64",
      "userId": "16549096980415837553"
     },
     "user_tz": -180
    },
    "id": "RtyozNmmYJ89"
   },
   "outputs": [],
   "source": [
    "import torch"
   ]
  },
  {
   "cell_type": "markdown",
   "metadata": {
    "id": "zjfLQzEPYJ9B"
   },
   "source": [
    "Some facts about PyTorch:  \n",
    "- dynamic computation graph\n",
    "- handy `torch.nn` and `torchvision` modules for fast neural network prototyping\n",
    "- even faster than TensorFlow on some tasks\n",
    "- allows to use GPU easily"
   ]
  },
  {
   "cell_type": "markdown",
   "metadata": {
    "id": "44AAEPIpu8Mq"
   },
   "source": [
    "At its core, PyTorch provides two main features:\n",
    "\n",
    "- An n-dimensional Tensor, similar to numpy but can run on GPUs\n",
    "- Automatic differentiation for building and training neural networks"
   ]
  },
  {
   "cell_type": "markdown",
   "metadata": {
    "id": "0AL-T8TMYJ9D"
   },
   "source": [
    "If PyTorch was a formula, it would be:  \n",
    "\n",
    "$$PyTorch = NumPy + CUDA + Autograd$$"
   ]
  },
  {
   "cell_type": "markdown",
   "metadata": {
    "id": "X_O59VXWYJ9E"
   },
   "source": [
    "(CUDA - [wiki](https://en.wikipedia.org/wiki/CUDA))"
   ]
  },
  {
   "cell_type": "markdown",
   "metadata": {
    "id": "lWIeTFxSYJ9F"
   },
   "source": [
    "Let's see how we can use PyTorch to operate with vectors and tensors.  \n",
    "\n",
    "Recall that **a tensor** is a multidimensional vector, e.g. :  \n",
    "\n",
    "`x = np.array([1,2,3])` -- a vector = a tensor with 1 dimension (to be more precise: `(3,)`)  \n",
    "`y = np.array([[1, 2, 3], [4, 5, 6]])` -- a matrix = a tensor with 2 dimensions (`(2, 3)` in this case)  \n",
    "`z = np.array([[[1, 2, 3], [4, 5, 6], [7, 8, 9]],  \n",
    "               [[1, 2, 3], [4, 5, 6], [7, 8, 9]],  \n",
    "               [[1, 2, 3], [4, 5, 6], [7, 8, 9]]])` -- \"a cube\" (3, 3, 3) = a tensor with 3 dimensions (`(3, 3, 3)` in this case)"
   ]
  },
  {
   "cell_type": "markdown",
   "metadata": {
    "id": "hS97vo7mYJ9G"
   },
   "source": [
    "One real example of 3-dimensional tensor is **an image**, it has 3 dimensions: `height`, `width` and the `channel depth` (= 3 for color images, 1 for a greyscale). You can think of it as of parallelepiped consisting of the real numbers."
   ]
  },
  {
   "cell_type": "markdown",
   "metadata": {
    "id": "tEeGGtRiYJ9H"
   },
   "source": [
    "In PyTorch we will use `torch.Tensor` (`FloatTensor`, `IntTensor`, `ByteTensor`) for all the computations."
   ]
  },
  {
   "cell_type": "markdown",
   "metadata": {
    "id": "byu7xZtLYJ9J"
   },
   "source": [
    "All tensor types:"
   ]
  },
  {
   "cell_type": "code",
   "execution_count": 2,
   "metadata": {
    "colab": {
     "base_uri": "https://localhost:8080/",
     "height": 35
    },
    "executionInfo": {
     "elapsed": 1525,
     "status": "ok",
     "timestamp": 1603119078686,
     "user": {
      "displayName": "Deep Learning School",
      "photoUrl": "https://lh3.googleusercontent.com/a-/AOh14GhNf0RkP5WvkU5MixKfC1Sv3mb-9QWgAbC6VcfQvA=s64",
      "userId": "16549096980415837553"
     },
     "user_tz": -180
    },
    "id": "zilSktmEGgAv",
    "outputId": "9ad2ebfe-9417-4322-a05f-93a76971609c"
   },
   "outputs": [],
   "source": [
    "torch.HalfTensor      # 16 бит, floating point\n",
    "torch.FloatTensor     # 32 бита, floating point\n",
    "torch.DoubleTensor    # 64 бита, floating point\n",
    "\n",
    "torch.ShortTensor     # 16 бит, integer, signed\n",
    "torch.IntTensor       # 32 бита, integer, signed\n",
    "torch.LongTensor      # 64 бита, integer, signed\n",
    "\n",
    "torch.CharTensor      # 8 бит, integer, signed\n",
    "torch.ByteTensor;     # 8 бит, integer, unsigned"
   ]
  },
  {
   "cell_type": "markdown",
   "metadata": {
    "id": "NWk2gidNYJ9P"
   },
   "source": [
    "We will use only `torch.FloatTensor()` and `torch.IntTensor()`. "
   ]
  },
  {
   "cell_type": "markdown",
   "metadata": {
    "id": "CllyEKvVYJ9Q"
   },
   "source": [
    "Let's begin to do something!"
   ]
  },
  {
   "cell_type": "markdown",
   "metadata": {
    "id": "R4HEetsxYJ9Q"
   },
   "source": [
    "* Creating the tensor:"
   ]
  },
  {
   "cell_type": "code",
   "execution_count": 3,
   "metadata": {
    "colab": {
     "base_uri": "https://localhost:8080/",
     "height": 35
    },
    "executionInfo": {
     "elapsed": 1613,
     "status": "ok",
     "timestamp": 1603119144653,
     "user": {
      "displayName": "Deep Learning School",
      "photoUrl": "https://lh3.googleusercontent.com/a-/AOh14GhNf0RkP5WvkU5MixKfC1Sv3mb-9QWgAbC6VcfQvA=s64",
      "userId": "16549096980415837553"
     },
     "user_tz": -180
    },
    "id": "MVawE9lRYJ9R",
    "outputId": "5a74c962-7f68-41a5-af15-d3e1eee3164a"
   },
   "outputs": [
    {
     "data": {
      "text/plain": [
       "tensor([1., 2.])"
      ]
     },
     "execution_count": 3,
     "metadata": {},
     "output_type": "execute_result"
    }
   ],
   "source": [
    "a = torch.FloatTensor([1, 2])\n",
    "a\n"
   ]
  },
  {
   "cell_type": "code",
   "execution_count": 4,
   "metadata": {
    "colab": {
     "base_uri": "https://localhost:8080/",
     "height": 35
    },
    "executionInfo": {
     "elapsed": 1234,
     "status": "ok",
     "timestamp": 1603119170450,
     "user": {
      "displayName": "Deep Learning School",
      "photoUrl": "https://lh3.googleusercontent.com/a-/AOh14GhNf0RkP5WvkU5MixKfC1Sv3mb-9QWgAbC6VcfQvA=s64",
      "userId": "16549096980415837553"
     },
     "user_tz": -180
    },
    "id": "ARjaPS_GYJ9W",
    "outputId": "abdc38b1-1ca6-4c3e-f20b-d6e733f38204"
   },
   "outputs": [
    {
     "data": {
      "text/plain": [
       "torch.Size([2])"
      ]
     },
     "execution_count": 4,
     "metadata": {},
     "output_type": "execute_result"
    }
   ],
   "source": [
    "a.shape"
   ]
  },
  {
   "cell_type": "code",
   "execution_count": 5,
   "metadata": {
    "colab": {
     "base_uri": "https://localhost:8080/",
     "height": 52
    },
    "executionInfo": {
     "elapsed": 1158,
     "status": "ok",
     "timestamp": 1603119181551,
     "user": {
      "displayName": "Deep Learning School",
      "photoUrl": "https://lh3.googleusercontent.com/a-/AOh14GhNf0RkP5WvkU5MixKfC1Sv3mb-9QWgAbC6VcfQvA=s64",
      "userId": "16549096980415837553"
     },
     "user_tz": -180
    },
    "id": "4gXf0akDYJ9Z",
    "outputId": "a04b522a-2e27-4fec-81d9-51394b40a1c5"
   },
   "outputs": [
    {
     "data": {
      "text/plain": [
       "tensor([[1., 2., 3.],\n",
       "        [4., 5., 6.]])"
      ]
     },
     "execution_count": 5,
     "metadata": {},
     "output_type": "execute_result"
    }
   ],
   "source": [
    "b = torch.FloatTensor([[1,2,3], [4,5,6]])\n",
    "b"
   ]
  },
  {
   "cell_type": "code",
   "execution_count": 6,
   "metadata": {
    "colab": {
     "base_uri": "https://localhost:8080/",
     "height": 35
    },
    "executionInfo": {
     "elapsed": 596,
     "status": "ok",
     "timestamp": 1603119187391,
     "user": {
      "displayName": "Deep Learning School",
      "photoUrl": "https://lh3.googleusercontent.com/a-/AOh14GhNf0RkP5WvkU5MixKfC1Sv3mb-9QWgAbC6VcfQvA=s64",
      "userId": "16549096980415837553"
     },
     "user_tz": -180
    },
    "id": "0HTkoIzpYJ9e",
    "outputId": "aa0b4db0-5acf-4fa1-e54b-ba209a5ab438"
   },
   "outputs": [
    {
     "data": {
      "text/plain": [
       "torch.Size([2, 3])"
      ]
     },
     "execution_count": 6,
     "metadata": {},
     "output_type": "execute_result"
    }
   ],
   "source": [
    "b.shape"
   ]
  },
  {
   "cell_type": "code",
   "execution_count": 7,
   "metadata": {
    "executionInfo": {
     "elapsed": 808,
     "status": "ok",
     "timestamp": 1603119222601,
     "user": {
      "displayName": "Deep Learning School",
      "photoUrl": "https://lh3.googleusercontent.com/a-/AOh14GhNf0RkP5WvkU5MixKfC1Sv3mb-9QWgAbC6VcfQvA=s64",
      "userId": "16549096980415837553"
     },
     "user_tz": -180
    },
    "id": "WYJ9L-yFYJ9j"
   },
   "outputs": [],
   "source": [
    "x = torch.FloatTensor(2,3,4)"
   ]
  },
  {
   "cell_type": "code",
   "execution_count": 8,
   "metadata": {
    "colab": {
     "base_uri": "https://localhost:8080/",
     "height": 141
    },
    "executionInfo": {
     "elapsed": 920,
     "status": "ok",
     "timestamp": 1603119224041,
     "user": {
      "displayName": "Deep Learning School",
      "photoUrl": "https://lh3.googleusercontent.com/a-/AOh14GhNf0RkP5WvkU5MixKfC1Sv3mb-9QWgAbC6VcfQvA=s64",
      "userId": "16549096980415837553"
     },
     "user_tz": -180
    },
    "id": "qWAEP27IYJ9m",
    "outputId": "dcc38015-abbd-4834-c778-aeda8b9f4f29"
   },
   "outputs": [
    {
     "data": {
      "text/plain": [
       "tensor([[[0.0000e+00, 0.0000e+00, 0.0000e+00, 0.0000e+00],\n",
       "         [0.0000e+00, 8.4490e-39, 7.7052e+31, 7.2148e+22],\n",
       "         [2.5226e-18, 6.4825e-10, 1.0072e-11, 3.0878e-09]],\n",
       "\n",
       "        [[2.6081e-09, 4.0974e-11, 1.0562e-05, 2.9571e-18],\n",
       "         [6.7333e+22, 1.7591e+22, 1.7184e+25, 4.3222e+27],\n",
       "         [6.1972e-04, 7.2443e+22, 1.7728e+28, 7.0367e+22]]])"
      ]
     },
     "execution_count": 8,
     "metadata": {},
     "output_type": "execute_result"
    }
   ],
   "source": [
    "x"
   ]
  },
  {
   "cell_type": "code",
   "execution_count": 9,
   "metadata": {
    "colab": {
     "base_uri": "https://localhost:8080/",
     "height": 372
    },
    "executionInfo": {
     "elapsed": 1142,
     "status": "ok",
     "timestamp": 1603119226857,
     "user": {
      "displayName": "Deep Learning School",
      "photoUrl": "https://lh3.googleusercontent.com/a-/AOh14GhNf0RkP5WvkU5MixKfC1Sv3mb-9QWgAbC6VcfQvA=s64",
      "userId": "16549096980415837553"
     },
     "user_tz": -180
    },
    "id": "o5CsOJ_xYJ9s",
    "outputId": "733177cd-699c-4be2-f453-46b13e8af7e5",
    "scrolled": true
   },
   "outputs": [
    {
     "data": {
      "text/plain": [
       "tensor([4.5144e+27, 1.8393e+25, 6.1200e-04, 4.8419e+30, 1.7256e+25, 1.2118e+25,\n",
       "        1.8037e+28, 2.0706e-19, 4.6316e+27, 7.1377e+31, 5.3740e+19, 4.4656e+30,\n",
       "        5.0825e+31, 2.1459e+20, 9.2489e-04, 2.8183e+20, 5.7005e-13, 1.7751e+28,\n",
       "        6.7001e+19, 4.0069e+24, 7.1438e+22, 1.8759e+28, 5.0830e+31, 7.5338e+28,\n",
       "        1.7418e+28, 2.1459e+20, 9.2489e-04, 2.9514e+29, 1.9012e-19, 1.8888e+31,\n",
       "        1.2712e+31, 7.1538e+22, 6.8608e+22, 4.3608e+27, 1.8966e+28, 1.1722e+27,\n",
       "        1.1259e+24, 7.5654e+28, 6.8292e+22, 8.6275e+00, 9.2851e-04, 1.3563e-19,\n",
       "        2.9514e+29, 8.9070e-15, 1.8888e+31, 6.4639e-04, 6.8608e+22, 1.7753e+28,\n",
       "        2.0535e-19, 1.2413e+28, 7.5034e+28, 1.3556e-19, 1.7237e+25, 1.2703e+25,\n",
       "        6.4642e-04, 6.8608e+22, 4.5144e+27, 1.8393e+25, 1.8496e+20, 1.1260e+24,\n",
       "        1.7565e+25, 5.0835e+31, 2.7454e+20, 4.8566e+33, 1.3563e-19, 2.8183e+20,\n",
       "        8.9070e-15, 5.4275e-14, 4.6114e+24, 7.7050e+31, 1.8470e+25, 1.1836e+22,\n",
       "        1.7751e+28, 1.8524e+28, 1.3563e-19, 1.7751e+28, 1.9690e-19, 7.5555e+31,\n",
       "        5.0778e+31, 1.1835e+22, 2.8183e+20, 1.9430e-19, 5.0844e+31, 4.7341e+22,\n",
       "        1.8058e+28, 1.7237e+25, 1.8888e+31, 1.1480e-32, 2.8624e+20, 6.9785e+22,\n",
       "        6.6554e-33, 1.3563e-19, 1.6114e-19, 1.6020e-19, 4.4721e+21, 7.2070e+22,\n",
       "        4.7428e+30, 3.1921e-09, 2.5313e-12, 3.1434e-12])"
      ]
     },
     "execution_count": 9,
     "metadata": {},
     "output_type": "execute_result"
    }
   ],
   "source": [
    "x = torch.FloatTensor(100)\n",
    "x"
   ]
  },
  {
   "cell_type": "code",
   "execution_count": 10,
   "metadata": {
    "colab": {
     "base_uri": "https://localhost:8080/",
     "height": 35
    },
    "executionInfo": {
     "elapsed": 655,
     "status": "ok",
     "timestamp": 1603119229314,
     "user": {
      "displayName": "Deep Learning School",
      "photoUrl": "https://lh3.googleusercontent.com/a-/AOh14GhNf0RkP5WvkU5MixKfC1Sv3mb-9QWgAbC6VcfQvA=s64",
      "userId": "16549096980415837553"
     },
     "user_tz": -180
    },
    "id": "uIVhvmzZYJ91",
    "outputId": "ff797cdc-1203-4d9a-90f3-08816158f9f1"
   },
   "outputs": [
    {
     "data": {
      "text/plain": [
       "torch.Size([45, 57, 14, 2])"
      ]
     },
     "execution_count": 10,
     "metadata": {},
     "output_type": "execute_result"
    }
   ],
   "source": [
    "x = torch.IntTensor(45, 57, 14, 2)\n",
    "x.shape"
   ]
  },
  {
   "cell_type": "markdown",
   "metadata": {
    "id": "cUzl8DFRYJ95"
   },
   "source": [
    "**Note:** if you create `torch.Tensor` with the following constructor it will be filled with the \"random trash numbers\":"
   ]
  },
  {
   "cell_type": "code",
   "execution_count": 11,
   "metadata": {
    "colab": {
     "base_uri": "https://localhost:8080/",
     "height": 159
    },
    "executionInfo": {
     "elapsed": 656,
     "status": "ok",
     "timestamp": 1603119237788,
     "user": {
      "displayName": "Deep Learning School",
      "photoUrl": "https://lh3.googleusercontent.com/a-/AOh14GhNf0RkP5WvkU5MixKfC1Sv3mb-9QWgAbC6VcfQvA=s64",
      "userId": "16549096980415837553"
     },
     "user_tz": -180
    },
    "id": "QX0QcIOzYJ96",
    "outputId": "39193c53-04b0-4623-b8a0-27eb0ede9784"
   },
   "outputs": [
    {
     "data": {
      "text/plain": [
       "tensor([[[         0,          0,          0,          0],\n",
       "         [         0,    6029409, 1953702523, 1702130273]],\n",
       "\n",
       "        [[ 574235236,  808595506,  758198573,  827601200],\n",
       "         [ 825440818,  775238714,  926036530,  576335924]],\n",
       "\n",
       "        [[1701061164, 1684956528, 1768124005, 1834972005],\n",
       "         [ 975336549, 1702195828, 1852121644, 1701734759]]], dtype=torch.int32)"
      ]
     },
     "execution_count": 11,
     "metadata": {},
     "output_type": "execute_result"
    }
   ],
   "source": [
    "x = torch.IntTensor(3, 2, 4)\n",
    "x"
   ]
  },
  {
   "cell_type": "markdown",
   "metadata": {
    "id": "utra2t4SbdQR"
   },
   "source": [
    "Here is a way to fill a new tensor with zeroes:"
   ]
  },
  {
   "cell_type": "code",
   "execution_count": 15,
   "metadata": {
    "colab": {
     "base_uri": "https://localhost:8080/",
     "height": 159
    },
    "executionInfo": {
     "elapsed": 782,
     "status": "ok",
     "timestamp": 1603119313953,
     "user": {
      "displayName": "Deep Learning School",
      "photoUrl": "https://lh3.googleusercontent.com/a-/AOh14GhNf0RkP5WvkU5MixKfC1Sv3mb-9QWgAbC6VcfQvA=s64",
      "userId": "16549096980415837553"
     },
     "user_tz": -180
    },
    "id": "XV3w9lVwYJ-A",
    "outputId": "26f0a786-9ddc-4416-a860-349e7d684327"
   },
   "outputs": [
    {
     "data": {
      "text/plain": [
       "tensor([[[0., 0., 0., 0.],\n",
       "         [0., 0., 0., 0.]],\n",
       "\n",
       "        [[0., 0., 0., 0.],\n",
       "         [0., 0., 0., 0.]],\n",
       "\n",
       "        [[0., 0., 0., 0.],\n",
       "         [0., 0., 0., 0.]]])"
      ]
     },
     "execution_count": 15,
     "metadata": {},
     "output_type": "execute_result"
    }
   ],
   "source": [
    "x1 = torch.FloatTensor(3, 2, 4)\n",
    "x1.zero_()\n",
    "x2 = torch.zeros(3, 2, 4)\n",
    "x3 = torch.zeros_like(x1)\n",
    "\n",
    "assert torch.allclose(x1, x2) and torch.allclose(x1, x3)\n",
    "x1"
   ]
  },
  {
   "cell_type": "markdown",
   "metadata": {
    "id": "G3el1HwZd9wJ"
   },
   "source": [
    "Random distribution initialization"
   ]
  },
  {
   "cell_type": "code",
   "execution_count": 16,
   "metadata": {
    "colab": {
     "base_uri": "https://localhost:8080/",
     "height": 52
    },
    "executionInfo": {
     "elapsed": 693,
     "status": "ok",
     "timestamp": 1603119360950,
     "user": {
      "displayName": "Deep Learning School",
      "photoUrl": "https://lh3.googleusercontent.com/a-/AOh14GhNf0RkP5WvkU5MixKfC1Sv3mb-9QWgAbC6VcfQvA=s64",
      "userId": "16549096980415837553"
     },
     "user_tz": -180
    },
    "id": "-ahnCFMXe_9I",
    "outputId": "d01dce9f-bdf3-439c-a330-aa1f688865d2"
   },
   "outputs": [
    {
     "data": {
      "text/plain": [
       "tensor([[ 0.1938,  0.1006, -1.1280],\n",
       "        [ 0.7422, -1.0456, -1.2789]])"
      ]
     },
     "execution_count": 16,
     "metadata": {},
     "output_type": "execute_result"
    }
   ],
   "source": [
    "x = torch.randn((2,3))                # Normal(0, 1) with shape\n",
    "x"
   ]
  },
  {
   "cell_type": "code",
   "execution_count": 17,
   "metadata": {
    "colab": {
     "base_uri": "https://localhost:8080/",
     "height": 52
    },
    "executionInfo": {
     "elapsed": 646,
     "status": "ok",
     "timestamp": 1603119377503,
     "user": {
      "displayName": "Deep Learning School",
      "photoUrl": "https://lh3.googleusercontent.com/a-/AOh14GhNf0RkP5WvkU5MixKfC1Sv3mb-9QWgAbC6VcfQvA=s64",
      "userId": "16549096980415837553"
     },
     "user_tz": -180
    },
    "id": "FhIy_yuRd9Kf",
    "outputId": "8a7b1b03-64d0-45f9-b45d-acfd1026b0f0"
   },
   "outputs": [
    {
     "data": {
      "text/plain": [
       "tensor([[0., 0., 0.],\n",
       "        [0., 1., 1.]])"
      ]
     },
     "execution_count": 17,
     "metadata": {},
     "output_type": "execute_result"
    }
   ],
   "source": [
    "x.random_(0, 10)                      # discrete U[0, 10]\n",
    "x.uniform_(0, 1)                      # U[0, 1]\n",
    "x.normal_(mean=0, std=1)              # Normal with mean and std\n",
    "x.bernoulli_(p=0.5)                   # bernoulli with parameter p"
   ]
  },
  {
   "cell_type": "markdown",
   "metadata": {
    "id": "bzq1klQuzXA9"
   },
   "source": [
    "## Numpy -> Torch\n",
    "\n",
    "All numpy function have its pair in torch.\n",
    "\n",
    "https://github.com/torch/torch7/wiki/Torch-for-Numpy-users"
   ]
  },
  {
   "cell_type": "markdown",
   "metadata": {
    "id": "SAAmLRwzYJ-E"
   },
   "source": [
    "`np.reshape()` == `torch.view()`:"
   ]
  },
  {
   "cell_type": "code",
   "execution_count": 22,
   "metadata": {
    "colab": {
     "base_uri": "https://localhost:8080/",
     "height": 52
    },
    "executionInfo": {
     "elapsed": 747,
     "status": "ok",
     "timestamp": 1603119564325,
     "user": {
      "displayName": "Deep Learning School",
      "photoUrl": "https://lh3.googleusercontent.com/a-/AOh14GhNf0RkP5WvkU5MixKfC1Sv3mb-9QWgAbC6VcfQvA=s64",
      "userId": "16549096980415837553"
     },
     "user_tz": -180
    },
    "id": "spMYG2xXYJ-L",
    "outputId": "77511366-adeb-4525-f7a0-2c919c3d59e9"
   },
   "outputs": [
    {
     "data": {
      "text/plain": [
       "(tensor([[1., 2., 3.],\n",
       "         [4., 5., 6.]]),\n",
       " (3, 1))"
      ]
     },
     "execution_count": 22,
     "metadata": {},
     "output_type": "execute_result"
    }
   ],
   "source": [
    "b, b.stride()"
   ]
  },
  {
   "cell_type": "code",
   "execution_count": 27,
   "metadata": {
    "colab": {
     "base_uri": "https://localhost:8080/",
     "height": 70
    },
    "executionInfo": {
     "elapsed": 662,
     "status": "ok",
     "timestamp": 1603119510688,
     "user": {
      "displayName": "Deep Learning School",
      "photoUrl": "https://lh3.googleusercontent.com/a-/AOh14GhNf0RkP5WvkU5MixKfC1Sv3mb-9QWgAbC6VcfQvA=s64",
      "userId": "16549096980415837553"
     },
     "user_tz": -180
    },
    "id": "ePjL3X3GYJ-H",
    "outputId": "8067d2e2-b6d6-4cb4-a1c9-6f818673d4cb"
   },
   "outputs": [
    {
     "data": {
      "text/plain": [
       "(tensor([[1., 2.],\n",
       "         [3., 4.],\n",
       "         [5., 6.]]),\n",
       " (2, 1))"
      ]
     },
     "execution_count": 27,
     "metadata": {},
     "output_type": "execute_result"
    }
   ],
   "source": [
    "b.view(3, 2), b.view(3, 2).stride()"
   ]
  },
  {
   "cell_type": "markdown",
   "metadata": {
    "id": "amVu0N1zYJ-O"
   },
   "source": [
    "**Note:** `torch.view()` creates a new tensor, one the old one remains unchanged"
   ]
  },
  {
   "cell_type": "code",
   "execution_count": 31,
   "metadata": {
    "colab": {
     "base_uri": "https://localhost:8080/",
     "height": 35
    },
    "executionInfo": {
     "elapsed": 653,
     "status": "ok",
     "timestamp": 1603119674686,
     "user": {
      "displayName": "Deep Learning School",
      "photoUrl": "https://lh3.googleusercontent.com/a-/AOh14GhNf0RkP5WvkU5MixKfC1Sv3mb-9QWgAbC6VcfQvA=s64",
      "userId": "16549096980415837553"
     },
     "user_tz": -180
    },
    "id": "hWqyugOSYJ-Q",
    "outputId": "feccb9b1-1a21-476b-cf1f-68946897bd38"
   },
   "outputs": [
    {
     "data": {
      "text/plain": [
       "tensor([1., 2., 3., 4., 5., 6.])"
      ]
     },
     "execution_count": 31,
     "metadata": {},
     "output_type": "execute_result"
    }
   ],
   "source": [
    "b.view(-1)"
   ]
  },
  {
   "cell_type": "code",
   "execution_count": 33,
   "metadata": {
    "colab": {
     "base_uri": "https://localhost:8080/",
     "height": 52
    },
    "executionInfo": {
     "elapsed": 762,
     "status": "ok",
     "timestamp": 1603119679037,
     "user": {
      "displayName": "Deep Learning School",
      "photoUrl": "https://lh3.googleusercontent.com/a-/AOh14GhNf0RkP5WvkU5MixKfC1Sv3mb-9QWgAbC6VcfQvA=s64",
      "userId": "16549096980415837553"
     },
     "user_tz": -180
    },
    "id": "S9CvF56uYJ-U",
    "outputId": "9fce84d1-647f-4235-d36c-ac97eb498731"
   },
   "outputs": [
    {
     "data": {
      "text/plain": [
       "tensor([[1., 2., 3.],\n",
       "        [4., 5., 6.]])"
      ]
     },
     "execution_count": 33,
     "metadata": {},
     "output_type": "execute_result"
    }
   ],
   "source": [
    "b"
   ]
  },
  {
   "cell_type": "code",
   "execution_count": 34,
   "metadata": {
    "colab": {
     "base_uri": "https://localhost:8080/",
     "height": 35
    },
    "executionInfo": {
     "elapsed": 724,
     "status": "ok",
     "timestamp": 1603119821637,
     "user": {
      "displayName": "Deep Learning School",
      "photoUrl": "https://lh3.googleusercontent.com/a-/AOh14GhNf0RkP5WvkU5MixKfC1Sv3mb-9QWgAbC6VcfQvA=s64",
      "userId": "16549096980415837553"
     },
     "user_tz": -180
    },
    "id": "MVrFVwTNYd3S",
    "outputId": "1a3fa54a-a8f4-47a9-8559-eb2e797d6dfc"
   },
   "outputs": [
    {
     "data": {
      "text/plain": [
       "((1, 3), True, False)"
      ]
     },
     "execution_count": 34,
     "metadata": {},
     "output_type": "execute_result"
    }
   ],
   "source": [
    "b.T.stride(), b.is_contiguous(), b.T.is_contiguous()"
   ]
  },
  {
   "cell_type": "code",
   "execution_count": 39,
   "metadata": {
    "colab": {
     "base_uri": "https://localhost:8080/",
     "height": 35
    },
    "executionInfo": {
     "elapsed": 746,
     "status": "ok",
     "timestamp": 1603119840615,
     "user": {
      "displayName": "Deep Learning School",
      "photoUrl": "https://lh3.googleusercontent.com/a-/AOh14GhNf0RkP5WvkU5MixKfC1Sv3mb-9QWgAbC6VcfQvA=s64",
      "userId": "16549096980415837553"
     },
     "user_tz": -180
    },
    "id": "mjBCZ1fEJN5B",
    "outputId": "d64b979f-1fce-4eab-abdc-60dfa3222c9f"
   },
   "outputs": [
    {
     "data": {
      "text/plain": [
       "tensor([1., 2., 3., 4., 5., 6.])"
      ]
     },
     "execution_count": 39,
     "metadata": {},
     "output_type": "execute_result"
    }
   ],
   "source": [
    "b.reshape(-1) # returns view or contigues tensor"
   ]
  },
  {
   "cell_type": "code",
   "execution_count": 40,
   "metadata": {
    "colab": {
     "base_uri": "https://localhost:8080/",
     "height": 52
    },
    "executionInfo": {
     "elapsed": 726,
     "status": "ok",
     "timestamp": 1603119848184,
     "user": {
      "displayName": "Deep Learning School",
      "photoUrl": "https://lh3.googleusercontent.com/a-/AOh14GhNf0RkP5WvkU5MixKfC1Sv3mb-9QWgAbC6VcfQvA=s64",
      "userId": "16549096980415837553"
     },
     "user_tz": -180
    },
    "id": "wet5p_4uJRm6",
    "outputId": "327b9226-1a21-465a-e25a-7ea443f2f855"
   },
   "outputs": [
    {
     "data": {
      "text/plain": [
       "tensor([[1., 2., 3.],\n",
       "        [4., 5., 6.]])"
      ]
     },
     "execution_count": 40,
     "metadata": {},
     "output_type": "execute_result"
    }
   ],
   "source": [
    "b"
   ]
  },
  {
   "cell_type": "markdown",
   "metadata": {
    "id": "t401j1E2YJ-Z"
   },
   "source": [
    "* Change a tensor type:"
   ]
  },
  {
   "cell_type": "code",
   "execution_count": 42,
   "metadata": {
    "executionInfo": {
     "elapsed": 659,
     "status": "ok",
     "timestamp": 1603119849705,
     "user": {
      "displayName": "Deep Learning School",
      "photoUrl": "https://lh3.googleusercontent.com/a-/AOh14GhNf0RkP5WvkU5MixKfC1Sv3mb-9QWgAbC6VcfQvA=s64",
      "userId": "16549096980415837553"
     },
     "user_tz": -180
    },
    "id": "f_iDUEH4YJ-Z"
   },
   "outputs": [],
   "source": [
    "a = torch.FloatTensor([1.5, 3.2, -7])"
   ]
  },
  {
   "cell_type": "code",
   "execution_count": 43,
   "metadata": {
    "colab": {
     "base_uri": "https://localhost:8080/",
     "height": 35
    },
    "executionInfo": {
     "elapsed": 612,
     "status": "ok",
     "timestamp": 1603119850516,
     "user": {
      "displayName": "Deep Learning School",
      "photoUrl": "https://lh3.googleusercontent.com/a-/AOh14GhNf0RkP5WvkU5MixKfC1Sv3mb-9QWgAbC6VcfQvA=s64",
      "userId": "16549096980415837553"
     },
     "user_tz": -180
    },
    "id": "EzJOrXitYJ-e",
    "outputId": "7cbc5e8b-6aab-4965-f089-f615b2b201da"
   },
   "outputs": [
    {
     "data": {
      "text/plain": [
       "tensor([ 1,  3, -7], dtype=torch.int32)"
      ]
     },
     "execution_count": 43,
     "metadata": {},
     "output_type": "execute_result"
    }
   ],
   "source": [
    "a.type_as(torch.IntTensor())"
   ]
  },
  {
   "cell_type": "code",
   "execution_count": 44,
   "metadata": {
    "colab": {
     "base_uri": "https://localhost:8080/",
     "height": 35
    },
    "executionInfo": {
     "elapsed": 653,
     "status": "ok",
     "timestamp": 1603119874298,
     "user": {
      "displayName": "Deep Learning School",
      "photoUrl": "https://lh3.googleusercontent.com/a-/AOh14GhNf0RkP5WvkU5MixKfC1Sv3mb-9QWgAbC6VcfQvA=s64",
      "userId": "16549096980415837553"
     },
     "user_tz": -180
    },
    "id": "5LrO73QgJuGb",
    "outputId": "3a351ce3-a59d-400a-f010-a1813436a3bb"
   },
   "outputs": [
    {
     "data": {
      "text/plain": [
       "tensor([ 1,  3, -7], dtype=torch.int32)"
      ]
     },
     "execution_count": 44,
     "metadata": {},
     "output_type": "execute_result"
    }
   ],
   "source": [
    "a.to(torch.int32)"
   ]
  },
  {
   "cell_type": "code",
   "execution_count": 45,
   "metadata": {
    "colab": {
     "base_uri": "https://localhost:8080/",
     "height": 35
    },
    "executionInfo": {
     "elapsed": 586,
     "status": "ok",
     "timestamp": 1603119852861,
     "user": {
      "displayName": "Deep Learning School",
      "photoUrl": "https://lh3.googleusercontent.com/a-/AOh14GhNf0RkP5WvkU5MixKfC1Sv3mb-9QWgAbC6VcfQvA=s64",
      "userId": "16549096980415837553"
     },
     "user_tz": -180
    },
    "id": "hAe3OWWUYJ-i",
    "outputId": "c358a16f-1485-4272-ca56-1b1094b2e9d2"
   },
   "outputs": [
    {
     "data": {
      "text/plain": [
       "tensor([  1,   3, 249], dtype=torch.uint8)"
      ]
     },
     "execution_count": 45,
     "metadata": {},
     "output_type": "execute_result"
    }
   ],
   "source": [
    "a.type_as(torch.ByteTensor())"
   ]
  },
  {
   "cell_type": "code",
   "execution_count": 46,
   "metadata": {
    "colab": {
     "base_uri": "https://localhost:8080/",
     "height": 35
    },
    "executionInfo": {
     "elapsed": 759,
     "status": "ok",
     "timestamp": 1603119859553,
     "user": {
      "displayName": "Deep Learning School",
      "photoUrl": "https://lh3.googleusercontent.com/a-/AOh14GhNf0RkP5WvkU5MixKfC1Sv3mb-9QWgAbC6VcfQvA=s64",
      "userId": "16549096980415837553"
     },
     "user_tz": -180
    },
    "id": "6rOGMU_xJ450",
    "outputId": "3e6266d3-4861-4f55-d377-9142b5575d7e"
   },
   "outputs": [
    {
     "data": {
      "text/plain": [
       "tensor([  1,   3, 249], dtype=torch.uint8)"
      ]
     },
     "execution_count": 46,
     "metadata": {},
     "output_type": "execute_result"
    }
   ],
   "source": [
    "a.to(torch.uint8)"
   ]
  },
  {
   "cell_type": "markdown",
   "metadata": {
    "id": "4rkatrUeYJ-n"
   },
   "source": [
    "**Note:** `.type_as()` creates a new tensor, the old one remains unchanged"
   ]
  },
  {
   "cell_type": "code",
   "execution_count": 47,
   "metadata": {
    "colab": {
     "base_uri": "https://localhost:8080/",
     "height": 35
    },
    "executionInfo": {
     "elapsed": 956,
     "status": "ok",
     "timestamp": 1603119881874,
     "user": {
      "displayName": "Deep Learning School",
      "photoUrl": "https://lh3.googleusercontent.com/a-/AOh14GhNf0RkP5WvkU5MixKfC1Sv3mb-9QWgAbC6VcfQvA=s64",
      "userId": "16549096980415837553"
     },
     "user_tz": -180
    },
    "id": "fCgDT14MYJ-o",
    "outputId": "864b28e1-f7ed-4e7d-c259-5977e02d530d"
   },
   "outputs": [
    {
     "data": {
      "text/plain": [
       "tensor([ 1.5000,  3.2000, -7.0000])"
      ]
     },
     "execution_count": 47,
     "metadata": {},
     "output_type": "execute_result"
    }
   ],
   "source": [
    "a"
   ]
  },
  {
   "cell_type": "markdown",
   "metadata": {
    "id": "hG1OwtFBYJ-r"
   },
   "source": [
    "* Indexing is just like in `NumPy`:"
   ]
  },
  {
   "cell_type": "code",
   "execution_count": 48,
   "metadata": {
    "colab": {
     "base_uri": "https://localhost:8080/",
     "height": 70
    },
    "executionInfo": {
     "elapsed": 714,
     "status": "ok",
     "timestamp": 1603119884608,
     "user": {
      "displayName": "Deep Learning School",
      "photoUrl": "https://lh3.googleusercontent.com/a-/AOh14GhNf0RkP5WvkU5MixKfC1Sv3mb-9QWgAbC6VcfQvA=s64",
      "userId": "16549096980415837553"
     },
     "user_tz": -180
    },
    "id": "prr0EGIYYJ-r",
    "outputId": "c0206656-411c-47bb-f996-65e7a01e6051"
   },
   "outputs": [
    {
     "data": {
      "text/plain": [
       "tensor([[100.,  20.,  35.],\n",
       "        [ 15., 163., 534.],\n",
       "        [ 52.,  90.,  66.]])"
      ]
     },
     "execution_count": 48,
     "metadata": {},
     "output_type": "execute_result"
    }
   ],
   "source": [
    "a = torch.FloatTensor([[100, 20, 35], [15, 163, 534], [52, 90, 66]])\n",
    "a"
   ]
  },
  {
   "cell_type": "code",
   "execution_count": 49,
   "metadata": {
    "colab": {
     "base_uri": "https://localhost:8080/",
     "height": 35
    },
    "executionInfo": {
     "elapsed": 760,
     "status": "ok",
     "timestamp": 1603119887768,
     "user": {
      "displayName": "Deep Learning School",
      "photoUrl": "https://lh3.googleusercontent.com/a-/AOh14GhNf0RkP5WvkU5MixKfC1Sv3mb-9QWgAbC6VcfQvA=s64",
      "userId": "16549096980415837553"
     },
     "user_tz": -180
    },
    "id": "IBq7JiccYJ-w",
    "outputId": "44928fe0-d916-4aae-ab57-8f34789d4f9f"
   },
   "outputs": [
    {
     "data": {
      "text/plain": [
       "tensor(100.)"
      ]
     },
     "execution_count": 49,
     "metadata": {},
     "output_type": "execute_result"
    }
   ],
   "source": [
    "a[0, 0]"
   ]
  },
  {
   "cell_type": "code",
   "execution_count": 50,
   "metadata": {
    "colab": {
     "base_uri": "https://localhost:8080/",
     "height": 35
    },
    "executionInfo": {
     "elapsed": 798,
     "status": "ok",
     "timestamp": 1603119906651,
     "user": {
      "displayName": "Deep Learning School",
      "photoUrl": "https://lh3.googleusercontent.com/a-/AOh14GhNf0RkP5WvkU5MixKfC1Sv3mb-9QWgAbC6VcfQvA=s64",
      "userId": "16549096980415837553"
     },
     "user_tz": -180
    },
    "id": "UUZzx2F_YJ-2",
    "outputId": "7200afc1-302f-4006-d21e-fe42542f24c5"
   },
   "outputs": [
    {
     "data": {
      "text/plain": [
       "tensor([ 20., 163.])"
      ]
     },
     "execution_count": 50,
     "metadata": {},
     "output_type": "execute_result"
    }
   ],
   "source": [
    "a[0:2, 1]"
   ]
  },
  {
   "cell_type": "markdown",
   "metadata": {
    "id": "KffQsYwWYJ_D"
   },
   "source": [
    "**Ariphmetics and boolean operations** and their analogues:  \n",
    "\n",
    "| Operator | Analogue |\n",
    "|:-:|:-:|\n",
    "|`+`| `torch.add()` |\n",
    "|`-`| `torch.sub()` |\n",
    "|`*`| `torch.mul()` |\n",
    "|`/`| `torch.div()` |"
   ]
  },
  {
   "cell_type": "markdown",
   "metadata": {
    "id": "UMpR8T11YJ_D"
   },
   "source": [
    "* Addition:"
   ]
  },
  {
   "cell_type": "code",
   "execution_count": 51,
   "metadata": {
    "executionInfo": {
     "elapsed": 666,
     "status": "ok",
     "timestamp": 1603119915695,
     "user": {
      "displayName": "Deep Learning School",
      "photoUrl": "https://lh3.googleusercontent.com/a-/AOh14GhNf0RkP5WvkU5MixKfC1Sv3mb-9QWgAbC6VcfQvA=s64",
      "userId": "16549096980415837553"
     },
     "user_tz": -180
    },
    "id": "1XHkSjEUYJ_D"
   },
   "outputs": [],
   "source": [
    "a = torch.FloatTensor([[1, 2, 3], [10, 20, 30], [100, 200, 300]])\n",
    "b = torch.FloatTensor([[-1, -2, -3], [-10, -20, -30], [100, 200, 300]])"
   ]
  },
  {
   "cell_type": "code",
   "execution_count": 52,
   "metadata": {
    "colab": {
     "base_uri": "https://localhost:8080/",
     "height": 70
    },
    "executionInfo": {
     "elapsed": 1144,
     "status": "ok",
     "timestamp": 1603119978845,
     "user": {
      "displayName": "Deep Learning School",
      "photoUrl": "https://lh3.googleusercontent.com/a-/AOh14GhNf0RkP5WvkU5MixKfC1Sv3mb-9QWgAbC6VcfQvA=s64",
      "userId": "16549096980415837553"
     },
     "user_tz": -180
    },
    "id": "td25tuFKYJ_H",
    "outputId": "f820c363-fb45-4755-dc8f-b53424faf185"
   },
   "outputs": [
    {
     "data": {
      "text/plain": [
       "tensor([[  0.,   0.,   0.],\n",
       "        [  0.,   0.,   0.],\n",
       "        [200., 400., 600.]])"
      ]
     },
     "execution_count": 52,
     "metadata": {},
     "output_type": "execute_result"
    }
   ],
   "source": [
    "a + b"
   ]
  },
  {
   "cell_type": "code",
   "execution_count": 53,
   "metadata": {
    "colab": {
     "base_uri": "https://localhost:8080/",
     "height": 70
    },
    "executionInfo": {
     "elapsed": 388,
     "status": "ok",
     "timestamp": 1603119979110,
     "user": {
      "displayName": "Deep Learning School",
      "photoUrl": "https://lh3.googleusercontent.com/a-/AOh14GhNf0RkP5WvkU5MixKfC1Sv3mb-9QWgAbC6VcfQvA=s64",
      "userId": "16549096980415837553"
     },
     "user_tz": -180
    },
    "id": "wHka8PxFYJ_N",
    "outputId": "bb0cc944-4ed6-4ecc-d613-98346da536d3"
   },
   "outputs": [
    {
     "data": {
      "text/plain": [
       "tensor([[  0.,   0.,   0.],\n",
       "        [  0.,   0.,   0.],\n",
       "        [200., 400., 600.]])"
      ]
     },
     "execution_count": 53,
     "metadata": {},
     "output_type": "execute_result"
    }
   ],
   "source": [
    "a.add(b)"
   ]
  },
  {
   "cell_type": "code",
   "execution_count": 55,
   "metadata": {
    "colab": {
     "base_uri": "https://localhost:8080/",
     "height": 70
    },
    "executionInfo": {
     "elapsed": 450,
     "status": "ok",
     "timestamp": 1603119980195,
     "user": {
      "displayName": "Deep Learning School",
      "photoUrl": "https://lh3.googleusercontent.com/a-/AOh14GhNf0RkP5WvkU5MixKfC1Sv3mb-9QWgAbC6VcfQvA=s64",
      "userId": "16549096980415837553"
     },
     "user_tz": -180
    },
    "id": "FHQj4DbBYJ_Q",
    "outputId": "00432d3e-a3cc-43a7-ce04-a9ab60a88147"
   },
   "outputs": [
    {
     "data": {
      "text/plain": [
       "tensor([[  -1.,   -2.,   -3.],\n",
       "        [ -10.,  -20.,  -30.],\n",
       "        [-100., -200., -300.]])"
      ]
     },
     "execution_count": 55,
     "metadata": {},
     "output_type": "execute_result"
    }
   ],
   "source": [
    "b = -a\n",
    "b"
   ]
  },
  {
   "cell_type": "code",
   "execution_count": 56,
   "metadata": {
    "colab": {
     "base_uri": "https://localhost:8080/",
     "height": 70
    },
    "executionInfo": {
     "elapsed": 604,
     "status": "ok",
     "timestamp": 1603119981206,
     "user": {
      "displayName": "Deep Learning School",
      "photoUrl": "https://lh3.googleusercontent.com/a-/AOh14GhNf0RkP5WvkU5MixKfC1Sv3mb-9QWgAbC6VcfQvA=s64",
      "userId": "16549096980415837553"
     },
     "user_tz": -180
    },
    "id": "xLCDzO7iYJ_V",
    "outputId": "7f84b67a-1950-4fd7-ba05-5259d12e88ec"
   },
   "outputs": [
    {
     "data": {
      "text/plain": [
       "tensor([[0., 0., 0.],\n",
       "        [0., 0., 0.],\n",
       "        [0., 0., 0.]])"
      ]
     },
     "execution_count": 56,
     "metadata": {},
     "output_type": "execute_result"
    }
   ],
   "source": [
    "a + b"
   ]
  },
  {
   "cell_type": "markdown",
   "metadata": {
    "id": "z_3gVLY3YJ_Z"
   },
   "source": [
    "* Subtraction:"
   ]
  },
  {
   "cell_type": "code",
   "execution_count": 57,
   "metadata": {
    "colab": {
     "base_uri": "https://localhost:8080/",
     "height": 70
    },
    "executionInfo": {
     "elapsed": 664,
     "status": "ok",
     "timestamp": 1603119983154,
     "user": {
      "displayName": "Deep Learning School",
      "photoUrl": "https://lh3.googleusercontent.com/a-/AOh14GhNf0RkP5WvkU5MixKfC1Sv3mb-9QWgAbC6VcfQvA=s64",
      "userId": "16549096980415837553"
     },
     "user_tz": -180
    },
    "id": "PANHq3eFYJ_a",
    "outputId": "60bbbcc7-6702-4286-be03-d68d06aaaff9"
   },
   "outputs": [
    {
     "data": {
      "text/plain": [
       "tensor([[  2.,   4.,   6.],\n",
       "        [ 20.,  40.,  60.],\n",
       "        [200., 400., 600.]])"
      ]
     },
     "execution_count": 57,
     "metadata": {},
     "output_type": "execute_result"
    }
   ],
   "source": [
    "a - b"
   ]
  },
  {
   "cell_type": "code",
   "execution_count": 58,
   "metadata": {
    "colab": {
     "base_uri": "https://localhost:8080/",
     "height": 70
    },
    "executionInfo": {
     "elapsed": 739,
     "status": "ok",
     "timestamp": 1603120022898,
     "user": {
      "displayName": "Deep Learning School",
      "photoUrl": "https://lh3.googleusercontent.com/a-/AOh14GhNf0RkP5WvkU5MixKfC1Sv3mb-9QWgAbC6VcfQvA=s64",
      "userId": "16549096980415837553"
     },
     "user_tz": -180
    },
    "id": "AH7xhdkRYJ_i",
    "outputId": "32eacdf1-69de-4dfa-9cf0-f9da42dc314f"
   },
   "outputs": [
    {
     "data": {
      "text/plain": [
       "tensor([[  2.,   4.,   6.],\n",
       "        [ 20.,  40.,  60.],\n",
       "        [200., 400., 600.]])"
      ]
     },
     "execution_count": 58,
     "metadata": {},
     "output_type": "execute_result"
    }
   ],
   "source": [
    "a.sub(b) # copy"
   ]
  },
  {
   "cell_type": "code",
   "execution_count": 81,
   "metadata": {
    "colab": {
     "base_uri": "https://localhost:8080/",
     "height": 70
    },
    "executionInfo": {
     "elapsed": 672,
     "status": "ok",
     "timestamp": 1603120029241,
     "user": {
      "displayName": "Deep Learning School",
      "photoUrl": "https://lh3.googleusercontent.com/a-/AOh14GhNf0RkP5WvkU5MixKfC1Sv3mb-9QWgAbC6VcfQvA=s64",
      "userId": "16549096980415837553"
     },
     "user_tz": -180
    },
    "id": "v-sls6QjK98V",
    "outputId": "d2d48ccc-8707-4360-f37a-ed3c33fe0b97"
   },
   "outputs": [
    {
     "data": {
      "text/plain": [
       "tensor([[  24.,   48.,   72.],\n",
       "        [ 240.,  480.,  720.],\n",
       "        [2400., 4800., 7200.]])"
      ]
     },
     "execution_count": 81,
     "metadata": {},
     "output_type": "execute_result"
    }
   ],
   "source": [
    "a.sub_(b) # inplace"
   ]
  },
  {
   "cell_type": "markdown",
   "metadata": {
    "id": "KOX3dTuZYJ_l"
   },
   "source": [
    "* Multiplication (elementwise):"
   ]
  },
  {
   "cell_type": "code",
   "execution_count": 82,
   "metadata": {
    "colab": {
     "base_uri": "https://localhost:8080/",
     "height": 70
    },
    "executionInfo": {
     "elapsed": 623,
     "status": "ok",
     "timestamp": 1603120036392,
     "user": {
      "displayName": "Deep Learning School",
      "photoUrl": "https://lh3.googleusercontent.com/a-/AOh14GhNf0RkP5WvkU5MixKfC1Sv3mb-9QWgAbC6VcfQvA=s64",
      "userId": "16549096980415837553"
     },
     "user_tz": -180
    },
    "id": "J380CvNGYJ_m",
    "outputId": "4ae09edc-9271-47ea-b974-debdf4b1de70"
   },
   "outputs": [
    {
     "data": {
      "text/plain": [
       "tensor([[-2.4000e+01, -9.6000e+01, -2.1600e+02],\n",
       "        [-2.4000e+03, -9.6000e+03, -2.1600e+04],\n",
       "        [-2.4000e+05, -9.6000e+05, -2.1600e+06]])"
      ]
     },
     "execution_count": 82,
     "metadata": {},
     "output_type": "execute_result"
    }
   ],
   "source": [
    "a * b"
   ]
  },
  {
   "cell_type": "code",
   "execution_count": 83,
   "metadata": {
    "colab": {
     "base_uri": "https://localhost:8080/",
     "height": 70
    },
    "executionInfo": {
     "elapsed": 669,
     "status": "ok",
     "timestamp": 1603120037184,
     "user": {
      "displayName": "Deep Learning School",
      "photoUrl": "https://lh3.googleusercontent.com/a-/AOh14GhNf0RkP5WvkU5MixKfC1Sv3mb-9QWgAbC6VcfQvA=s64",
      "userId": "16549096980415837553"
     },
     "user_tz": -180
    },
    "id": "cixW0jgdYJ_o",
    "outputId": "9e7c7e70-de1f-4061-e7d1-42cca29f613e"
   },
   "outputs": [
    {
     "data": {
      "text/plain": [
       "tensor([[-2.4000e+01, -9.6000e+01, -2.1600e+02],\n",
       "        [-2.4000e+03, -9.6000e+03, -2.1600e+04],\n",
       "        [-2.4000e+05, -9.6000e+05, -2.1600e+06]])"
      ]
     },
     "execution_count": 83,
     "metadata": {},
     "output_type": "execute_result"
    }
   ],
   "source": [
    "a.mul(b)"
   ]
  },
  {
   "cell_type": "markdown",
   "metadata": {
    "id": "V-GYTERKYJ_q"
   },
   "source": [
    "* Division (elementwise):"
   ]
  },
  {
   "cell_type": "code",
   "execution_count": 84,
   "metadata": {
    "executionInfo": {
     "elapsed": 1025,
     "status": "ok",
     "timestamp": 1603120038826,
     "user": {
      "displayName": "Deep Learning School",
      "photoUrl": "https://lh3.googleusercontent.com/a-/AOh14GhNf0RkP5WvkU5MixKfC1Sv3mb-9QWgAbC6VcfQvA=s64",
      "userId": "16549096980415837553"
     },
     "user_tz": -180
    },
    "id": "fUBQns2SYJ_r"
   },
   "outputs": [],
   "source": [
    "a = torch.FloatTensor([[1, 2, 3], [10, 20, 30], [100, 200, 300]])\n",
    "b = torch.FloatTensor([[-1, -2, -3], [-10, -20, -30], [100, 200, 300]])"
   ]
  },
  {
   "cell_type": "code",
   "execution_count": 85,
   "metadata": {
    "colab": {
     "base_uri": "https://localhost:8080/",
     "height": 70
    },
    "executionInfo": {
     "elapsed": 479,
     "status": "ok",
     "timestamp": 1603120039110,
     "user": {
      "displayName": "Deep Learning School",
      "photoUrl": "https://lh3.googleusercontent.com/a-/AOh14GhNf0RkP5WvkU5MixKfC1Sv3mb-9QWgAbC6VcfQvA=s64",
      "userId": "16549096980415837553"
     },
     "user_tz": -180
    },
    "id": "2hrKeMjAYJ_v",
    "outputId": "071b487e-4a13-4ab1-d181-c194d58e9fed"
   },
   "outputs": [
    {
     "data": {
      "text/plain": [
       "tensor([[-1., -1., -1.],\n",
       "        [-1., -1., -1.],\n",
       "        [ 1.,  1.,  1.]])"
      ]
     },
     "execution_count": 85,
     "metadata": {},
     "output_type": "execute_result"
    }
   ],
   "source": [
    "a / b"
   ]
  },
  {
   "cell_type": "code",
   "execution_count": 86,
   "metadata": {
    "colab": {
     "base_uri": "https://localhost:8080/",
     "height": 70
    },
    "executionInfo": {
     "elapsed": 473,
     "status": "ok",
     "timestamp": 1603120040230,
     "user": {
      "displayName": "Deep Learning School",
      "photoUrl": "https://lh3.googleusercontent.com/a-/AOh14GhNf0RkP5WvkU5MixKfC1Sv3mb-9QWgAbC6VcfQvA=s64",
      "userId": "16549096980415837553"
     },
     "user_tz": -180
    },
    "id": "cpg3YFVPYJ_2",
    "outputId": "642c102c-3973-4764-ea0b-66ebd05cb997"
   },
   "outputs": [
    {
     "data": {
      "text/plain": [
       "tensor([[-1., -1., -1.],\n",
       "        [-1., -1., -1.],\n",
       "        [ 1.,  1.,  1.]])"
      ]
     },
     "execution_count": 86,
     "metadata": {},
     "output_type": "execute_result"
    }
   ],
   "source": [
    "a.div(b)"
   ]
  },
  {
   "cell_type": "markdown",
   "metadata": {
    "id": "VeLAbx1tYJ_7"
   },
   "source": [
    "**Note:** all this operations create new tensors, the old tensors remain unchanged"
   ]
  },
  {
   "cell_type": "code",
   "execution_count": 87,
   "metadata": {
    "colab": {
     "base_uri": "https://localhost:8080/",
     "height": 70
    },
    "executionInfo": {
     "elapsed": 746,
     "status": "ok",
     "timestamp": 1603120042039,
     "user": {
      "displayName": "Deep Learning School",
      "photoUrl": "https://lh3.googleusercontent.com/a-/AOh14GhNf0RkP5WvkU5MixKfC1Sv3mb-9QWgAbC6VcfQvA=s64",
      "userId": "16549096980415837553"
     },
     "user_tz": -180
    },
    "id": "57BFtnlgYJ_8",
    "outputId": "5998d081-39d9-4ddf-8fa2-46755d8d9eb9"
   },
   "outputs": [
    {
     "data": {
      "text/plain": [
       "tensor([[  1.,   2.,   3.],\n",
       "        [ 10.,  20.,  30.],\n",
       "        [100., 200., 300.]])"
      ]
     },
     "execution_count": 87,
     "metadata": {},
     "output_type": "execute_result"
    }
   ],
   "source": [
    "a"
   ]
  },
  {
   "cell_type": "code",
   "execution_count": 88,
   "metadata": {
    "colab": {
     "base_uri": "https://localhost:8080/",
     "height": 70
    },
    "executionInfo": {
     "elapsed": 405,
     "status": "ok",
     "timestamp": 1603116011309,
     "user": {
      "displayName": "Deep Learning School",
      "photoUrl": "https://lh3.googleusercontent.com/a-/AOh14GhNf0RkP5WvkU5MixKfC1Sv3mb-9QWgAbC6VcfQvA=s64",
      "userId": "16549096980415837553"
     },
     "user_tz": -180
    },
    "id": "UziXyvtDYJ_-",
    "outputId": "8915a7af-c9f2-4a71-cfb5-8a56ac4923f9"
   },
   "outputs": [
    {
     "data": {
      "text/plain": [
       "tensor([[ -1.,  -2.,  -3.],\n",
       "        [-10., -20., -30.],\n",
       "        [100., 200., 300.]])"
      ]
     },
     "execution_count": 88,
     "metadata": {},
     "output_type": "execute_result"
    }
   ],
   "source": [
    "b"
   ]
  },
  {
   "cell_type": "markdown",
   "metadata": {
    "id": "vLpwZPc3YKAC"
   },
   "source": [
    "* Comparison operators:"
   ]
  },
  {
   "cell_type": "code",
   "execution_count": 67,
   "metadata": {
    "executionInfo": {
     "elapsed": 812,
     "status": "ok",
     "timestamp": 1603120060288,
     "user": {
      "displayName": "Deep Learning School",
      "photoUrl": "https://lh3.googleusercontent.com/a-/AOh14GhNf0RkP5WvkU5MixKfC1Sv3mb-9QWgAbC6VcfQvA=s64",
      "userId": "16549096980415837553"
     },
     "user_tz": -180
    },
    "id": "FfRzvw_UYKAC"
   },
   "outputs": [],
   "source": [
    "a = torch.FloatTensor([[1, 2, 3], [10, 20, 30], [100, 200, 300]])\n",
    "b = torch.FloatTensor([[-1, -2, -3], [-10, -20, -30], [100, 200, 300]])"
   ]
  },
  {
   "cell_type": "code",
   "execution_count": 89,
   "metadata": {
    "colab": {
     "base_uri": "https://localhost:8080/",
     "height": 70
    },
    "executionInfo": {
     "elapsed": 577,
     "status": "ok",
     "timestamp": 1603120061574,
     "user": {
      "displayName": "Deep Learning School",
      "photoUrl": "https://lh3.googleusercontent.com/a-/AOh14GhNf0RkP5WvkU5MixKfC1Sv3mb-9QWgAbC6VcfQvA=s64",
      "userId": "16549096980415837553"
     },
     "user_tz": -180
    },
    "id": "o1RUTP2BYKAD",
    "outputId": "e9fb9d14-454e-4100-cf29-34f8f0bb0a9f"
   },
   "outputs": [
    {
     "data": {
      "text/plain": [
       "tensor([[False, False, False],\n",
       "        [False, False, False],\n",
       "        [ True,  True,  True]])"
      ]
     },
     "execution_count": 89,
     "metadata": {},
     "output_type": "execute_result"
    }
   ],
   "source": [
    "a == b"
   ]
  },
  {
   "cell_type": "code",
   "execution_count": 90,
   "metadata": {
    "colab": {
     "base_uri": "https://localhost:8080/",
     "height": 70
    },
    "executionInfo": {
     "elapsed": 387,
     "status": "ok",
     "timestamp": 1603120062352,
     "user": {
      "displayName": "Deep Learning School",
      "photoUrl": "https://lh3.googleusercontent.com/a-/AOh14GhNf0RkP5WvkU5MixKfC1Sv3mb-9QWgAbC6VcfQvA=s64",
      "userId": "16549096980415837553"
     },
     "user_tz": -180
    },
    "id": "JO3HaVIAYKAF",
    "outputId": "ec9d53e2-cd32-40b8-b6f1-3ccd0bb26038"
   },
   "outputs": [
    {
     "data": {
      "text/plain": [
       "tensor([[ True,  True,  True],\n",
       "        [ True,  True,  True],\n",
       "        [False, False, False]])"
      ]
     },
     "execution_count": 90,
     "metadata": {},
     "output_type": "execute_result"
    }
   ],
   "source": [
    "a != b"
   ]
  },
  {
   "cell_type": "code",
   "execution_count": 91,
   "metadata": {
    "colab": {
     "base_uri": "https://localhost:8080/",
     "height": 70
    },
    "executionInfo": {
     "elapsed": 598,
     "status": "ok",
     "timestamp": 1603120065016,
     "user": {
      "displayName": "Deep Learning School",
      "photoUrl": "https://lh3.googleusercontent.com/a-/AOh14GhNf0RkP5WvkU5MixKfC1Sv3mb-9QWgAbC6VcfQvA=s64",
      "userId": "16549096980415837553"
     },
     "user_tz": -180
    },
    "id": "DExLBj4VYKAH",
    "outputId": "7f5196d9-9d1f-4103-d38c-b82740eac05f"
   },
   "outputs": [
    {
     "data": {
      "text/plain": [
       "tensor([[False, False, False],\n",
       "        [False, False, False],\n",
       "        [False, False, False]])"
      ]
     },
     "execution_count": 91,
     "metadata": {},
     "output_type": "execute_result"
    }
   ],
   "source": [
    "a < b"
   ]
  },
  {
   "cell_type": "code",
   "execution_count": 92,
   "metadata": {
    "colab": {
     "base_uri": "https://localhost:8080/",
     "height": 70
    },
    "executionInfo": {
     "elapsed": 543,
     "status": "ok",
     "timestamp": 1603120065768,
     "user": {
      "displayName": "Deep Learning School",
      "photoUrl": "https://lh3.googleusercontent.com/a-/AOh14GhNf0RkP5WvkU5MixKfC1Sv3mb-9QWgAbC6VcfQvA=s64",
      "userId": "16549096980415837553"
     },
     "user_tz": -180
    },
    "id": "0_IH_FUNYKAJ",
    "outputId": "4ee59f25-1dc0-48fb-b082-703edd308398"
   },
   "outputs": [
    {
     "data": {
      "text/plain": [
       "tensor([[ True,  True,  True],\n",
       "        [ True,  True,  True],\n",
       "        [False, False, False]])"
      ]
     },
     "execution_count": 92,
     "metadata": {},
     "output_type": "execute_result"
    }
   ],
   "source": [
    "a > b"
   ]
  },
  {
   "cell_type": "markdown",
   "metadata": {
    "id": "24nzBJR8YKAM"
   },
   "source": [
    "* Using boolean mask indexing:"
   ]
  },
  {
   "cell_type": "code",
   "execution_count": 93,
   "metadata": {
    "colab": {
     "base_uri": "https://localhost:8080/",
     "height": 35
    },
    "executionInfo": {
     "elapsed": 611,
     "status": "ok",
     "timestamp": 1603120073902,
     "user": {
      "displayName": "Deep Learning School",
      "photoUrl": "https://lh3.googleusercontent.com/a-/AOh14GhNf0RkP5WvkU5MixKfC1Sv3mb-9QWgAbC6VcfQvA=s64",
      "userId": "16549096980415837553"
     },
     "user_tz": -180
    },
    "id": "C-xVDslwYKAN",
    "outputId": "b045a46e-2e0c-4f35-acbc-86a1cbbb44d2"
   },
   "outputs": [
    {
     "data": {
      "text/plain": [
       "tensor([ 1.,  2.,  3., 10., 20., 30.])"
      ]
     },
     "execution_count": 93,
     "metadata": {},
     "output_type": "execute_result"
    }
   ],
   "source": [
    "a[a > b]"
   ]
  },
  {
   "cell_type": "code",
   "execution_count": 94,
   "metadata": {
    "colab": {
     "base_uri": "https://localhost:8080/",
     "height": 35
    },
    "executionInfo": {
     "elapsed": 581,
     "status": "ok",
     "timestamp": 1603120075034,
     "user": {
      "displayName": "Deep Learning School",
      "photoUrl": "https://lh3.googleusercontent.com/a-/AOh14GhNf0RkP5WvkU5MixKfC1Sv3mb-9QWgAbC6VcfQvA=s64",
      "userId": "16549096980415837553"
     },
     "user_tz": -180
    },
    "id": "XatDJF5YYKAQ",
    "outputId": "920ca8b9-f009-41b8-cae1-a84006b3f04c"
   },
   "outputs": [
    {
     "data": {
      "text/plain": [
       "tensor([100., 200., 300.])"
      ]
     },
     "execution_count": 94,
     "metadata": {},
     "output_type": "execute_result"
    }
   ],
   "source": [
    "b[a == b]"
   ]
  },
  {
   "cell_type": "markdown",
   "metadata": {
    "id": "54bQky1bYKAf"
   },
   "source": [
    "Elementwise application of the **universal functions**:"
   ]
  },
  {
   "cell_type": "code",
   "execution_count": 95,
   "metadata": {
    "executionInfo": {
     "elapsed": 627,
     "status": "ok",
     "timestamp": 1603120082215,
     "user": {
      "displayName": "Deep Learning School",
      "photoUrl": "https://lh3.googleusercontent.com/a-/AOh14GhNf0RkP5WvkU5MixKfC1Sv3mb-9QWgAbC6VcfQvA=s64",
      "userId": "16549096980415837553"
     },
     "user_tz": -180
    },
    "id": "lWnGSuUhYKAf"
   },
   "outputs": [],
   "source": [
    "a = torch.FloatTensor([[1, 2, 3], [10, 20, 30], [100, 200, 300]])"
   ]
  },
  {
   "cell_type": "code",
   "execution_count": 96,
   "metadata": {
    "colab": {
     "base_uri": "https://localhost:8080/",
     "height": 70
    },
    "executionInfo": {
     "elapsed": 399,
     "status": "ok",
     "timestamp": 1603120083111,
     "user": {
      "displayName": "Deep Learning School",
      "photoUrl": "https://lh3.googleusercontent.com/a-/AOh14GhNf0RkP5WvkU5MixKfC1Sv3mb-9QWgAbC6VcfQvA=s64",
      "userId": "16549096980415837553"
     },
     "user_tz": -180
    },
    "id": "J6ZyxZBNYKAl",
    "outputId": "8eba6a9e-d095-4c1d-b18f-7d7fe14ff9ac"
   },
   "outputs": [
    {
     "data": {
      "text/plain": [
       "tensor([[ 0.8415,  0.9093,  0.1411],\n",
       "        [-0.5440,  0.9129, -0.9880],\n",
       "        [-0.5064, -0.8733, -0.9998]])"
      ]
     },
     "execution_count": 96,
     "metadata": {},
     "output_type": "execute_result"
    }
   ],
   "source": [
    "a.sin()"
   ]
  },
  {
   "cell_type": "code",
   "execution_count": 97,
   "metadata": {
    "colab": {
     "base_uri": "https://localhost:8080/",
     "height": 70
    },
    "executionInfo": {
     "elapsed": 631,
     "status": "ok",
     "timestamp": 1603120095605,
     "user": {
      "displayName": "Deep Learning School",
      "photoUrl": "https://lh3.googleusercontent.com/a-/AOh14GhNf0RkP5WvkU5MixKfC1Sv3mb-9QWgAbC6VcfQvA=s64",
      "userId": "16549096980415837553"
     },
     "user_tz": -180
    },
    "id": "SScTSkJMYKAo",
    "outputId": "75a1a613-1a5c-4cdb-df2d-6dcc4205a1b6"
   },
   "outputs": [
    {
     "data": {
      "text/plain": [
       "tensor([[ 0.8415,  0.9093,  0.1411],\n",
       "        [-0.5440,  0.9129, -0.9880],\n",
       "        [-0.5064, -0.8733, -0.9998]])"
      ]
     },
     "execution_count": 97,
     "metadata": {},
     "output_type": "execute_result"
    }
   ],
   "source": [
    "torch.sin(a)"
   ]
  },
  {
   "cell_type": "code",
   "execution_count": 98,
   "metadata": {
    "colab": {
     "base_uri": "https://localhost:8080/",
     "height": 70
    },
    "executionInfo": {
     "elapsed": 690,
     "status": "ok",
     "timestamp": 1603120096136,
     "user": {
      "displayName": "Deep Learning School",
      "photoUrl": "https://lh3.googleusercontent.com/a-/AOh14GhNf0RkP5WvkU5MixKfC1Sv3mb-9QWgAbC6VcfQvA=s64",
      "userId": "16549096980415837553"
     },
     "user_tz": -180
    },
    "id": "0bYVYVV7YKAr",
    "outputId": "4be582af-dbce-4ceb-a8e8-6fbe2f7c5a45"
   },
   "outputs": [
    {
     "data": {
      "text/plain": [
       "tensor([[ 1.5574, -2.1850, -0.1425],\n",
       "        [ 0.6484,  2.2372, -6.4053],\n",
       "        [-0.5872, -1.7925, 45.2447]])"
      ]
     },
     "execution_count": 98,
     "metadata": {},
     "output_type": "execute_result"
    }
   ],
   "source": [
    "a.tan()"
   ]
  },
  {
   "cell_type": "code",
   "execution_count": 99,
   "metadata": {
    "colab": {
     "base_uri": "https://localhost:8080/",
     "height": 70
    },
    "executionInfo": {
     "elapsed": 591,
     "status": "ok",
     "timestamp": 1603120096442,
     "user": {
      "displayName": "Deep Learning School",
      "photoUrl": "https://lh3.googleusercontent.com/a-/AOh14GhNf0RkP5WvkU5MixKfC1Sv3mb-9QWgAbC6VcfQvA=s64",
      "userId": "16549096980415837553"
     },
     "user_tz": -180
    },
    "id": "c-rYL8HQYKAt",
    "outputId": "c1563886-0b8e-49ad-bfc2-5911481304f9"
   },
   "outputs": [
    {
     "data": {
      "text/plain": [
       "tensor([[2.7183e+00, 7.3891e+00, 2.0086e+01],\n",
       "        [2.2026e+04, 4.8517e+08, 1.0686e+13],\n",
       "        [       inf,        inf,        inf]])"
      ]
     },
     "execution_count": 99,
     "metadata": {},
     "output_type": "execute_result"
    }
   ],
   "source": [
    "a.exp()"
   ]
  },
  {
   "cell_type": "code",
   "execution_count": 100,
   "metadata": {
    "colab": {
     "base_uri": "https://localhost:8080/",
     "height": 70
    },
    "executionInfo": {
     "elapsed": 623,
     "status": "ok",
     "timestamp": 1603120096947,
     "user": {
      "displayName": "Deep Learning School",
      "photoUrl": "https://lh3.googleusercontent.com/a-/AOh14GhNf0RkP5WvkU5MixKfC1Sv3mb-9QWgAbC6VcfQvA=s64",
      "userId": "16549096980415837553"
     },
     "user_tz": -180
    },
    "id": "EbiCDYUzYKAw",
    "outputId": "03e4569b-7013-4493-d2c2-125c57fc07b8"
   },
   "outputs": [
    {
     "data": {
      "text/plain": [
       "tensor([[0.0000, 0.6931, 1.0986],\n",
       "        [2.3026, 2.9957, 3.4012],\n",
       "        [4.6052, 5.2983, 5.7038]])"
      ]
     },
     "execution_count": 100,
     "metadata": {},
     "output_type": "execute_result"
    }
   ],
   "source": [
    "a.log()"
   ]
  },
  {
   "cell_type": "code",
   "execution_count": 101,
   "metadata": {
    "colab": {
     "base_uri": "https://localhost:8080/",
     "height": 70
    },
    "executionInfo": {
     "elapsed": 945,
     "status": "ok",
     "timestamp": 1603120097798,
     "user": {
      "displayName": "Deep Learning School",
      "photoUrl": "https://lh3.googleusercontent.com/a-/AOh14GhNf0RkP5WvkU5MixKfC1Sv3mb-9QWgAbC6VcfQvA=s64",
      "userId": "16549096980415837553"
     },
     "user_tz": -180
    },
    "id": "yh1sySpiYKAy",
    "outputId": "68acc5a6-2a9f-4d2c-f2c9-b1d60d642224"
   },
   "outputs": [
    {
     "data": {
      "text/plain": [
       "tensor([[  -1.,   -2.,   -3.],\n",
       "        [ -10.,  -20.,  -30.],\n",
       "        [-100., -200., -300.]])"
      ]
     },
     "execution_count": 101,
     "metadata": {},
     "output_type": "execute_result"
    }
   ],
   "source": [
    "b = -a\n",
    "b"
   ]
  },
  {
   "cell_type": "code",
   "execution_count": 102,
   "metadata": {
    "colab": {
     "base_uri": "https://localhost:8080/",
     "height": 70
    },
    "executionInfo": {
     "elapsed": 405,
     "status": "ok",
     "timestamp": 1603120098126,
     "user": {
      "displayName": "Deep Learning School",
      "photoUrl": "https://lh3.googleusercontent.com/a-/AOh14GhNf0RkP5WvkU5MixKfC1Sv3mb-9QWgAbC6VcfQvA=s64",
      "userId": "16549096980415837553"
     },
     "user_tz": -180
    },
    "id": "PNU0UxqIYKA2",
    "outputId": "fa15a2ab-e898-4560-a73b-e3ac8fdad5d3"
   },
   "outputs": [
    {
     "data": {
      "text/plain": [
       "tensor([[  1.,   2.,   3.],\n",
       "        [ 10.,  20.,  30.],\n",
       "        [100., 200., 300.]])"
      ]
     },
     "execution_count": 102,
     "metadata": {},
     "output_type": "execute_result"
    }
   ],
   "source": [
    "b.abs()"
   ]
  },
  {
   "cell_type": "markdown",
   "metadata": {
    "id": "eqERQjISYKA9"
   },
   "source": [
    "* The sum, mean, max, min:"
   ]
  },
  {
   "cell_type": "code",
   "execution_count": 103,
   "metadata": {
    "colab": {
     "base_uri": "https://localhost:8080/",
     "height": 35
    },
    "executionInfo": {
     "elapsed": 1109,
     "status": "ok",
     "timestamp": 1603120154729,
     "user": {
      "displayName": "Deep Learning School",
      "photoUrl": "https://lh3.googleusercontent.com/a-/AOh14GhNf0RkP5WvkU5MixKfC1Sv3mb-9QWgAbC6VcfQvA=s64",
      "userId": "16549096980415837553"
     },
     "user_tz": -180
    },
    "id": "HLmJGdl9YKA-",
    "outputId": "009aaa73-f96c-49eb-b733-37b9cb331bc7"
   },
   "outputs": [
    {
     "data": {
      "text/plain": [
       "tensor([  6.,  60., 600.])"
      ]
     },
     "execution_count": 103,
     "metadata": {},
     "output_type": "execute_result"
    }
   ],
   "source": [
    "a.sum(dim=1)"
   ]
  },
  {
   "cell_type": "code",
   "execution_count": 83,
   "metadata": {
    "colab": {
     "base_uri": "https://localhost:8080/",
     "height": 35
    },
    "executionInfo": {
     "elapsed": 585,
     "status": "ok",
     "timestamp": 1603120155491,
     "user": {
      "displayName": "Deep Learning School",
      "photoUrl": "https://lh3.googleusercontent.com/a-/AOh14GhNf0RkP5WvkU5MixKfC1Sv3mb-9QWgAbC6VcfQvA=s64",
      "userId": "16549096980415837553"
     },
     "user_tz": -180
    },
    "id": "ervIuNGnYKBD",
    "outputId": "174d856b-e996-4e0f-a1f3-f195bb2e987c"
   },
   "outputs": [
    {
     "data": {
      "text/plain": [
       "tensor(74.)"
      ]
     },
     "execution_count": 83,
     "metadata": {
      "tags": []
     },
     "output_type": "execute_result"
    }
   ],
   "source": [
    "a.mean()"
   ]
  },
  {
   "cell_type": "markdown",
   "metadata": {
    "id": "1qxkdUQ2YKBF"
   },
   "source": [
    "Along axis:"
   ]
  },
  {
   "cell_type": "code",
   "execution_count": 84,
   "metadata": {
    "colab": {
     "base_uri": "https://localhost:8080/",
     "height": 70
    },
    "executionInfo": {
     "elapsed": 964,
     "status": "ok",
     "timestamp": 1603120158380,
     "user": {
      "displayName": "Deep Learning School",
      "photoUrl": "https://lh3.googleusercontent.com/a-/AOh14GhNf0RkP5WvkU5MixKfC1Sv3mb-9QWgAbC6VcfQvA=s64",
      "userId": "16549096980415837553"
     },
     "user_tz": -180
    },
    "id": "OzU2H7jBbdS-",
    "outputId": "b046d6a2-eafd-4016-96bd-c20f16df20e5"
   },
   "outputs": [
    {
     "data": {
      "text/plain": [
       "tensor([[  1.,   2.,   3.],\n",
       "        [ 10.,  20.,  30.],\n",
       "        [100., 200., 300.]])"
      ]
     },
     "execution_count": 84,
     "metadata": {
      "tags": []
     },
     "output_type": "execute_result"
    }
   ],
   "source": [
    "a"
   ]
  },
  {
   "cell_type": "code",
   "execution_count": 85,
   "metadata": {
    "colab": {
     "base_uri": "https://localhost:8080/",
     "height": 35
    },
    "executionInfo": {
     "elapsed": 682,
     "status": "ok",
     "timestamp": 1603120158699,
     "user": {
      "displayName": "Deep Learning School",
      "photoUrl": "https://lh3.googleusercontent.com/a-/AOh14GhNf0RkP5WvkU5MixKfC1Sv3mb-9QWgAbC6VcfQvA=s64",
      "userId": "16549096980415837553"
     },
     "user_tz": -180
    },
    "id": "cc6RjJYeYKBG",
    "outputId": "7f9c7e1b-d564-4ad0-a55d-2b2e84d2b6f3"
   },
   "outputs": [
    {
     "data": {
      "text/plain": [
       "tensor([111., 222., 333.])"
      ]
     },
     "execution_count": 85,
     "metadata": {
      "tags": []
     },
     "output_type": "execute_result"
    }
   ],
   "source": [
    "a.sum(dim=0)"
   ]
  },
  {
   "cell_type": "code",
   "execution_count": 104,
   "metadata": {
    "colab": {
     "base_uri": "https://localhost:8080/",
     "height": 35
    },
    "executionInfo": {
     "elapsed": 507,
     "status": "ok",
     "timestamp": 1603120158992,
     "user": {
      "displayName": "Deep Learning School",
      "photoUrl": "https://lh3.googleusercontent.com/a-/AOh14GhNf0RkP5WvkU5MixKfC1Sv3mb-9QWgAbC6VcfQvA=s64",
      "userId": "16549096980415837553"
     },
     "user_tz": -180
    },
    "id": "Dgi5BmhOYKBJ",
    "outputId": "80f473d5-74b3-48e2-857c-059198258623"
   },
   "outputs": [
    {
     "data": {
      "text/plain": [
       "tensor([  6.,  60., 600.])"
      ]
     },
     "execution_count": 104,
     "metadata": {},
     "output_type": "execute_result"
    }
   ],
   "source": [
    "a.sum(1)"
   ]
  },
  {
   "cell_type": "code",
   "execution_count": 105,
   "metadata": {
    "colab": {
     "base_uri": "https://localhost:8080/",
     "height": 35
    },
    "executionInfo": {
     "elapsed": 790,
     "status": "ok",
     "timestamp": 1603120159903,
     "user": {
      "displayName": "Deep Learning School",
      "photoUrl": "https://lh3.googleusercontent.com/a-/AOh14GhNf0RkP5WvkU5MixKfC1Sv3mb-9QWgAbC6VcfQvA=s64",
      "userId": "16549096980415837553"
     },
     "user_tz": -180
    },
    "id": "-tIkcTENYKBK",
    "outputId": "373cc2d0-6911-4bc7-90c1-e02cbd876d4c"
   },
   "outputs": [
    {
     "data": {
      "text/plain": [
       "tensor(300.)"
      ]
     },
     "execution_count": 105,
     "metadata": {},
     "output_type": "execute_result"
    }
   ],
   "source": [
    "a.max()"
   ]
  },
  {
   "cell_type": "code",
   "execution_count": 106,
   "metadata": {
    "colab": {
     "base_uri": "https://localhost:8080/",
     "height": 35
    },
    "executionInfo": {
     "elapsed": 656,
     "status": "ok",
     "timestamp": 1603120160269,
     "user": {
      "displayName": "Deep Learning School",
      "photoUrl": "https://lh3.googleusercontent.com/a-/AOh14GhNf0RkP5WvkU5MixKfC1Sv3mb-9QWgAbC6VcfQvA=s64",
      "userId": "16549096980415837553"
     },
     "user_tz": -180
    },
    "id": "V4U_LyyPYKBL",
    "outputId": "d1a75632-456f-4913-e0d6-730c469f03d7"
   },
   "outputs": [
    {
     "data": {
      "text/plain": [
       "torch.return_types.max(\n",
       "values=tensor([100., 200., 300.]),\n",
       "indices=tensor([2, 2, 2]))"
      ]
     },
     "execution_count": 106,
     "metadata": {},
     "output_type": "execute_result"
    }
   ],
   "source": [
    "a.max(0)"
   ]
  },
  {
   "cell_type": "code",
   "execution_count": 107,
   "metadata": {
    "colab": {
     "base_uri": "https://localhost:8080/",
     "height": 35
    },
    "executionInfo": {
     "elapsed": 775,
     "status": "ok",
     "timestamp": 1603120160899,
     "user": {
      "displayName": "Deep Learning School",
      "photoUrl": "https://lh3.googleusercontent.com/a-/AOh14GhNf0RkP5WvkU5MixKfC1Sv3mb-9QWgAbC6VcfQvA=s64",
      "userId": "16549096980415837553"
     },
     "user_tz": -180
    },
    "id": "TSqmVtWjYKBO",
    "outputId": "08b2dd94-cbc7-416b-c86a-ecc3ec6c9d02"
   },
   "outputs": [
    {
     "data": {
      "text/plain": [
       "tensor(1.)"
      ]
     },
     "execution_count": 107,
     "metadata": {},
     "output_type": "execute_result"
    }
   ],
   "source": [
    "a.min()"
   ]
  },
  {
   "cell_type": "code",
   "execution_count": 109,
   "metadata": {
    "colab": {
     "base_uri": "https://localhost:8080/",
     "height": 35
    },
    "executionInfo": {
     "elapsed": 587,
     "status": "ok",
     "timestamp": 1603120161319,
     "user": {
      "displayName": "Deep Learning School",
      "photoUrl": "https://lh3.googleusercontent.com/a-/AOh14GhNf0RkP5WvkU5MixKfC1Sv3mb-9QWgAbC6VcfQvA=s64",
      "userId": "16549096980415837553"
     },
     "user_tz": -180
    },
    "id": "OeA2hlZ2YKBP",
    "outputId": "32c10f2c-f1ed-4e1e-8f8b-d1968c79bd2b"
   },
   "outputs": [
    {
     "data": {
      "text/plain": [
       "torch.return_types.min(\n",
       "values=tensor([1., 2., 3.]),\n",
       "indices=tensor([0, 0, 0]))"
      ]
     },
     "execution_count": 109,
     "metadata": {},
     "output_type": "execute_result"
    }
   ],
   "source": [
    "a.min(0)"
   ]
  },
  {
   "cell_type": "markdown",
   "metadata": {
    "id": "Ys-9hnr4YKBS"
   },
   "source": [
    "**Note:** the second tensor returned by `.max()` and `.min()` contains the indices of max/min elements along this axis. E.g. in that case `a.min()` returned `(1, 2, 3)` which are the minimum elements along 0 axis (along columns) and their indices along 0 axis are `(0, 0, 0)`."
   ]
  },
  {
   "cell_type": "markdown",
   "metadata": {
    "id": "kepFeTZ0YKBV"
   },
   "source": [
    "**Matrix operations**:"
   ]
  },
  {
   "cell_type": "markdown",
   "metadata": {
    "id": "7RYm3mdrYKBX"
   },
   "source": [
    "* Transpose a tensor:"
   ]
  },
  {
   "cell_type": "code",
   "execution_count": 110,
   "metadata": {
    "colab": {
     "base_uri": "https://localhost:8080/",
     "height": 70
    },
    "executionInfo": {
     "elapsed": 703,
     "status": "ok",
     "timestamp": 1603120166205,
     "user": {
      "displayName": "Deep Learning School",
      "photoUrl": "https://lh3.googleusercontent.com/a-/AOh14GhNf0RkP5WvkU5MixKfC1Sv3mb-9QWgAbC6VcfQvA=s64",
      "userId": "16549096980415837553"
     },
     "user_tz": -180
    },
    "id": "T8-1TSkeYKBY",
    "outputId": "0755d48f-d490-4627-c818-d1e9ca2024b0"
   },
   "outputs": [
    {
     "data": {
      "text/plain": [
       "tensor([[  1.,   2.,   3.],\n",
       "        [ 10.,  20.,  30.],\n",
       "        [100., 200., 300.]])"
      ]
     },
     "execution_count": 110,
     "metadata": {},
     "output_type": "execute_result"
    }
   ],
   "source": [
    "a = torch.FloatTensor([[1, 2, 3], [10, 20, 30], [100, 200, 300]])\n",
    "a"
   ]
  },
  {
   "cell_type": "code",
   "execution_count": 111,
   "metadata": {
    "colab": {
     "base_uri": "https://localhost:8080/",
     "height": 70
    },
    "executionInfo": {
     "elapsed": 612,
     "status": "ok",
     "timestamp": 1603120167600,
     "user": {
      "displayName": "Deep Learning School",
      "photoUrl": "https://lh3.googleusercontent.com/a-/AOh14GhNf0RkP5WvkU5MixKfC1Sv3mb-9QWgAbC6VcfQvA=s64",
      "userId": "16549096980415837553"
     },
     "user_tz": -180
    },
    "id": "HSAZwai7YKBa",
    "outputId": "b15c123a-d1bc-485b-fbb7-2789afcc074d"
   },
   "outputs": [
    {
     "data": {
      "text/plain": [
       "tensor([[  1.,  10., 100.],\n",
       "        [  2.,  20., 200.],\n",
       "        [  3.,  30., 300.]])"
      ]
     },
     "execution_count": 111,
     "metadata": {},
     "output_type": "execute_result"
    }
   ],
   "source": [
    "a.t()"
   ]
  },
  {
   "cell_type": "markdown",
   "metadata": {
    "id": "QqsPkleRYKBd"
   },
   "source": [
    "It is not not the inplace operation too:"
   ]
  },
  {
   "cell_type": "code",
   "execution_count": 112,
   "metadata": {
    "colab": {
     "base_uri": "https://localhost:8080/",
     "height": 70
    },
    "executionInfo": {
     "elapsed": 654,
     "status": "ok",
     "timestamp": 1603120179454,
     "user": {
      "displayName": "Deep Learning School",
      "photoUrl": "https://lh3.googleusercontent.com/a-/AOh14GhNf0RkP5WvkU5MixKfC1Sv3mb-9QWgAbC6VcfQvA=s64",
      "userId": "16549096980415837553"
     },
     "user_tz": -180
    },
    "id": "NRPamd2EYKBe",
    "outputId": "1dbf7f28-19ea-4469-ba2c-772f56eb3ee8"
   },
   "outputs": [
    {
     "data": {
      "text/plain": [
       "tensor([[  1.,   2.,   3.],\n",
       "        [ 10.,  20.,  30.],\n",
       "        [100., 200., 300.]])"
      ]
     },
     "execution_count": 112,
     "metadata": {},
     "output_type": "execute_result"
    }
   ],
   "source": [
    "a"
   ]
  },
  {
   "cell_type": "markdown",
   "metadata": {
    "id": "q8YhoxHPYKBh"
   },
   "source": [
    "* Dot product of vectors:"
   ]
  },
  {
   "cell_type": "code",
   "execution_count": 113,
   "metadata": {
    "executionInfo": {
     "elapsed": 670,
     "status": "ok",
     "timestamp": 1603120181409,
     "user": {
      "displayName": "Deep Learning School",
      "photoUrl": "https://lh3.googleusercontent.com/a-/AOh14GhNf0RkP5WvkU5MixKfC1Sv3mb-9QWgAbC6VcfQvA=s64",
      "userId": "16549096980415837553"
     },
     "user_tz": -180
    },
    "id": "i1pRtl7HYKBi"
   },
   "outputs": [],
   "source": [
    "a = torch.FloatTensor([1, 2, 3, 4, 5, 6])\n",
    "b = torch.FloatTensor([-1, -2, -4, -6, -8, -10])"
   ]
  },
  {
   "cell_type": "code",
   "execution_count": 115,
   "metadata": {
    "colab": {
     "base_uri": "https://localhost:8080/",
     "height": 35
    },
    "executionInfo": {
     "elapsed": 670,
     "status": "ok",
     "timestamp": 1603120185047,
     "user": {
      "displayName": "Deep Learning School",
      "photoUrl": "https://lh3.googleusercontent.com/a-/AOh14GhNf0RkP5WvkU5MixKfC1Sv3mb-9QWgAbC6VcfQvA=s64",
      "userId": "16549096980415837553"
     },
     "user_tz": -180
    },
    "id": "qcS-28dwYKBp",
    "outputId": "0e67d4f8-16e0-49bc-bb3c-3fd910962188"
   },
   "outputs": [
    {
     "data": {
      "text/plain": [
       "tensor(-141.)"
      ]
     },
     "execution_count": 115,
     "metadata": {},
     "output_type": "execute_result"
    }
   ],
   "source": [
    "a.dot(b)"
   ]
  },
  {
   "cell_type": "code",
   "execution_count": 116,
   "metadata": {
    "colab": {
     "base_uri": "https://localhost:8080/",
     "height": 35
    },
    "executionInfo": {
     "elapsed": 657,
     "status": "ok",
     "timestamp": 1603120198092,
     "user": {
      "displayName": "Deep Learning School",
      "photoUrl": "https://lh3.googleusercontent.com/a-/AOh14GhNf0RkP5WvkU5MixKfC1Sv3mb-9QWgAbC6VcfQvA=s64",
      "userId": "16549096980415837553"
     },
     "user_tz": -180
    },
    "id": "sBiRR1V3LP-r",
    "outputId": "c10d3579-10f2-4862-db1a-517484e0ccdd"
   },
   "outputs": [
    {
     "data": {
      "text/plain": [
       "(torch.Size([6]), torch.Size([6]))"
      ]
     },
     "execution_count": 116,
     "metadata": {},
     "output_type": "execute_result"
    }
   ],
   "source": [
    "a.shape, b.shape"
   ]
  },
  {
   "cell_type": "code",
   "execution_count": 117,
   "metadata": {
    "colab": {
     "base_uri": "https://localhost:8080/",
     "height": 35
    },
    "executionInfo": {
     "elapsed": 887,
     "status": "ok",
     "timestamp": 1603120198972,
     "user": {
      "displayName": "Deep Learning School",
      "photoUrl": "https://lh3.googleusercontent.com/a-/AOh14GhNf0RkP5WvkU5MixKfC1Sv3mb-9QWgAbC6VcfQvA=s64",
      "userId": "16549096980415837553"
     },
     "user_tz": -180
    },
    "id": "MXyhOelQYKBs",
    "outputId": "4dc2dbe3-e59f-46c9-fbf3-16cc69a835db"
   },
   "outputs": [
    {
     "data": {
      "text/plain": [
       "tensor(-141.)"
      ]
     },
     "execution_count": 117,
     "metadata": {},
     "output_type": "execute_result"
    }
   ],
   "source": [
    "a @ b"
   ]
  },
  {
   "cell_type": "code",
   "execution_count": 118,
   "metadata": {
    "colab": {
     "base_uri": "https://localhost:8080/",
     "height": 35
    },
    "executionInfo": {
     "elapsed": 779,
     "status": "ok",
     "timestamp": 1603120199564,
     "user": {
      "displayName": "Deep Learning School",
      "photoUrl": "https://lh3.googleusercontent.com/a-/AOh14GhNf0RkP5WvkU5MixKfC1Sv3mb-9QWgAbC6VcfQvA=s64",
      "userId": "16549096980415837553"
     },
     "user_tz": -180
    },
    "id": "sxqg4xhoYKBt",
    "outputId": "3d06f772-28b1-44a2-ee76-2e31e87c9dbe"
   },
   "outputs": [
    {
     "data": {
      "text/plain": [
       "torch.Tensor"
      ]
     },
     "execution_count": 118,
     "metadata": {},
     "output_type": "execute_result"
    }
   ],
   "source": [
    "type(a)"
   ]
  },
  {
   "cell_type": "code",
   "execution_count": 119,
   "metadata": {
    "colab": {
     "base_uri": "https://localhost:8080/",
     "height": 35
    },
    "executionInfo": {
     "elapsed": 496,
     "status": "ok",
     "timestamp": 1603120199907,
     "user": {
      "displayName": "Deep Learning School",
      "photoUrl": "https://lh3.googleusercontent.com/a-/AOh14GhNf0RkP5WvkU5MixKfC1Sv3mb-9QWgAbC6VcfQvA=s64",
      "userId": "16549096980415837553"
     },
     "user_tz": -180
    },
    "id": "_v2ZjPqDYKBz",
    "outputId": "185f03b8-7e4e-4cb7-ec9f-907e52a08cc1"
   },
   "outputs": [
    {
     "data": {
      "text/plain": [
       "torch.Tensor"
      ]
     },
     "execution_count": 119,
     "metadata": {},
     "output_type": "execute_result"
    }
   ],
   "source": [
    "type(b)"
   ]
  },
  {
   "cell_type": "code",
   "execution_count": 120,
   "metadata": {
    "colab": {
     "base_uri": "https://localhost:8080/",
     "height": 35
    },
    "executionInfo": {
     "elapsed": 538,
     "status": "ok",
     "timestamp": 1603120200630,
     "user": {
      "displayName": "Deep Learning School",
      "photoUrl": "https://lh3.googleusercontent.com/a-/AOh14GhNf0RkP5WvkU5MixKfC1Sv3mb-9QWgAbC6VcfQvA=s64",
      "userId": "16549096980415837553"
     },
     "user_tz": -180
    },
    "id": "UsWB9vTuYKB0",
    "outputId": "ca11bef6-efae-49ac-e28b-5c67f09a62cc"
   },
   "outputs": [
    {
     "data": {
      "text/plain": [
       "torch.Tensor"
      ]
     },
     "execution_count": 120,
     "metadata": {},
     "output_type": "execute_result"
    }
   ],
   "source": [
    "type(a @ b)"
   ]
  },
  {
   "cell_type": "markdown",
   "metadata": {
    "id": "KSrnLwkGYKB1"
   },
   "source": [
    "* Matrix product:"
   ]
  },
  {
   "cell_type": "code",
   "execution_count": 121,
   "metadata": {
    "executionInfo": {
     "elapsed": 910,
     "status": "ok",
     "timestamp": 1603120202228,
     "user": {
      "displayName": "Deep Learning School",
      "photoUrl": "https://lh3.googleusercontent.com/a-/AOh14GhNf0RkP5WvkU5MixKfC1Sv3mb-9QWgAbC6VcfQvA=s64",
      "userId": "16549096980415837553"
     },
     "user_tz": -180
    },
    "id": "ViurnbjPYKB2"
   },
   "outputs": [],
   "source": [
    "a = torch.FloatTensor([[1, 2, 3], [10, 20, 30], [100, 200, 300]])\n",
    "b = torch.FloatTensor([[-1, -2, -3], [-10, -20, -30], [100, 200, 300]])"
   ]
  },
  {
   "cell_type": "code",
   "execution_count": 122,
   "metadata": {
    "colab": {
     "base_uri": "https://localhost:8080/",
     "height": 70
    },
    "executionInfo": {
     "elapsed": 583,
     "status": "ok",
     "timestamp": 1603120202235,
     "user": {
      "displayName": "Deep Learning School",
      "photoUrl": "https://lh3.googleusercontent.com/a-/AOh14GhNf0RkP5WvkU5MixKfC1Sv3mb-9QWgAbC6VcfQvA=s64",
      "userId": "16549096980415837553"
     },
     "user_tz": -180
    },
    "id": "5TrCnfWiYKB3",
    "outputId": "be1aa2c6-2e3f-4022-f66d-7bbc57a75dfb"
   },
   "outputs": [
    {
     "data": {
      "text/plain": [
       "tensor([[  279.,   558.,   837.],\n",
       "        [ 2790.,  5580.,  8370.],\n",
       "        [27900., 55800., 83700.]])"
      ]
     },
     "execution_count": 122,
     "metadata": {},
     "output_type": "execute_result"
    }
   ],
   "source": [
    "a.mm(b)"
   ]
  },
  {
   "cell_type": "code",
   "execution_count": 124,
   "metadata": {
    "colab": {
     "base_uri": "https://localhost:8080/",
     "height": 70
    },
    "executionInfo": {
     "elapsed": 678,
     "status": "ok",
     "timestamp": 1603120202991,
     "user": {
      "displayName": "Deep Learning School",
      "photoUrl": "https://lh3.googleusercontent.com/a-/AOh14GhNf0RkP5WvkU5MixKfC1Sv3mb-9QWgAbC6VcfQvA=s64",
      "userId": "16549096980415837553"
     },
     "user_tz": -180
    },
    "id": "HMzIz-_MYKB4",
    "outputId": "8c84cb72-11e6-4859-fcdb-e194b3831401"
   },
   "outputs": [
    {
     "data": {
      "text/plain": [
       "tensor([[  279.,   558.,   837.],\n",
       "        [ 2790.,  5580.,  8370.],\n",
       "        [27900., 55800., 83700.]])"
      ]
     },
     "execution_count": 124,
     "metadata": {},
     "output_type": "execute_result"
    }
   ],
   "source": [
    "a @ b"
   ]
  },
  {
   "cell_type": "markdown",
   "metadata": {
    "id": "Ig2pr52xYKB5"
   },
   "source": [
    "Remain unchanged:"
   ]
  },
  {
   "cell_type": "code",
   "execution_count": 125,
   "metadata": {
    "colab": {
     "base_uri": "https://localhost:8080/",
     "height": 70
    },
    "executionInfo": {
     "elapsed": 410,
     "status": "ok",
     "timestamp": 1603120203847,
     "user": {
      "displayName": "Deep Learning School",
      "photoUrl": "https://lh3.googleusercontent.com/a-/AOh14GhNf0RkP5WvkU5MixKfC1Sv3mb-9QWgAbC6VcfQvA=s64",
      "userId": "16549096980415837553"
     },
     "user_tz": -180
    },
    "id": "22QOePSyYKB6",
    "outputId": "164bbbe6-8fed-4f2b-c00b-a2c64bcca327"
   },
   "outputs": [
    {
     "data": {
      "text/plain": [
       "tensor([[  1.,   2.,   3.],\n",
       "        [ 10.,  20.,  30.],\n",
       "        [100., 200., 300.]])"
      ]
     },
     "execution_count": 125,
     "metadata": {},
     "output_type": "execute_result"
    }
   ],
   "source": [
    "a"
   ]
  },
  {
   "cell_type": "code",
   "execution_count": 126,
   "metadata": {
    "colab": {
     "base_uri": "https://localhost:8080/",
     "height": 70
    },
    "executionInfo": {
     "elapsed": 673,
     "status": "ok",
     "timestamp": 1603120205027,
     "user": {
      "displayName": "Deep Learning School",
      "photoUrl": "https://lh3.googleusercontent.com/a-/AOh14GhNf0RkP5WvkU5MixKfC1Sv3mb-9QWgAbC6VcfQvA=s64",
      "userId": "16549096980415837553"
     },
     "user_tz": -180
    },
    "id": "JHr6eKADYKB6",
    "outputId": "a3119825-fb92-46de-bc91-29a1fbc96258"
   },
   "outputs": [
    {
     "data": {
      "text/plain": [
       "tensor([[ -1.,  -2.,  -3.],\n",
       "        [-10., -20., -30.],\n",
       "        [100., 200., 300.]])"
      ]
     },
     "execution_count": 126,
     "metadata": {},
     "output_type": "execute_result"
    }
   ],
   "source": [
    "b"
   ]
  },
  {
   "cell_type": "code",
   "execution_count": 127,
   "metadata": {
    "executionInfo": {
     "elapsed": 675,
     "status": "ok",
     "timestamp": 1603120206390,
     "user": {
      "displayName": "Deep Learning School",
      "photoUrl": "https://lh3.googleusercontent.com/a-/AOh14GhNf0RkP5WvkU5MixKfC1Sv3mb-9QWgAbC6VcfQvA=s64",
      "userId": "16549096980415837553"
     },
     "user_tz": -180
    },
    "id": "vtuvt20-YKB8"
   },
   "outputs": [],
   "source": [
    "a = torch.FloatTensor([[1, 2, 3], [10, 20, 30], [100, 200, 300]])\n",
    "b = torch.FloatTensor([[-1], [-10], [100]])"
   ]
  },
  {
   "cell_type": "code",
   "execution_count": 128,
   "metadata": {
    "colab": {
     "base_uri": "https://localhost:8080/",
     "height": 35
    },
    "executionInfo": {
     "elapsed": 467,
     "status": "ok",
     "timestamp": 1603120207297,
     "user": {
      "displayName": "Deep Learning School",
      "photoUrl": "https://lh3.googleusercontent.com/a-/AOh14GhNf0RkP5WvkU5MixKfC1Sv3mb-9QWgAbC6VcfQvA=s64",
      "userId": "16549096980415837553"
     },
     "user_tz": -180
    },
    "id": "fdDnu5XjYKB9",
    "outputId": "ce4518b0-d3dc-4ef1-b613-f6986fbb57f2"
   },
   "outputs": [
    {
     "name": "stdout",
     "output_type": "stream",
     "text": [
      "torch.Size([3, 3]) torch.Size([3, 1])\n"
     ]
    }
   ],
   "source": [
    "print(a.shape, b.shape)"
   ]
  },
  {
   "cell_type": "code",
   "execution_count": 129,
   "metadata": {
    "colab": {
     "base_uri": "https://localhost:8080/",
     "height": 70
    },
    "executionInfo": {
     "elapsed": 432,
     "status": "ok",
     "timestamp": 1603120209149,
     "user": {
      "displayName": "Deep Learning School",
      "photoUrl": "https://lh3.googleusercontent.com/a-/AOh14GhNf0RkP5WvkU5MixKfC1Sv3mb-9QWgAbC6VcfQvA=s64",
      "userId": "16549096980415837553"
     },
     "user_tz": -180
    },
    "id": "oD4N4WN8YKB_",
    "outputId": "0dbe4dc1-95b7-44f3-e5ae-6aa544855bbe"
   },
   "outputs": [
    {
     "data": {
      "text/plain": [
       "tensor([[  279.],\n",
       "        [ 2790.],\n",
       "        [27900.]])"
      ]
     },
     "execution_count": 129,
     "metadata": {},
     "output_type": "execute_result"
    }
   ],
   "source": [
    "a @ b"
   ]
  },
  {
   "cell_type": "markdown",
   "metadata": {
    "id": "va9w-BavYKCB"
   },
   "source": [
    "If we unroll the tensor `b` in an array (`torch.view(-1)`) the multiplication would be like with the column:"
   ]
  },
  {
   "cell_type": "code",
   "execution_count": 130,
   "metadata": {
    "colab": {
     "base_uri": "https://localhost:8080/",
     "height": 70
    },
    "executionInfo": {
     "elapsed": 626,
     "status": "ok",
     "timestamp": 1603120210451,
     "user": {
      "displayName": "Deep Learning School",
      "photoUrl": "https://lh3.googleusercontent.com/a-/AOh14GhNf0RkP5WvkU5MixKfC1Sv3mb-9QWgAbC6VcfQvA=s64",
      "userId": "16549096980415837553"
     },
     "user_tz": -180
    },
    "id": "V7KsdYcBYKCC",
    "outputId": "898de262-0f56-42bd-d9ff-e29bae5c0ded"
   },
   "outputs": [
    {
     "data": {
      "text/plain": [
       "tensor([[ -1.],\n",
       "        [-10.],\n",
       "        [100.]])"
      ]
     },
     "execution_count": 130,
     "metadata": {},
     "output_type": "execute_result"
    }
   ],
   "source": [
    "b"
   ]
  },
  {
   "cell_type": "code",
   "execution_count": 135,
   "metadata": {
    "colab": {
     "base_uri": "https://localhost:8080/",
     "height": 35
    },
    "executionInfo": {
     "elapsed": 766,
     "status": "ok",
     "timestamp": 1603120212262,
     "user": {
      "displayName": "Deep Learning School",
      "photoUrl": "https://lh3.googleusercontent.com/a-/AOh14GhNf0RkP5WvkU5MixKfC1Sv3mb-9QWgAbC6VcfQvA=s64",
      "userId": "16549096980415837553"
     },
     "user_tz": -180
    },
    "id": "t7k6spayYKCF",
    "outputId": "c5df9f75-9ac4-4f02-9907-a0d32d3562f6"
   },
   "outputs": [
    {
     "data": {
      "text/plain": [
       "tensor([ -1., -10., 100.])"
      ]
     },
     "execution_count": 135,
     "metadata": {},
     "output_type": "execute_result"
    }
   ],
   "source": [
    "b.view(-1)"
   ]
  },
  {
   "cell_type": "code",
   "execution_count": 136,
   "metadata": {
    "colab": {
     "base_uri": "https://localhost:8080/",
     "height": 35
    },
    "executionInfo": {
     "elapsed": 449,
     "status": "ok",
     "timestamp": 1603120212263,
     "user": {
      "displayName": "Deep Learning School",
      "photoUrl": "https://lh3.googleusercontent.com/a-/AOh14GhNf0RkP5WvkU5MixKfC1Sv3mb-9QWgAbC6VcfQvA=s64",
      "userId": "16549096980415837553"
     },
     "user_tz": -180
    },
    "id": "8u8xQ20bYKCH",
    "outputId": "b7c03050-dd11-4eba-e7a5-b598908df80b"
   },
   "outputs": [
    {
     "data": {
      "text/plain": [
       "tensor([  279.,  2790., 27900.])"
      ]
     },
     "execution_count": 136,
     "metadata": {},
     "output_type": "execute_result"
    }
   ],
   "source": [
    "a @ b.view(-1)"
   ]
  },
  {
   "cell_type": "code",
   "execution_count": 137,
   "metadata": {
    "colab": {
     "base_uri": "https://localhost:8080/",
     "height": 35
    },
    "executionInfo": {
     "elapsed": 771,
     "status": "ok",
     "timestamp": 1603120213562,
     "user": {
      "displayName": "Deep Learning School",
      "photoUrl": "https://lh3.googleusercontent.com/a-/AOh14GhNf0RkP5WvkU5MixKfC1Sv3mb-9QWgAbC6VcfQvA=s64",
      "userId": "16549096980415837553"
     },
     "user_tz": -180
    },
    "id": "QvCu1sJEYKCJ",
    "outputId": "fdcafa9e-a7db-49ca-fcc2-126498ced2ac"
   },
   "outputs": [
    {
     "data": {
      "text/plain": [
       "tensor([  279.,  2790., 27900.])"
      ]
     },
     "execution_count": 137,
     "metadata": {},
     "output_type": "execute_result"
    }
   ],
   "source": [
    "a.mv(b.view(-1))"
   ]
  },
  {
   "cell_type": "code",
   "execution_count": 138,
   "metadata": {
    "colab": {
     "base_uri": "https://localhost:8080/",
     "height": 35
    },
    "executionInfo": {
     "elapsed": 890,
     "status": "ok",
     "timestamp": 1603120280243,
     "user": {
      "displayName": "Deep Learning School",
      "photoUrl": "https://lh3.googleusercontent.com/a-/AOh14GhNf0RkP5WvkU5MixKfC1Sv3mb-9QWgAbC6VcfQvA=s64",
      "userId": "16549096980415837553"
     },
     "user_tz": -180
    },
    "id": "MAuGNC7EL3lq",
    "outputId": "02e2c3b9-49c7-42e3-f8f1-502a4dbf3e06"
   },
   "outputs": [
    {
     "data": {
      "text/plain": [
       "torch.Size([2, 3, 4, 6])"
      ]
     },
     "execution_count": 138,
     "metadata": {},
     "output_type": "execute_result"
    }
   ],
   "source": [
    "y = torch.Tensor(2, 3, 4, 5)\n",
    "z = torch.Tensor(2, 3, 5, 6)\n",
    "(y @ z).shape"
   ]
  },
  {
   "cell_type": "markdown",
   "metadata": {
    "id": "gZitrCN6YKCL"
   },
   "source": [
    "**From NumPu to PyTorch conversion**:"
   ]
  },
  {
   "cell_type": "code",
   "execution_count": 139,
   "metadata": {
    "colab": {
     "base_uri": "https://localhost:8080/",
     "height": 70
    },
    "executionInfo": {
     "elapsed": 784,
     "status": "ok",
     "timestamp": 1603120282154,
     "user": {
      "displayName": "Deep Learning School",
      "photoUrl": "https://lh3.googleusercontent.com/a-/AOh14GhNf0RkP5WvkU5MixKfC1Sv3mb-9QWgAbC6VcfQvA=s64",
      "userId": "16549096980415837553"
     },
     "user_tz": -180
    },
    "id": "bnLS4CGXYKCL",
    "outputId": "e6f1f756-fd74-472c-d6f4-afac1af4fbc2"
   },
   "outputs": [
    {
     "data": {
      "text/plain": [
       "array([[0.14092979, 0.17086383, 0.2021909 ],\n",
       "       [0.43384698, 0.22488404, 0.61580428],\n",
       "       [0.25314891, 0.33386502, 0.71328381]])"
      ]
     },
     "execution_count": 139,
     "metadata": {},
     "output_type": "execute_result"
    }
   ],
   "source": [
    "import numpy as np\n",
    "\n",
    "a = np.random.rand(3, 3)\n",
    "a"
   ]
  },
  {
   "cell_type": "code",
   "execution_count": 140,
   "metadata": {
    "colab": {
     "base_uri": "https://localhost:8080/",
     "height": 70
    },
    "executionInfo": {
     "elapsed": 697,
     "status": "ok",
     "timestamp": 1603120341354,
     "user": {
      "displayName": "Deep Learning School",
      "photoUrl": "https://lh3.googleusercontent.com/a-/AOh14GhNf0RkP5WvkU5MixKfC1Sv3mb-9QWgAbC6VcfQvA=s64",
      "userId": "16549096980415837553"
     },
     "user_tz": -180
    },
    "id": "PXge57waYKCM",
    "outputId": "adfb77d9-a703-45eb-c1d8-d3b58a953e2a"
   },
   "outputs": [
    {
     "data": {
      "text/plain": [
       "tensor([[0.1409, 0.1709, 0.2022],\n",
       "        [0.4338, 0.2249, 0.6158],\n",
       "        [0.2531, 0.3339, 0.7133]], dtype=torch.float64)"
      ]
     },
     "execution_count": 140,
     "metadata": {},
     "output_type": "execute_result"
    }
   ],
   "source": [
    "b = torch.from_numpy(a)\n",
    "b"
   ]
  },
  {
   "cell_type": "markdown",
   "metadata": {
    "id": "Nvcr3ymPYKCN"
   },
   "source": [
    "**NOTE!** `a` and `b` have the same data storage, so the changes in one tensor will lead to the changes in another:"
   ]
  },
  {
   "cell_type": "code",
   "execution_count": 141,
   "metadata": {
    "colab": {
     "base_uri": "https://localhost:8080/",
     "height": 70
    },
    "executionInfo": {
     "elapsed": 814,
     "status": "ok",
     "timestamp": 1603120343770,
     "user": {
      "displayName": "Deep Learning School",
      "photoUrl": "https://lh3.googleusercontent.com/a-/AOh14GhNf0RkP5WvkU5MixKfC1Sv3mb-9QWgAbC6VcfQvA=s64",
      "userId": "16549096980415837553"
     },
     "user_tz": -180
    },
    "id": "0N_ZW6TQYKCN",
    "outputId": "eee1f867-5c23-4b51-cbf2-803f4a292e90"
   },
   "outputs": [
    {
     "data": {
      "text/plain": [
       "tensor([[0., 0., 0.],\n",
       "        [0., 0., 0.],\n",
       "        [0., 0., 0.]], dtype=torch.float64)"
      ]
     },
     "execution_count": 141,
     "metadata": {},
     "output_type": "execute_result"
    }
   ],
   "source": [
    "b -= b\n",
    "b"
   ]
  },
  {
   "cell_type": "code",
   "execution_count": 143,
   "metadata": {
    "colab": {
     "base_uri": "https://localhost:8080/",
     "height": 70
    },
    "executionInfo": {
     "elapsed": 918,
     "status": "ok",
     "timestamp": 1603120358006,
     "user": {
      "displayName": "Deep Learning School",
      "photoUrl": "https://lh3.googleusercontent.com/a-/AOh14GhNf0RkP5WvkU5MixKfC1Sv3mb-9QWgAbC6VcfQvA=s64",
      "userId": "16549096980415837553"
     },
     "user_tz": -180
    },
    "id": "wzUnCKsiYKCP",
    "outputId": "39a806cb-ddd3-432b-e699-c4297ed487e8"
   },
   "outputs": [
    {
     "data": {
      "text/plain": [
       "array([[0., 0., 0.],\n",
       "       [0., 0., 0.],\n",
       "       [0., 0., 0.]])"
      ]
     },
     "execution_count": 143,
     "metadata": {},
     "output_type": "execute_result"
    }
   ],
   "source": [
    "a"
   ]
  },
  {
   "cell_type": "markdown",
   "metadata": {
    "id": "Al73RqKSYKCR"
   },
   "source": [
    "**From PyTorch to NumPy conversion:**"
   ]
  },
  {
   "cell_type": "code",
   "execution_count": 146,
   "metadata": {
    "colab": {
     "base_uri": "https://localhost:8080/",
     "height": 141
    },
    "executionInfo": {
     "elapsed": 682,
     "status": "ok",
     "timestamp": 1603120368071,
     "user": {
      "displayName": "Deep Learning School",
      "photoUrl": "https://lh3.googleusercontent.com/a-/AOh14GhNf0RkP5WvkU5MixKfC1Sv3mb-9QWgAbC6VcfQvA=s64",
      "userId": "16549096980415837553"
     },
     "user_tz": -180
    },
    "id": "u5rngw4vYKCR",
    "outputId": "2bbf8854-54eb-49e5-8120-983d06ead05c"
   },
   "outputs": [
    {
     "data": {
      "text/plain": [
       "tensor([[[1.7283e-04, 4.0744e-11, 6.7133e-07, 2.9574e-18],\n",
       "         [6.7333e+22, 1.7591e+22, 1.7184e+25, 4.3222e+27],\n",
       "         [6.1972e-04, 7.2443e+22, 1.7728e+28, 7.0367e+22]],\n",
       "\n",
       "        [[9.4429e-09, 2.6541e-09, 1.0243e-11, 1.0524e+21],\n",
       "         [2.0802e+23, 3.3703e-06, 2.5232e-09, 5.4644e-05],\n",
       "         [2.1457e-07, 3.0658e-18, 7.7052e+31, 1.9447e+31]]])"
      ]
     },
     "execution_count": 146,
     "metadata": {},
     "output_type": "execute_result"
    }
   ],
   "source": [
    "a = torch.FloatTensor(2, 3, 4)\n",
    "a"
   ]
  },
  {
   "cell_type": "code",
   "execution_count": 147,
   "metadata": {
    "colab": {
     "base_uri": "https://localhost:8080/",
     "height": 35
    },
    "executionInfo": {
     "elapsed": 746,
     "status": "ok",
     "timestamp": 1603120369910,
     "user": {
      "displayName": "Deep Learning School",
      "photoUrl": "https://lh3.googleusercontent.com/a-/AOh14GhNf0RkP5WvkU5MixKfC1Sv3mb-9QWgAbC6VcfQvA=s64",
      "userId": "16549096980415837553"
     },
     "user_tz": -180
    },
    "id": "yjK68Kk-YKCS",
    "outputId": "ff9d915e-96ba-496d-d41a-9ca4fdade689"
   },
   "outputs": [
    {
     "data": {
      "text/plain": [
       "torch.Tensor"
      ]
     },
     "execution_count": 147,
     "metadata": {},
     "output_type": "execute_result"
    }
   ],
   "source": [
    "type(a)"
   ]
  },
  {
   "cell_type": "code",
   "execution_count": 148,
   "metadata": {
    "colab": {
     "base_uri": "https://localhost:8080/",
     "height": 159
    },
    "executionInfo": {
     "elapsed": 693,
     "status": "ok",
     "timestamp": 1603120374931,
     "user": {
      "displayName": "Deep Learning School",
      "photoUrl": "https://lh3.googleusercontent.com/a-/AOh14GhNf0RkP5WvkU5MixKfC1Sv3mb-9QWgAbC6VcfQvA=s64",
      "userId": "16549096980415837553"
     },
     "user_tz": -180
    },
    "id": "viLUF7gQYKCU",
    "outputId": "0b58a100-1f5a-40f7-9fbe-70cc7c88c2b1"
   },
   "outputs": [
    {
     "data": {
      "text/plain": [
       "array([[[1.72831875e-04, 4.07436099e-11, 6.71326688e-07, 2.95737397e-18],\n",
       "        [6.73331199e+22, 1.75905377e+22, 1.71842178e+25, 4.32216629e+27],\n",
       "        [6.19715371e-04, 7.24431922e+22, 1.77283446e+28, 7.03667221e+22]],\n",
       "\n",
       "       [[9.44285894e-09, 2.65414446e-09, 1.02427806e-11, 1.05240834e+21],\n",
       "        [2.08024744e+23, 3.37030383e-06, 2.52317656e-09, 5.46438423e-05],\n",
       "        [2.14565105e-07, 3.06580308e-18, 7.70520767e+31, 1.94469173e+31]]],\n",
       "      dtype=float32)"
      ]
     },
     "execution_count": 148,
     "metadata": {},
     "output_type": "execute_result"
    }
   ],
   "source": [
    "x = a.numpy()\n",
    "x"
   ]
  },
  {
   "cell_type": "code",
   "execution_count": 149,
   "metadata": {
    "colab": {
     "base_uri": "https://localhost:8080/",
     "height": 35
    },
    "executionInfo": {
     "elapsed": 730,
     "status": "ok",
     "timestamp": 1603120378593,
     "user": {
      "displayName": "Deep Learning School",
      "photoUrl": "https://lh3.googleusercontent.com/a-/AOh14GhNf0RkP5WvkU5MixKfC1Sv3mb-9QWgAbC6VcfQvA=s64",
      "userId": "16549096980415837553"
     },
     "user_tz": -180
    },
    "id": "9HxgiLxKYKCV",
    "outputId": "2135c1b2-011b-469e-8afb-7dbbd28d63df"
   },
   "outputs": [
    {
     "data": {
      "text/plain": [
       "(2, 3, 4)"
      ]
     },
     "execution_count": 149,
     "metadata": {},
     "output_type": "execute_result"
    }
   ],
   "source": [
    "x.shape"
   ]
  },
  {
   "cell_type": "code",
   "execution_count": 150,
   "metadata": {
    "colab": {
     "base_uri": "https://localhost:8080/",
     "height": 35
    },
    "executionInfo": {
     "elapsed": 773,
     "status": "ok",
     "timestamp": 1603120381593,
     "user": {
      "displayName": "Deep Learning School",
      "photoUrl": "https://lh3.googleusercontent.com/a-/AOh14GhNf0RkP5WvkU5MixKfC1Sv3mb-9QWgAbC6VcfQvA=s64",
      "userId": "16549096980415837553"
     },
     "user_tz": -180
    },
    "id": "SdW5bhmeYKCX",
    "outputId": "900a4787-af5b-4ade-e0ee-15017055acdb"
   },
   "outputs": [
    {
     "data": {
      "text/plain": [
       "numpy.ndarray"
      ]
     },
     "execution_count": 150,
     "metadata": {},
     "output_type": "execute_result"
    }
   ],
   "source": [
    "type(x)"
   ]
  },
  {
   "cell_type": "code",
   "execution_count": 151,
   "metadata": {
    "executionInfo": {
     "elapsed": 694,
     "status": "ok",
     "timestamp": 1603120383627,
     "user": {
      "displayName": "Deep Learning School",
      "photoUrl": "https://lh3.googleusercontent.com/a-/AOh14GhNf0RkP5WvkU5MixKfC1Sv3mb-9QWgAbC6VcfQvA=s64",
      "userId": "16549096980415837553"
     },
     "user_tz": -180
    },
    "id": "GbCc-vnWDj1l"
   },
   "outputs": [],
   "source": [
    "x -= x"
   ]
  },
  {
   "cell_type": "code",
   "execution_count": 152,
   "metadata": {
    "colab": {
     "base_uri": "https://localhost:8080/",
     "height": 141
    },
    "executionInfo": {
     "elapsed": 1049,
     "status": "ok",
     "timestamp": 1603120385502,
     "user": {
      "displayName": "Deep Learning School",
      "photoUrl": "https://lh3.googleusercontent.com/a-/AOh14GhNf0RkP5WvkU5MixKfC1Sv3mb-9QWgAbC6VcfQvA=s64",
      "userId": "16549096980415837553"
     },
     "user_tz": -180
    },
    "id": "Ui-4DptBDlet",
    "outputId": "77102bbe-df1d-429d-ea18-5dc426d524ae"
   },
   "outputs": [
    {
     "data": {
      "text/plain": [
       "tensor([[[0., 0., 0., 0.],\n",
       "         [0., 0., 0., 0.],\n",
       "         [0., 0., 0., 0.]],\n",
       "\n",
       "        [[0., 0., 0., 0.],\n",
       "         [0., 0., 0., 0.],\n",
       "         [0., 0., 0., 0.]]])"
      ]
     },
     "execution_count": 152,
     "metadata": {},
     "output_type": "execute_result"
    }
   ],
   "source": [
    "a"
   ]
  },
  {
   "cell_type": "markdown",
   "metadata": {
    "id": "7-KS81rUYKCY"
   },
   "source": [
    "Let's write the `forward_pass(X, w)` ($w_0$ is a part of the $w$) for a single neuron (activation = sigmoid) using PyTorch:"
   ]
  },
  {
   "cell_type": "code",
   "execution_count": 153,
   "metadata": {
    "executionInfo": {
     "elapsed": 750,
     "status": "ok",
     "timestamp": 1603120435417,
     "user": {
      "displayName": "Deep Learning School",
      "photoUrl": "https://lh3.googleusercontent.com/a-/AOh14GhNf0RkP5WvkU5MixKfC1Sv3mb-9QWgAbC6VcfQvA=s64",
      "userId": "16549096980415837553"
     },
     "user_tz": -180
    },
    "id": "vkaIwpn6YKCY"
   },
   "outputs": [],
   "source": [
    "def forward_pass(X, w):\n",
    "    return torch.sigmoid(X @ w)"
   ]
  },
  {
   "cell_type": "code",
   "execution_count": 155,
   "metadata": {
    "colab": {
     "base_uri": "https://localhost:8080/",
     "height": 70
    },
    "executionInfo": {
     "elapsed": 910,
     "status": "ok",
     "timestamp": 1603120453394,
     "user": {
      "displayName": "Deep Learning School",
      "photoUrl": "https://lh3.googleusercontent.com/a-/AOh14GhNf0RkP5WvkU5MixKfC1Sv3mb-9QWgAbC6VcfQvA=s64",
      "userId": "16549096980415837553"
     },
     "user_tz": -180
    },
    "id": "VyqlDItxYKCZ",
    "outputId": "ca1d3738-7738-431d-be39-026c1eec12f1"
   },
   "outputs": [
    {
     "name": "stdout",
     "output_type": "stream",
     "text": [
      "result: tensor([[1.0000],\n",
      "        [0.9985],\n",
      "        [0.0474]])\n"
     ]
    }
   ],
   "source": [
    "X = torch.FloatTensor([[-5, 5], [2, 3], [1, -1]])\n",
    "w = torch.FloatTensor([[-0.5], [2.5]])\n",
    "result = forward_pass(X, w)\n",
    "print('result: {}'.format(result))"
   ]
  },
  {
   "cell_type": "markdown",
   "metadata": {
    "id": "MzLVLQ2GYKCa"
   },
   "source": [
    "## <h1 style=\"text-align: center;\"><a href=\"https://ru.wikipedia.org/wiki/CUDA\">CUDA</a></h3>"
   ]
  },
  {
   "cell_type": "markdown",
   "metadata": {
    "id": "PrIicAAiYKCa"
   },
   "source": [
    "[CUDA documentation](https://docs.nvidia.com/cuda/)"
   ]
  },
  {
   "cell_type": "markdown",
   "metadata": {
    "id": "2nDkAG6NYKCa"
   },
   "source": [
    "We can use both CPU (Central Processing Unit) and GPU (Graphical Processing Unit) to make the computations with PyTorch. We can switch between them easily, this is one of the most important things in PyTorch framework."
   ]
  },
  {
   "cell_type": "code",
   "execution_count": 158,
   "metadata": {
    "colab": {
     "base_uri": "https://localhost:8080/",
     "height": 141
    },
    "executionInfo": {
     "elapsed": 714,
     "status": "ok",
     "timestamp": 1603120550376,
     "user": {
      "displayName": "Deep Learning School",
      "photoUrl": "https://lh3.googleusercontent.com/a-/AOh14GhNf0RkP5WvkU5MixKfC1Sv3mb-9QWgAbC6VcfQvA=s64",
      "userId": "16549096980415837553"
     },
     "user_tz": -180
    },
    "id": "_0Nsl2IoYKCa",
    "outputId": "071507ef-2a3d-4182-9cbb-0c4c079f7f58"
   },
   "outputs": [
    {
     "data": {
      "text/plain": [
       "tensor([[0.5940, 0.2825, 0.0788,  ..., 0.0343, 0.7076, 0.1345],\n",
       "        [0.6440, 0.7030, 0.7586,  ..., 0.2196, 0.7635, 0.7487],\n",
       "        [0.0408, 0.4506, 0.6851,  ..., 0.3732, 0.3889, 0.8029],\n",
       "        ...,\n",
       "        [0.8947, 0.7103, 0.5141,  ..., 0.8521, 0.0812, 0.4384],\n",
       "        [0.4591, 0.6538, 0.4077,  ..., 0.7637, 0.8367, 0.3362],\n",
       "        [0.8180, 0.3940, 0.3661,  ..., 0.6362, 0.4671, 0.8346]])"
      ]
     },
     "execution_count": 158,
     "metadata": {},
     "output_type": "execute_result"
    }
   ],
   "source": [
    "x = torch.FloatTensor(1024, 10024).uniform_()\n",
    "x"
   ]
  },
  {
   "cell_type": "code",
   "execution_count": 159,
   "metadata": {
    "colab": {
     "base_uri": "https://localhost:8080/",
     "height": 35
    },
    "executionInfo": {
     "elapsed": 695,
     "status": "ok",
     "timestamp": 1603120554574,
     "user": {
      "displayName": "Deep Learning School",
      "photoUrl": "https://lh3.googleusercontent.com/a-/AOh14GhNf0RkP5WvkU5MixKfC1Sv3mb-9QWgAbC6VcfQvA=s64",
      "userId": "16549096980415837553"
     },
     "user_tz": -180
    },
    "id": "FVr5_SAdYKCb",
    "outputId": "ed4252f4-3835-4df2-ad26-c0da60d5ce8b"
   },
   "outputs": [
    {
     "data": {
      "text/plain": [
       "False"
      ]
     },
     "execution_count": 159,
     "metadata": {},
     "output_type": "execute_result"
    }
   ],
   "source": [
    "x.is_cuda"
   ]
  },
  {
   "cell_type": "markdown",
   "metadata": {
    "id": "mAy8GGXAYKCd"
   },
   "source": [
    "Place a tensor on GPU (GPU memory is used):"
   ]
  },
  {
   "cell_type": "code",
   "execution_count": 167,
   "metadata": {
    "colab": {
     "base_uri": "https://localhost:8080/",
     "height": 372
    },
    "executionInfo": {
     "elapsed": 653,
     "status": "ok",
     "timestamp": 1603120572348,
     "user": {
      "displayName": "Deep Learning School",
      "photoUrl": "https://lh3.googleusercontent.com/a-/AOh14GhNf0RkP5WvkU5MixKfC1Sv3mb-9QWgAbC6VcfQvA=s64",
      "userId": "16549096980415837553"
     },
     "user_tz": -180
    },
    "id": "Pofrx0jug6QM",
    "outputId": "d063e8ee-8953-4f29-c7db-9a939010ef63"
   },
   "outputs": [
    {
     "name": "stdout",
     "output_type": "stream",
     "text": [
      "Sun Nov 01 18:07:56 2020       \n",
      "+-----------------------------------------------------------------------------+\n",
      "| NVIDIA-SMI 456.71       Driver Version: 456.71       CUDA Version: 11.1     |\n",
      "|-------------------------------+----------------------+----------------------+\n",
      "| GPU  Name            TCC/WDDM | Bus-Id        Disp.A | Volatile Uncorr. ECC |\n",
      "| Fan  Temp  Perf  Pwr:Usage/Cap|         Memory-Usage | GPU-Util  Compute M. |\n",
      "|===============================+======================+======================|\n",
      "|   0  GeForce GTX 1050   WDDM  | 00000000:01:00.0 Off |                  N/A |\n",
      "| N/A   45C    P8    N/A /  N/A |    470MiB /  4096MiB |      0%      Default |\n",
      "+-------------------------------+----------------------+----------------------+\n",
      "                                                                               \n",
      "+-----------------------------------------------------------------------------+\n",
      "| Processes:                                                                  |\n",
      "|  GPU   GI   CI        PID   Type   Process name                  GPU Memory |\n",
      "|        ID   ID                                                   Usage      |\n",
      "|=============================================================================|\n",
      "|    0   N/A  N/A       984      C   ...s\\experimental\\python.exe    N/A      |\n",
      "|    0   N/A  N/A      8664    C+G   ...cw5n1h2txyewy\\LockApp.exe    N/A      |\n",
      "|    0   N/A  N/A     10904    C+G   ...nputApp\\TextInputHost.exe    N/A      |\n",
      "|    0   N/A  N/A     12136    C+G   ...ekyb3d8bbwe\\YourPhone.exe    N/A      |\n",
      "|    0   N/A  N/A     12772    C+G   ...5n1h2txyewy\\SearchApp.exe    N/A      |\n",
      "+-----------------------------------------------------------------------------+\n"
     ]
    }
   ],
   "source": [
    "!C:\\Program Files\\NVIDIA Corporation\\NVSMI\\nvidia-smi.exe"
   ]
  },
  {
   "cell_type": "code",
   "execution_count": 168,
   "metadata": {
    "executionInfo": {
     "elapsed": 3839,
     "status": "ok",
     "timestamp": 1603120600254,
     "user": {
      "displayName": "Deep Learning School",
      "photoUrl": "https://lh3.googleusercontent.com/a-/AOh14GhNf0RkP5WvkU5MixKfC1Sv3mb-9QWgAbC6VcfQvA=s64",
      "userId": "16549096980415837553"
     },
     "user_tz": -180
    },
    "id": "6UGKZbfyYKCd"
   },
   "outputs": [],
   "source": [
    "x = x.cuda()"
   ]
  },
  {
   "cell_type": "code",
   "execution_count": 170,
   "metadata": {
    "colab": {
     "base_uri": "https://localhost:8080/",
     "height": 372
    },
    "executionInfo": {
     "elapsed": 1197,
     "status": "ok",
     "timestamp": 1603120606002,
     "user": {
      "displayName": "Deep Learning School",
      "photoUrl": "https://lh3.googleusercontent.com/a-/AOh14GhNf0RkP5WvkU5MixKfC1Sv3mb-9QWgAbC6VcfQvA=s64",
      "userId": "16549096980415837553"
     },
     "user_tz": -180
    },
    "id": "RwvXhDD2gezR",
    "outputId": "27adb49e-22f9-4942-fd45-eca4a2871f25"
   },
   "outputs": [
    {
     "name": "stdout",
     "output_type": "stream",
     "text": [
      "Sun Nov 01 18:08:20 2020       \n",
      "+-----------------------------------------------------------------------------+\n",
      "| NVIDIA-SMI 456.71       Driver Version: 456.71       CUDA Version: 11.1     |\n",
      "|-------------------------------+----------------------+----------------------+\n",
      "| GPU  Name            TCC/WDDM | Bus-Id        Disp.A | Volatile Uncorr. ECC |\n",
      "| Fan  Temp  Perf  Pwr:Usage/Cap|         Memory-Usage | GPU-Util  Compute M. |\n",
      "|===============================+======================+======================|\n",
      "|   0  GeForce GTX 1050   WDDM  | 00000000:01:00.0 Off |                  N/A |\n",
      "| N/A   49C    P0    N/A /  N/A |    470MiB /  4096MiB |      0%      Default |\n",
      "+-------------------------------+----------------------+----------------------+\n",
      "                                                                               \n",
      "+-----------------------------------------------------------------------------+\n",
      "| Processes:                                                                  |\n",
      "|  GPU   GI   CI        PID   Type   Process name                  GPU Memory |\n",
      "|        ID   ID                                                   Usage      |\n",
      "|=============================================================================|\n",
      "|    0   N/A  N/A       984      C   ...s\\experimental\\python.exe    N/A      |\n",
      "|    0   N/A  N/A      8664    C+G   ...cw5n1h2txyewy\\LockApp.exe    N/A      |\n",
      "|    0   N/A  N/A     10904    C+G   ...nputApp\\TextInputHost.exe    N/A      |\n",
      "|    0   N/A  N/A     12136    C+G   ...ekyb3d8bbwe\\YourPhone.exe    N/A      |\n",
      "|    0   N/A  N/A     12772    C+G   ...5n1h2txyewy\\SearchApp.exe    N/A      |\n",
      "+-----------------------------------------------------------------------------+\n"
     ]
    }
   ],
   "source": [
    "!C:\\Program Files\\NVIDIA Corporation\\NVSMI\\nvidia-smi.exe"
   ]
  },
  {
   "cell_type": "code",
   "execution_count": 171,
   "metadata": {
    "colab": {
     "base_uri": "https://localhost:8080/",
     "height": 159
    },
    "executionInfo": {
     "elapsed": 420,
     "status": "ok",
     "timestamp": 1603120638952,
     "user": {
      "displayName": "Deep Learning School",
      "photoUrl": "https://lh3.googleusercontent.com/a-/AOh14GhNf0RkP5WvkU5MixKfC1Sv3mb-9QWgAbC6VcfQvA=s64",
      "userId": "16549096980415837553"
     },
     "user_tz": -180
    },
    "id": "hyhJsU5ib591",
    "outputId": "109c2134-a0a4-494d-b1ae-1dbb14a49359"
   },
   "outputs": [
    {
     "data": {
      "text/plain": [
       "tensor([[0.5940, 0.2825, 0.0788,  ..., 0.0343, 0.7076, 0.1345],\n",
       "        [0.6440, 0.7030, 0.7586,  ..., 0.2196, 0.7635, 0.7487],\n",
       "        [0.0408, 0.4506, 0.6851,  ..., 0.3732, 0.3889, 0.8029],\n",
       "        ...,\n",
       "        [0.8947, 0.7103, 0.5141,  ..., 0.8521, 0.0812, 0.4384],\n",
       "        [0.4591, 0.6538, 0.4077,  ..., 0.7637, 0.8367, 0.3362],\n",
       "        [0.8180, 0.3940, 0.3661,  ..., 0.6362, 0.4671, 0.8346]],\n",
       "       device='cuda:0')"
      ]
     },
     "execution_count": 171,
     "metadata": {},
     "output_type": "execute_result"
    }
   ],
   "source": [
    "x"
   ]
  },
  {
   "cell_type": "code",
   "execution_count": 176,
   "metadata": {
    "colab": {
     "base_uri": "https://localhost:8080/",
     "height": 728
    },
    "executionInfo": {
     "elapsed": 825,
     "status": "ok",
     "timestamp": 1603120655286,
     "user": {
      "displayName": "Deep Learning School",
      "photoUrl": "https://lh3.googleusercontent.com/a-/AOh14GhNf0RkP5WvkU5MixKfC1Sv3mb-9QWgAbC6VcfQvA=s64",
      "userId": "16549096980415837553"
     },
     "user_tz": -180
    },
    "id": "ue2SLd9nYKCd",
    "outputId": "361f5388-348d-4430-f15c-7df4916f76bf"
   },
   "outputs": [
    {
     "name": "stdout",
     "output_type": "stream",
     "text": [
      "Sun Nov 01 18:09:52 2020       \n",
      "+-----------------------------------------------------------------------------+\n",
      "| NVIDIA-SMI 456.71       Driver Version: 456.71       CUDA Version: 11.1     |\n",
      "|-------------------------------+----------------------+----------------------+\n",
      "| GPU  Name            TCC/WDDM | Bus-Id        Disp.A | Volatile Uncorr. ECC |\n",
      "| Fan  Temp  Perf  Pwr:Usage/Cap|         Memory-Usage | GPU-Util  Compute M. |\n",
      "|===============================+======================+======================|\n",
      "|   0  GeForce GTX 1050   WDDM  | 00000000:01:00.0 Off |                  N/A |\n",
      "| N/A   47C    P8    N/A /  N/A |    468MiB /  4096MiB |      0%      Default |\n",
      "+-------------------------------+----------------------+----------------------+\n",
      "                                                                               \n",
      "+-----------------------------------------------------------------------------+\n",
      "| Processes:                                                                  |\n",
      "|  GPU   GI   CI        PID   Type   Process name                  GPU Memory |\n",
      "|        ID   ID                                                   Usage      |\n",
      "|=============================================================================|\n",
      "|    0   N/A  N/A       984      C   ...s\\experimental\\python.exe    N/A      |\n",
      "|    0   N/A  N/A      8664    C+G   ...cw5n1h2txyewy\\LockApp.exe    N/A      |\n",
      "|    0   N/A  N/A     10904    C+G   ...nputApp\\TextInputHost.exe    N/A      |\n",
      "|    0   N/A  N/A     12136    C+G   ...ekyb3d8bbwe\\YourPhone.exe    N/A      |\n",
      "|    0   N/A  N/A     12772    C+G   ...5n1h2txyewy\\SearchApp.exe    N/A      |\n",
      "+-----------------------------------------------------------------------------+\n"
     ]
    }
   ],
   "source": [
    "# x = x.cpu()\n",
    "# !C:\\Program Files\\NVIDIA Corporation\\NVSMI\\nvidia-smi.exe\n",
    "    \n",
    "torch.cuda.empty_cache()\n",
    "!C:\\Program Files\\NVIDIA Corporation\\NVSMI\\nvidia-smi.exe"
   ]
  },
  {
   "cell_type": "code",
   "execution_count": 177,
   "metadata": {
    "colab": {
     "base_uri": "https://localhost:8080/",
     "height": 159
    },
    "executionInfo": {
     "elapsed": 863,
     "status": "ok",
     "timestamp": 1603120765176,
     "user": {
      "displayName": "Deep Learning School",
      "photoUrl": "https://lh3.googleusercontent.com/a-/AOh14GhNf0RkP5WvkU5MixKfC1Sv3mb-9QWgAbC6VcfQvA=s64",
      "userId": "16549096980415837553"
     },
     "user_tz": -180
    },
    "id": "qVVp6BnbD7fy",
    "outputId": "950cf272-bf2c-4657-f7e7-67b6cb9d5ab7"
   },
   "outputs": [
    {
     "data": {
      "text/plain": [
       "tensor([[0.5940, 0.2825, 0.0788,  ..., 0.0343, 0.7076, 0.1345],\n",
       "        [0.6440, 0.7030, 0.7586,  ..., 0.2196, 0.7635, 0.7487],\n",
       "        [0.0408, 0.4506, 0.6851,  ..., 0.3732, 0.3889, 0.8029],\n",
       "        ...,\n",
       "        [0.8947, 0.7103, 0.5141,  ..., 0.8521, 0.0812, 0.4384],\n",
       "        [0.4591, 0.6538, 0.4077,  ..., 0.7637, 0.8367, 0.3362],\n",
       "        [0.8180, 0.3940, 0.3661,  ..., 0.6362, 0.4671, 0.8346]],\n",
       "       device='cuda:0')"
      ]
     },
     "execution_count": 177,
     "metadata": {},
     "output_type": "execute_result"
    }
   ],
   "source": [
    "device = torch.device(\"cuda:0\")\n",
    "x = x.to(device)\n",
    "x"
   ]
  },
  {
   "cell_type": "markdown",
   "metadata": {
    "id": "dI73B59PYKCg"
   },
   "source": [
    "Let's multiply two tensors on GPU and then move the result on the CPU:"
   ]
  },
  {
   "cell_type": "code",
   "execution_count": 178,
   "metadata": {
    "executionInfo": {
     "elapsed": 2663,
     "status": "ok",
     "timestamp": 1603120768598,
     "user": {
      "displayName": "Deep Learning School",
      "photoUrl": "https://lh3.googleusercontent.com/a-/AOh14GhNf0RkP5WvkU5MixKfC1Sv3mb-9QWgAbC6VcfQvA=s64",
      "userId": "16549096980415837553"
     },
     "user_tz": -180
    },
    "id": "KS4QxJJoYKCg"
   },
   "outputs": [],
   "source": [
    "a = torch.FloatTensor(10000, 10000).uniform_()\n",
    "b = torch.FloatTensor(10000, 10000).uniform_()\n",
    "c = a.cuda().mul(b.cuda()).cpu()"
   ]
  },
  {
   "cell_type": "code",
   "execution_count": 179,
   "metadata": {
    "colab": {
     "base_uri": "https://localhost:8080/",
     "height": 248
    },
    "executionInfo": {
     "elapsed": 603,
     "status": "ok",
     "timestamp": 1603120777931,
     "user": {
      "displayName": "Deep Learning School",
      "photoUrl": "https://lh3.googleusercontent.com/a-/AOh14GhNf0RkP5WvkU5MixKfC1Sv3mb-9QWgAbC6VcfQvA=s64",
      "userId": "16549096980415837553"
     },
     "user_tz": -180
    },
    "id": "1ImlgEbwYKCg",
    "outputId": "f4268d08-c283-4267-f884-140546928b8a"
   },
   "outputs": [
    {
     "data": {
      "text/plain": [
       "tensor([[0.3337, 0.0439, 0.5224,  ..., 0.5168, 0.3197, 0.1051],\n",
       "        [0.3335, 0.2744, 0.1029,  ..., 0.7915, 0.1503, 0.3708],\n",
       "        [0.1219, 0.0631, 0.1286,  ..., 0.9676, 0.0290, 0.0912],\n",
       "        ...,\n",
       "        [0.2922, 0.0344, 0.4573,  ..., 0.5211, 0.2630, 0.0162],\n",
       "        [0.1047, 0.0897, 0.3917,  ..., 0.5255, 0.2541, 0.1811],\n",
       "        [0.1837, 0.4579, 0.3457,  ..., 0.5792, 0.2585, 0.0412]])"
      ]
     },
     "execution_count": 179,
     "metadata": {},
     "output_type": "execute_result"
    }
   ],
   "source": [
    "c"
   ]
  },
  {
   "cell_type": "code",
   "execution_count": 180,
   "metadata": {
    "colab": {
     "base_uri": "https://localhost:8080/",
     "height": 141
    },
    "executionInfo": {
     "elapsed": 654,
     "status": "ok",
     "timestamp": 1603120794831,
     "user": {
      "displayName": "Deep Learning School",
      "photoUrl": "https://lh3.googleusercontent.com/a-/AOh14GhNf0RkP5WvkU5MixKfC1Sv3mb-9QWgAbC6VcfQvA=s64",
      "userId": "16549096980415837553"
     },
     "user_tz": -180
    },
    "id": "4DAN9MhDYKCh",
    "outputId": "dd7d1cd8-2f28-42fe-a601-58ff29d76ae2"
   },
   "outputs": [
    {
     "data": {
      "text/plain": [
       "tensor([[0.7974, 0.7477, 0.9158,  ..., 0.6534, 0.7123, 0.5846],\n",
       "        [0.3499, 0.7511, 0.6645,  ..., 0.8670, 0.2843, 0.9843],\n",
       "        [0.3718, 0.5864, 0.4650,  ..., 0.9789, 0.0725, 0.5434],\n",
       "        ...,\n",
       "        [0.3659, 0.1093, 0.4755,  ..., 0.8916, 0.7388, 0.0600],\n",
       "        [0.2385, 0.8582, 0.9019,  ..., 0.7927, 0.6332, 0.7463],\n",
       "        [0.4485, 0.6426, 0.9673,  ..., 0.5941, 0.2780, 0.2118]])"
      ]
     },
     "execution_count": 180,
     "metadata": {},
     "output_type": "execute_result"
    }
   ],
   "source": [
    "a"
   ]
  },
  {
   "cell_type": "markdown",
   "metadata": {
    "id": "xWc-PiA9YKCi"
   },
   "source": [
    "Tensors placed on CPU and tensors placed on GPU are unavailable for each other:"
   ]
  },
  {
   "cell_type": "code",
   "execution_count": 181,
   "metadata": {
    "executionInfo": {
     "elapsed": 2215,
     "status": "ok",
     "timestamp": 1603120800163,
     "user": {
      "displayName": "Deep Learning School",
      "photoUrl": "https://lh3.googleusercontent.com/a-/AOh14GhNf0RkP5WvkU5MixKfC1Sv3mb-9QWgAbC6VcfQvA=s64",
      "userId": "16549096980415837553"
     },
     "user_tz": -180
    },
    "id": "1lwV1sgSYKCi"
   },
   "outputs": [],
   "source": [
    "a = torch.FloatTensor(10000, 10000).uniform_().cpu()\n",
    "b = torch.FloatTensor(10000, 10000).uniform_().cuda()"
   ]
  },
  {
   "cell_type": "code",
   "execution_count": 182,
   "metadata": {
    "colab": {
     "base_uri": "https://localhost:8080/",
     "height": 168
    },
    "executionInfo": {
     "elapsed": 1194,
     "status": "error",
     "timestamp": 1603120804608,
     "user": {
      "displayName": "Deep Learning School",
      "photoUrl": "https://lh3.googleusercontent.com/a-/AOh14GhNf0RkP5WvkU5MixKfC1Sv3mb-9QWgAbC6VcfQvA=s64",
      "userId": "16549096980415837553"
     },
     "user_tz": -180
    },
    "id": "G6tYdYtTYKCj",
    "outputId": "57b932e1-dd98-4fff-bb2c-c63c15e2f216"
   },
   "outputs": [
    {
     "ename": "RuntimeError",
     "evalue": "Expected all tensors to be on the same device, but found at least two devices, cuda:0 and cpu!",
     "output_type": "error",
     "traceback": [
      "\u001b[1;31m---------------------------------------------------------------------------\u001b[0m",
      "\u001b[1;31mRuntimeError\u001b[0m                              Traceback (most recent call last)",
      "\u001b[1;32m<ipython-input-182-bd58363a63fc>\u001b[0m in \u001b[0;36m<module>\u001b[1;34m\u001b[0m\n\u001b[1;32m----> 1\u001b[1;33m \u001b[0ma\u001b[0m \u001b[1;33m+\u001b[0m \u001b[0mb\u001b[0m\u001b[1;33m\u001b[0m\u001b[1;33m\u001b[0m\u001b[0m\n\u001b[0m",
      "\u001b[1;31mRuntimeError\u001b[0m: Expected all tensors to be on the same device, but found at least two devices, cuda:0 and cpu!"
     ]
    }
   ],
   "source": [
    "a + b"
   ]
  },
  {
   "cell_type": "code",
   "execution_count": 183,
   "metadata": {},
   "outputs": [
    {
     "name": "stdout",
     "output_type": "stream",
     "text": [
      "Sun Nov 01 18:12:06 2020       \n",
      "+-----------------------------------------------------------------------------+\n",
      "| NVIDIA-SMI 456.71       Driver Version: 456.71       CUDA Version: 11.1     |\n",
      "|-------------------------------+----------------------+----------------------+\n",
      "| GPU  Name            TCC/WDDM | Bus-Id        Disp.A | Volatile Uncorr. ECC |\n",
      "| Fan  Temp  Perf  Pwr:Usage/Cap|         Memory-Usage | GPU-Util  Compute M. |\n",
      "|===============================+======================+======================|\n",
      "|   0  GeForce GTX 1050   WDDM  | 00000000:01:00.0 Off |                  N/A |\n",
      "| N/A   51C    P8    N/A /  N/A |   1656MiB /  4096MiB |      0%      Default |\n",
      "+-------------------------------+----------------------+----------------------+\n",
      "                                                                               \n",
      "+-----------------------------------------------------------------------------+\n",
      "| Processes:                                                                  |\n",
      "|  GPU   GI   CI        PID   Type   Process name                  GPU Memory |\n",
      "|        ID   ID                                                   Usage      |\n",
      "|=============================================================================|\n",
      "|    0   N/A  N/A       984      C   ...s\\experimental\\python.exe    N/A      |\n",
      "|    0   N/A  N/A      8664    C+G   ...cw5n1h2txyewy\\LockApp.exe    N/A      |\n",
      "|    0   N/A  N/A     10904    C+G   ...nputApp\\TextInputHost.exe    N/A      |\n",
      "|    0   N/A  N/A     12136    C+G   ...ekyb3d8bbwe\\YourPhone.exe    N/A      |\n",
      "|    0   N/A  N/A     12772    C+G   ...5n1h2txyewy\\SearchApp.exe    N/A      |\n",
      "+-----------------------------------------------------------------------------+\n"
     ]
    }
   ],
   "source": [
    "!C:\\Program Files\\NVIDIA Corporation\\NVSMI\\nvidia-smi.exe"
   ]
  },
  {
   "cell_type": "markdown",
   "metadata": {
    "id": "QEtwaIxDYKCk"
   },
   "source": [
    "Example of working with GPU:"
   ]
  },
  {
   "cell_type": "code",
   "execution_count": 142,
   "metadata": {
    "executionInfo": {
     "elapsed": 650,
     "status": "ok",
     "timestamp": 1603120857982,
     "user": {
      "displayName": "Deep Learning School",
      "photoUrl": "https://lh3.googleusercontent.com/a-/AOh14GhNf0RkP5WvkU5MixKfC1Sv3mb-9QWgAbC6VcfQvA=s64",
      "userId": "16549096980415837553"
     },
     "user_tz": -180
    },
    "id": "PRmnPD5EcpcF"
   },
   "outputs": [],
   "source": [
    "device = 'cuda' if torch.cuda.is_available() else 'cpu'"
   ]
  },
  {
   "cell_type": "code",
   "execution_count": 184,
   "metadata": {
    "colab": {
     "base_uri": "https://localhost:8080/",
     "height": 1000
    },
    "executionInfo": {
     "elapsed": 680,
     "status": "ok",
     "timestamp": 1603120814511,
     "user": {
      "displayName": "Deep Learning School",
      "photoUrl": "https://lh3.googleusercontent.com/a-/AOh14GhNf0RkP5WvkU5MixKfC1Sv3mb-9QWgAbC6VcfQvA=s64",
      "userId": "16549096980415837553"
     },
     "user_tz": -180
    },
    "id": "bJgVfAbUYKCk",
    "outputId": "508456c9-425c-412e-fb82-7adcb5b1635b",
    "scrolled": false
   },
   "outputs": [
    {
     "name": "stdout",
     "output_type": "stream",
     "text": [
      "tensor([[[1.9171, 1.4924, 1.2775, 1.3370, 1.7657],\n",
      "         [1.4166, 1.4886, 1.2997, 1.4856, 1.1109],\n",
      "         [1.5624, 1.8475, 1.1704, 1.5501, 1.0254],\n",
      "         [1.3891, 1.6818, 1.2318, 1.4179, 1.8813],\n",
      "         [1.6201, 1.3546, 1.0568, 1.6245, 1.9274]],\n",
      "\n",
      "        [[1.6077, 1.8938, 1.7255, 1.0260, 1.9190],\n",
      "         [1.4375, 1.6503, 1.1976, 1.2413, 1.4312],\n",
      "         [1.7937, 1.0505, 1.1038, 1.5016, 1.2953],\n",
      "         [1.7730, 1.8593, 1.4844, 1.5695, 1.5929],\n",
      "         [1.8687, 1.1443, 1.2035, 1.3690, 1.1919]],\n",
      "\n",
      "        [[1.8983, 1.2353, 1.8339, 1.4238, 1.5287],\n",
      "         [1.5864, 1.7330, 1.6974, 1.4404, 1.1909],\n",
      "         [1.2580, 1.6599, 1.7189, 1.0217, 1.6256],\n",
      "         [1.5686, 1.8193, 1.3971, 1.7313, 1.2748],\n",
      "         [1.3910, 1.2446, 1.2601, 1.1429, 1.0369]],\n",
      "\n",
      "        [[1.1175, 1.0003, 1.7488, 1.6151, 1.1467],\n",
      "         [1.3869, 1.4248, 1.3807, 1.1932, 1.1630],\n",
      "         [1.0125, 1.1809, 1.2870, 1.9903, 1.7524],\n",
      "         [1.4348, 1.5187, 1.6921, 1.2976, 1.3963],\n",
      "         [1.8474, 1.3584, 1.8248, 1.9842, 1.7759]],\n",
      "\n",
      "        [[1.6471, 1.5706, 1.7903, 1.3214, 1.3029],\n",
      "         [1.7602, 1.4615, 1.2531, 1.4286, 1.8194],\n",
      "         [1.7276, 1.7601, 1.1479, 1.5422, 1.1692],\n",
      "         [1.2385, 1.1832, 1.9497, 1.3473, 1.9765],\n",
      "         [1.7501, 1.8374, 1.6056, 1.1092, 1.9007]]], device='cuda:0')\n",
      "tensor([[[1.9171, 1.4924, 1.2775, 1.3370, 1.7657],\n",
      "         [1.4166, 1.4886, 1.2997, 1.4856, 1.1109],\n",
      "         [1.5624, 1.8475, 1.1704, 1.5501, 1.0254],\n",
      "         [1.3891, 1.6818, 1.2318, 1.4179, 1.8813],\n",
      "         [1.6201, 1.3546, 1.0568, 1.6245, 1.9274]],\n",
      "\n",
      "        [[1.6077, 1.8938, 1.7255, 1.0260, 1.9190],\n",
      "         [1.4375, 1.6503, 1.1976, 1.2413, 1.4312],\n",
      "         [1.7937, 1.0505, 1.1038, 1.5016, 1.2953],\n",
      "         [1.7730, 1.8593, 1.4844, 1.5695, 1.5929],\n",
      "         [1.8687, 1.1443, 1.2035, 1.3690, 1.1919]],\n",
      "\n",
      "        [[1.8983, 1.2353, 1.8339, 1.4238, 1.5287],\n",
      "         [1.5864, 1.7330, 1.6974, 1.4404, 1.1909],\n",
      "         [1.2580, 1.6599, 1.7189, 1.0217, 1.6256],\n",
      "         [1.5686, 1.8193, 1.3971, 1.7313, 1.2748],\n",
      "         [1.3910, 1.2446, 1.2601, 1.1429, 1.0369]],\n",
      "\n",
      "        [[1.1175, 1.0003, 1.7488, 1.6151, 1.1467],\n",
      "         [1.3869, 1.4248, 1.3807, 1.1932, 1.1630],\n",
      "         [1.0125, 1.1809, 1.2870, 1.9903, 1.7524],\n",
      "         [1.4348, 1.5187, 1.6921, 1.2976, 1.3963],\n",
      "         [1.8474, 1.3584, 1.8248, 1.9842, 1.7759]],\n",
      "\n",
      "        [[1.6471, 1.5706, 1.7903, 1.3214, 1.3029],\n",
      "         [1.7602, 1.4615, 1.2531, 1.4286, 1.8194],\n",
      "         [1.7276, 1.7601, 1.1479, 1.5422, 1.1692],\n",
      "         [1.2385, 1.1832, 1.9497, 1.3473, 1.9765],\n",
      "         [1.7501, 1.8374, 1.6056, 1.1092, 1.9007]]], dtype=torch.float64)\n"
     ]
    }
   ],
   "source": [
    "x = torch.FloatTensor(5, 5, 5).uniform_()\n",
    "\n",
    "# check for CUDA availability (NVIDIA GPU)\n",
    "if torch.cuda.is_available():\n",
    "    # get the CUDA device name\n",
    "    device = torch.device('cuda')          # CUDA-device object\n",
    "    y = torch.ones_like(x, device=device)  # create a tensor on GPU\n",
    "    x = x.to(device)                       # or just `.to(\"cuda\")`\n",
    "    z = x + y\n",
    "    print(z)\n",
    "    # you can set the type while `.to` operation\n",
    "    print(z.to(\"cpu\", torch.double))"
   ]
  },
  {
   "cell_type": "markdown",
   "metadata": {
    "id": "iFg82MJIYKCl"
   },
   "source": [
    "## AutoGrad"
   ]
  },
  {
   "cell_type": "markdown",
   "metadata": {
    "id": "63BaBsy4iuwl"
   },
   "source": [
    "**Chain rule (a.k.a. backpropagation in NN)** used here\n",
    "\n",
    "Assume we have $f(w(\\theta))$\n",
    "$${\\frac  {\\partial{f}}{\\partial{\\theta}}}\n",
    "={\\frac  {\\partial{f}}{\\partial{w}}}\\cdot {\\frac  {\\partial{w}}{\\partial{\\theta}}}$$\n",
    "\n",
    "\n",
    "*Additional reading: In multidimentional case it is described by composition of partial derivatives:*\n",
    "$$\n",
    "D_\\theta(f\\circ w) = D_{w(\\theta)}(f)\\circ D_\\theta(w)\n",
    "$$\n",
    "\n",
    "Simple example of gradient propagation:\n",
    "\n",
    "$$y = \\sin \\left(x_2^2(x_1 + x_2)\\right)$$\n",
    "\n",
    "<img src=\"https://ars.els-cdn.com/content/image/1-s2.0-S0010465515004099-gr1.jpg\" width=700></img>\n"
   ]
  },
  {
   "cell_type": "markdown",
   "metadata": {
    "id": "udpOWYK-YKCm"
   },
   "source": [
    "The autograd package provides automatic differentiation for all operations on Tensors. It is a define-by-run framework, which means that your backprop is defined by how your code is run, and that every single iteration can be different."
   ]
  },
  {
   "cell_type": "markdown",
   "metadata": {
    "id": "AEDz971fYKCn"
   },
   "source": [
    "The examples:"
   ]
  },
  {
   "cell_type": "code",
   "execution_count": 185,
   "metadata": {
    "executionInfo": {
     "elapsed": 746,
     "status": "ok",
     "timestamp": 1603121213315,
     "user": {
      "displayName": "Deep Learning School",
      "photoUrl": "https://lh3.googleusercontent.com/a-/AOh14GhNf0RkP5WvkU5MixKfC1Sv3mb-9QWgAbC6VcfQvA=s64",
      "userId": "16549096980415837553"
     },
     "user_tz": -180
    },
    "id": "rYWqXsAjYKCn"
   },
   "outputs": [],
   "source": [
    "dtype = torch.float\n",
    "device = torch.device(\"cuda:0\")\n",
    "# device = torch.device(\"cuda:0\") # Uncomment this to run on GPU\n",
    "\n",
    "# N is batch size; D_in is input dimension;\n",
    "# H is hidden dimension; D_out is output dimension.\n",
    "N, D_in, H, D_out = 64, 3, 3, 10\n",
    "\n",
    "# Create random Tensors to hold input and outputs.\n",
    "# Setting requires_grad=False indicates that we do not need to compute gradients\n",
    "# with respect to these Tensors during the backward pass.\n",
    "x = torch.randn(N, D_in, device=device, dtype=dtype)\n",
    "y = torch.randn(N, D_out, device=device, dtype=dtype)\n",
    "\n",
    "# Create random Tensors for weights.\n",
    "# Setting requires_grad=True indicates that we want to compute gradients with\n",
    "# respect to these Tensors during the backward pass.\n",
    "w1 = torch.randn(D_in, H, device=device, dtype=dtype, requires_grad=True)\n",
    "w2 = torch.randn(H, D_out, device=device, dtype=dtype, requires_grad=True)"
   ]
  },
  {
   "cell_type": "code",
   "execution_count": 191,
   "metadata": {
    "executionInfo": {
     "elapsed": 615,
     "status": "ok",
     "timestamp": 1603121222035,
     "user": {
      "displayName": "Deep Learning School",
      "photoUrl": "https://lh3.googleusercontent.com/a-/AOh14GhNf0RkP5WvkU5MixKfC1Sv3mb-9QWgAbC6VcfQvA=s64",
      "userId": "16549096980415837553"
     },
     "user_tz": -180
    },
    "id": "cpDU8Q-LifdW"
   },
   "outputs": [],
   "source": [
    "y_pred = (x @ w1).clamp(min=0).matmul(w2)\n",
    "loss = (y_pred - y).pow(2).sum()\n",
    "# calculate the gradients\n",
    "loss.backward()"
   ]
  },
  {
   "cell_type": "code",
   "execution_count": 192,
   "metadata": {
    "colab": {
     "base_uri": "https://localhost:8080/",
     "height": 35
    },
    "executionInfo": {
     "elapsed": 625,
     "status": "ok",
     "timestamp": 1603121247943,
     "user": {
      "displayName": "Deep Learning School",
      "photoUrl": "https://lh3.googleusercontent.com/a-/AOh14GhNf0RkP5WvkU5MixKfC1Sv3mb-9QWgAbC6VcfQvA=s64",
      "userId": "16549096980415837553"
     },
     "user_tz": -180
    },
    "id": "T3vfuF-wXS8O",
    "outputId": "6475e43f-e094-496b-b6ae-518711588e60"
   },
   "outputs": [
    {
     "name": "stdout",
     "output_type": "stream",
     "text": [
      "tensor(5177.0791, device='cuda:0', grad_fn=<SumBackward0>)\n"
     ]
    }
   ],
   "source": [
    "print((y_pred - y).pow(2).sum())"
   ]
  },
  {
   "cell_type": "code",
   "execution_count": 193,
   "metadata": {
    "colab": {
     "base_uri": "https://localhost:8080/",
     "height": 177
    },
    "executionInfo": {
     "elapsed": 630,
     "status": "ok",
     "timestamp": 1603121287176,
     "user": {
      "displayName": "Deep Learning School",
      "photoUrl": "https://lh3.googleusercontent.com/a-/AOh14GhNf0RkP5WvkU5MixKfC1Sv3mb-9QWgAbC6VcfQvA=s64",
      "userId": "16549096980415837553"
     },
     "user_tz": -180
    },
    "id": "qLkn5C7JYKCp",
    "outputId": "1bddee02-5d5e-427b-ce2e-3d2bfde17c43"
   },
   "outputs": [
    {
     "data": {
      "text/plain": [
       "(tensor([[-2895.0518, -2362.5632,  -253.2938],\n",
       "         [-4769.1143,   745.9717,  1101.6697],\n",
       "         [ 5981.4360,  -647.6075,  1474.0074]], device='cuda:0'),\n",
       " tensor([[-6466.3081, -4575.3276,  2865.3179,    29.1463, -1250.5245,  1368.0175,\n",
       "           1911.7906,  -442.4739,  -438.8022,  3913.4792],\n",
       "         [-2800.9622, -2132.4246,  2075.8743,   378.9073, -2290.6816,   881.6855,\n",
       "           -493.3511,  -762.4221,  -507.5982,  1887.7528],\n",
       "         [-1900.1447, -2498.6084,   976.6660,  -105.8190, -1050.1217,   796.5729,\n",
       "            583.9490, -1075.5786,  -507.0028,  1423.9860]], device='cuda:0'))"
      ]
     },
     "execution_count": 193,
     "metadata": {},
     "output_type": "execute_result"
    }
   ],
   "source": [
    "w1.grad, w2.grad"
   ]
  },
  {
   "cell_type": "code",
   "execution_count": 195,
   "metadata": {
    "colab": {
     "base_uri": "https://localhost:8080/",
     "height": 72
    },
    "executionInfo": {
     "elapsed": 711,
     "status": "ok",
     "timestamp": 1603121300354,
     "user": {
      "displayName": "Deep Learning School",
      "photoUrl": "https://lh3.googleusercontent.com/a-/AOh14GhNf0RkP5WvkU5MixKfC1Sv3mb-9QWgAbC6VcfQvA=s64",
      "userId": "16549096980415837553"
     },
     "user_tz": -180
    },
    "id": "jr19Gh3ZU2Ws",
    "outputId": "ea5b1ad6-496d-4861-e2cc-db64477b4e60"
   },
   "outputs": [
    {
     "name": "stderr",
     "output_type": "stream",
     "text": [
      "<ipython-input-195-1b6eab4ce0af>:1: UserWarning: The .grad attribute of a Tensor that is not a leaf Tensor is being accessed. Its .grad attribute won't be populated during autograd.backward(). If you indeed want the gradient for a non-leaf Tensor, use .retain_grad() on the non-leaf Tensor. If you access the non-leaf Tensor by mistake, make sure you access the leaf Tensor instead. See github.com/pytorch/pytorch/pull/30531 for more informations.\n",
      "  loss.grad # can't access to non-leaf grad in AD tree\n"
     ]
    }
   ],
   "source": [
    "loss.grad # can't access to non-leaf grad in AD tree"
   ]
  },
  {
   "cell_type": "code",
   "execution_count": 196,
   "metadata": {
    "executionInfo": {
     "elapsed": 2517,
     "status": "ok",
     "timestamp": 1603121377044,
     "user": {
      "displayName": "Deep Learning School",
      "photoUrl": "https://lh3.googleusercontent.com/a-/AOh14GhNf0RkP5WvkU5MixKfC1Sv3mb-9QWgAbC6VcfQvA=s64",
      "userId": "16549096980415837553"
     },
     "user_tz": -180
    },
    "id": "9U4CN8EQSrrr"
   },
   "outputs": [],
   "source": [
    "# make the variable remember grad of loss\n",
    "y_pred = (x @ w1).clamp(min=0).matmul(w2)\n",
    "y_pred.retain_grad()\n",
    "\n",
    "loss = (y_pred - y).pow(2).sum()\n",
    "loss.retain_grad()\n",
    "\n",
    "loss.backward()"
   ]
  },
  {
   "cell_type": "code",
   "execution_count": 200,
   "metadata": {
    "colab": {
     "base_uri": "https://localhost:8080/",
     "height": 35
    },
    "executionInfo": {
     "elapsed": 797,
     "status": "ok",
     "timestamp": 1603121404993,
     "user": {
      "displayName": "Deep Learning School",
      "photoUrl": "https://lh3.googleusercontent.com/a-/AOh14GhNf0RkP5WvkU5MixKfC1Sv3mb-9QWgAbC6VcfQvA=s64",
      "userId": "16549096980415837553"
     },
     "user_tz": -180
    },
    "id": "IKj2jd0LSwI_",
    "outputId": "43ef3ab0-7e14-4943-922f-a3ca369d31bf"
   },
   "outputs": [
    {
     "data": {
      "text/plain": [
       "tensor(1., device='cuda:0')"
      ]
     },
     "execution_count": 200,
     "metadata": {},
     "output_type": "execute_result"
    }
   ],
   "source": [
    "loss.grad"
   ]
  },
  {
   "cell_type": "code",
   "execution_count": 201,
   "metadata": {
    "executionInfo": {
     "elapsed": 625,
     "status": "ok",
     "timestamp": 1603121349730,
     "user": {
      "displayName": "Deep Learning School",
      "photoUrl": "https://lh3.googleusercontent.com/a-/AOh14GhNf0RkP5WvkU5MixKfC1Sv3mb-9QWgAbC6VcfQvA=s64",
      "userId": "16549096980415837553"
     },
     "user_tz": -180
    },
    "id": "CYkrFbD5YKCq"
   },
   "outputs": [],
   "source": [
    "x.grad # doesn't require grad"
   ]
  },
  {
   "cell_type": "code",
   "execution_count": 203,
   "metadata": {
    "executionInfo": {
     "elapsed": 683,
     "status": "ok",
     "timestamp": 1603121350860,
     "user": {
      "displayName": "Deep Learning School",
      "photoUrl": "https://lh3.googleusercontent.com/a-/AOh14GhNf0RkP5WvkU5MixKfC1Sv3mb-9QWgAbC6VcfQvA=s64",
      "userId": "16549096980415837553"
     },
     "user_tz": -180
    },
    "id": "ouMNnbtXYKCr"
   },
   "outputs": [],
   "source": [
    "y.grad # doesn't require grad"
   ]
  },
  {
   "cell_type": "markdown",
   "metadata": {
    "id": "DIsqxWIvYKCs"
   },
   "source": [
    "**NOTE:** the gradients are placed into the `.grad` field of tensors (variables) on which gradients were calculated. Gradients *are not placed* in the variable `loss` here!"
   ]
  },
  {
   "cell_type": "code",
   "execution_count": 204,
   "metadata": {
    "colab": {
     "base_uri": "https://localhost:8080/",
     "height": 70
    },
    "executionInfo": {
     "elapsed": 606,
     "status": "ok",
     "timestamp": 1603121420783,
     "user": {
      "displayName": "Deep Learning School",
      "photoUrl": "https://lh3.googleusercontent.com/a-/AOh14GhNf0RkP5WvkU5MixKfC1Sv3mb-9QWgAbC6VcfQvA=s64",
      "userId": "16549096980415837553"
     },
     "user_tz": -180
    },
    "id": "5wU_TFedYKCt",
    "outputId": "e7e204a3-7da8-4ede-8906-e2ad805ca40c"
   },
   "outputs": [
    {
     "data": {
      "text/plain": [
       "tensor([[-1.2506, -2.5566, -0.5356],\n",
       "        [-2.7956, -0.5421,  0.4560],\n",
       "        [ 1.8923, -0.0050,  1.5339]], device='cuda:0', requires_grad=True)"
      ]
     },
     "execution_count": 204,
     "metadata": {},
     "output_type": "execute_result"
    }
   ],
   "source": [
    "w1"
   ]
  },
  {
   "cell_type": "code",
   "execution_count": 205,
   "metadata": {
    "executionInfo": {
     "elapsed": 413,
     "status": "ok",
     "timestamp": 1603121421894,
     "user": {
      "displayName": "Deep Learning School",
      "photoUrl": "https://lh3.googleusercontent.com/a-/AOh14GhNf0RkP5WvkU5MixKfC1Sv3mb-9QWgAbC6VcfQvA=s64",
      "userId": "16549096980415837553"
     },
     "user_tz": -180
    },
    "id": "UhhUL-mwTKaZ"
   },
   "outputs": [],
   "source": [
    "with torch.no_grad():\n",
    "    pass"
   ]
  },
  {
   "cell_type": "markdown",
   "metadata": {
    "id": "J094WEHQYKCv"
   },
   "source": [
    "<h3 style=\"text-align: center;\">Further reading:<b></b></h3>"
   ]
  },
  {
   "cell_type": "markdown",
   "metadata": {
    "id": "ftVUTfvUYKCv"
   },
   "source": [
    "*1). Official PyTorch tutorials: https://pytorch.org/tutorials/beginner/blitz/tensor_tutorial.html#sphx-glr-beginner-blitz-tensor-tutorial-py*"
   ]
  },
  {
   "cell_type": "markdown",
   "metadata": {
    "id": "ovymy5F6YKCw"
   },
   "source": [
    "*2). arXiv article about the deep learning frameworks comparison: https://arxiv.org/pdf/1511.06435.pdf*"
   ]
  },
  {
   "cell_type": "markdown",
   "metadata": {
    "id": "VXEEowQAYKCx"
   },
   "source": [
    "*3). Useful repo with different tutorials: https://github.com/yunjey/pytorch-tutorial*"
   ]
  },
  {
   "cell_type": "markdown",
   "metadata": {
    "id": "9cROZcrYYKC0"
   },
   "source": [
    "*4). Facebook AI Research (main contributor of PyTorch) website: https://facebook.ai/developers/tools*"
   ]
  }
 ],
 "metadata": {
  "accelerator": "GPU",
  "colab": {
   "collapsed_sections": [],
   "name": "[seminar, adv]pytorch_basics.ipynb",
   "provenance": [
    {
     "file_id": "1Aq2WDr8ocV0DFHAxLu7wPOai06a3HyV_",
     "timestamp": 1602968047490
    },
    {
     "file_id": "1YHD8xFT3QC5H6MZwnmv89Q93k1k0MfCV",
     "timestamp": 1602951080295
    },
    {
     "file_id": "1xBkndRb9dYUgCtS98x2bCF170VFMMubl",
     "timestamp": 1572021903909
    }
   ],
   "toc_visible": true
  },
  "kernelspec": {
   "display_name": "Python 3",
   "language": "python",
   "name": "python3"
  },
  "language_info": {
   "codemirror_mode": {
    "name": "ipython",
    "version": 3
   },
   "file_extension": ".py",
   "mimetype": "text/x-python",
   "name": "python",
   "nbconvert_exporter": "python",
   "pygments_lexer": "ipython3",
   "version": "3.8.5"
  },
  "toc": {
   "base_numbering": 1,
   "nav_menu": {},
   "number_sections": false,
   "sideBar": true,
   "skip_h1_title": false,
   "title_cell": "Table of Contents",
   "title_sidebar": "Contents",
   "toc_cell": false,
   "toc_position": {},
   "toc_section_display": true,
   "toc_window_display": false
  },
  "varInspector": {
   "cols": {
    "lenName": 16,
    "lenType": 16,
    "lenVar": 40
   },
   "kernels_config": {
    "python": {
     "delete_cmd_postfix": "",
     "delete_cmd_prefix": "del ",
     "library": "var_list.py",
     "varRefreshCmd": "print(var_dic_list())"
    },
    "r": {
     "delete_cmd_postfix": ") ",
     "delete_cmd_prefix": "rm(",
     "library": "var_list.r",
     "varRefreshCmd": "cat(var_dic_list()) "
    }
   },
   "types_to_exclude": [
    "module",
    "function",
    "builtin_function_or_method",
    "instance",
    "_Feature"
   ],
   "window_display": false
  }
 },
 "nbformat": 4,
 "nbformat_minor": 1
}
